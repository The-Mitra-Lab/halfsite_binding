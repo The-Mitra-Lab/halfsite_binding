{
 "cells": [
  {
   "cell_type": "markdown",
   "metadata": {},
   "source": [
    "# Analyze Sort-seq\n",
    "Sort-seq library question 2: Does TF expression increase monotonically with half site number?\n",
    "\n",
    "This module analyzes sort-seq data and made Figure 5B in Recio et al., \n",
    "\n",
    "Code written by PSR"
   ]
  },
  {
   "cell_type": "code",
   "execution_count": 1,
   "metadata": {},
   "outputs": [],
   "source": [
    "import pandas as pd\n",
    "import statistics as stat\n",
    "import matplotlib.pyplot as plt\n",
    "import numpy as np\n",
    "import math\n",
    "import scipy \n",
    "import itertools\n",
    "import seaborn as sns\n",
    "import statannotations\n",
    "import statsmodels.api as sm\n",
    "from statsmodels.formula.api import ols\n",
    "from statannotations.Annotator import Annotator\n",
    "from scipy import stats\n",
    "from analyze_sig_hits_v2 import *\n",
    "from analyze_sort_seq import *\n",
    "from bioinfokit.analys import stat"
   ]
  },
  {
   "cell_type": "code",
   "execution_count": 2,
   "metadata": {},
   "outputs": [],
   "source": [
    "def make_sns_boxplot(df, xvalue, yvalue, color, hue_value, output_file, xl, yl):\n",
    "    \"\"\" This function makes a boxplot\"\"\"\n",
    "    ax = sns.boxplot(x=xvalue, y=yvalue, data=df, hue = hue_value, palette= color, showfliers = True)\n",
    "    ax.set_ylim([-1000, 7500])\n",
    "    ax.set_xlabel(xl)\n",
    "    ax.set_ylabel(yl)\n",
    "    #plt.show()\n",
    "    plt.savefig(output_file, bbox_inches='tight')"
   ]
  },
  {
   "cell_type": "markdown",
   "metadata": {},
   "source": [
    "Analyze individual promoter expression data"
   ]
  },
  {
   "cell_type": "code",
   "execution_count": 9,
   "metadata": {},
   "outputs": [],
   "source": [
    "expression_file = \"L4_gal4_anova_analysis.csv\"\n",
    "expression_file2 = \"L4_leu3_anova.csv\"\n",
    "expression_file3 = \"L4_tea1_anova.csv\"\n",
    "expression_file4 = \"L4_yrm1_final.csv\"\n",
    "\n",
    "\n",
    "expression_ko_file = \"L4_gal4KO_anova_analysis.csv\"\n",
    "expression_ko_file2 = \"L4_leu3_ko.csv\"\n",
    "expression_ko_file3 = \"L4_tea1_ko.csv\"\n",
    "expression_ko_file4 = \"L4_yrm1_ko.csv\"\n",
    "\n",
    "\n",
    "\n",
    "\n",
    "df = pd.read_csv(expression_file, header= None)\n",
    "df_ko = pd.read_csv(expression_ko_file2, header= None)\n",
    "\n",
    "\n",
    "filter_out = \"GAL\"\n",
    "filter_out2 = \"GID8\"\n",
    "\n",
    "df = df.loc[(~df[1].str.contains(filter_out))& (~df[1].str.contains(filter_out2))]\n",
    "df_ko = df_ko.loc[(~df_ko[1].str.contains(filter_out))& (~df_ko[1].str.contains(filter_out2))]\n",
    "\n",
    "\n",
    "\n",
    "df.columns = ['Sequence_type', 'Promoter', 'halfsite_num', 'Expression']\n",
    "df_ko.columns = ['Sequence_type', 'Promoter', 'halfsite_num', 'Expression']\n",
    "\n",
    "df[\"Expression\"] = pd.to_numeric(df[\"Expression\"])\n",
    "df_ko[\"Expression\"] = pd.to_numeric(df_ko[\"Expression\"])\n",
    "\n"
   ]
  },
  {
   "cell_type": "code",
   "execution_count": 10,
   "metadata": {},
   "outputs": [
    {
     "data": {
      "text/html": [
       "<div>\n",
       "<style scoped>\n",
       "    .dataframe tbody tr th:only-of-type {\n",
       "        vertical-align: middle;\n",
       "    }\n",
       "\n",
       "    .dataframe tbody tr th {\n",
       "        vertical-align: top;\n",
       "    }\n",
       "\n",
       "    .dataframe thead th {\n",
       "        text-align: right;\n",
       "    }\n",
       "</style>\n",
       "<table border=\"1\" class=\"dataframe\">\n",
       "  <thead>\n",
       "    <tr style=\"text-align: right;\">\n",
       "      <th></th>\n",
       "      <th>Sequence_type</th>\n",
       "      <th>Promoter</th>\n",
       "      <th>halfsite_num</th>\n",
       "      <th>Expression</th>\n",
       "    </tr>\n",
       "  </thead>\n",
       "  <tbody>\n",
       "    <tr>\n",
       "      <td>0</td>\n",
       "      <td>WT</td>\n",
       "      <td>ADR1pr_reg1</td>\n",
       "      <td>15</td>\n",
       "      <td>8721.071522</td>\n",
       "    </tr>\n",
       "    <tr>\n",
       "      <td>1</td>\n",
       "      <td>WT</td>\n",
       "      <td>HAP4pr_reg1</td>\n",
       "      <td>11</td>\n",
       "      <td>7831.710691</td>\n",
       "    </tr>\n",
       "    <tr>\n",
       "      <td>2</td>\n",
       "      <td>WT</td>\n",
       "      <td>STP4pr_reg1</td>\n",
       "      <td>10</td>\n",
       "      <td>4239.085211</td>\n",
       "    </tr>\n",
       "    <tr>\n",
       "      <td>6</td>\n",
       "      <td>mutCGG1</td>\n",
       "      <td>ADR1pr_reg1</td>\n",
       "      <td>0</td>\n",
       "      <td>675.510536</td>\n",
       "    </tr>\n",
       "    <tr>\n",
       "      <td>7</td>\n",
       "      <td>mutCGG2</td>\n",
       "      <td>ADR1pr_reg1</td>\n",
       "      <td>0</td>\n",
       "      <td>4783.209415</td>\n",
       "    </tr>\n",
       "    <tr>\n",
       "      <td>...</td>\n",
       "      <td>...</td>\n",
       "      <td>...</td>\n",
       "      <td>...</td>\n",
       "      <td>...</td>\n",
       "    </tr>\n",
       "    <tr>\n",
       "      <td>1701</td>\n",
       "      <td>space_mutation</td>\n",
       "      <td>HAP4pr_reg1</td>\n",
       "      <td>7</td>\n",
       "      <td>1251.999401</td>\n",
       "    </tr>\n",
       "    <tr>\n",
       "      <td>1702</td>\n",
       "      <td>space_mutation</td>\n",
       "      <td>STP4pr_reg1</td>\n",
       "      <td>7</td>\n",
       "      <td>2931.382329</td>\n",
       "    </tr>\n",
       "    <tr>\n",
       "      <td>1705</td>\n",
       "      <td>space_mutation</td>\n",
       "      <td>ADR1pr_reg1</td>\n",
       "      <td>9</td>\n",
       "      <td>4095.898372</td>\n",
       "    </tr>\n",
       "    <tr>\n",
       "      <td>1706</td>\n",
       "      <td>space_mutation</td>\n",
       "      <td>HAP4pr_reg1</td>\n",
       "      <td>6</td>\n",
       "      <td>4577.902737</td>\n",
       "    </tr>\n",
       "    <tr>\n",
       "      <td>1707</td>\n",
       "      <td>space_mutation</td>\n",
       "      <td>STP4pr_reg1</td>\n",
       "      <td>7</td>\n",
       "      <td>4582.221596</td>\n",
       "    </tr>\n",
       "  </tbody>\n",
       "</table>\n",
       "<p>1149 rows × 4 columns</p>\n",
       "</div>"
      ],
      "text/plain": [
       "       Sequence_type     Promoter  halfsite_num   Expression\n",
       "0                 WT  ADR1pr_reg1            15  8721.071522\n",
       "1                 WT  HAP4pr_reg1            11  7831.710691\n",
       "2                 WT  STP4pr_reg1            10  4239.085211\n",
       "6            mutCGG1  ADR1pr_reg1             0   675.510536\n",
       "7            mutCGG2  ADR1pr_reg1             0  4783.209415\n",
       "...              ...          ...           ...          ...\n",
       "1701  space_mutation  HAP4pr_reg1             7  1251.999401\n",
       "1702  space_mutation  STP4pr_reg1             7  2931.382329\n",
       "1705  space_mutation  ADR1pr_reg1             9  4095.898372\n",
       "1706  space_mutation  HAP4pr_reg1             6  4577.902737\n",
       "1707  space_mutation  STP4pr_reg1             7  4582.221596\n",
       "\n",
       "[1149 rows x 4 columns]"
      ]
     },
     "execution_count": 10,
     "metadata": {},
     "output_type": "execute_result"
    }
   ],
   "source": [
    "df"
   ]
  },
  {
   "cell_type": "code",
   "execution_count": 16,
   "metadata": {},
   "outputs": [],
   "source": [
    "#filter_out2 = \"control\"\n",
    "wt_halfsitepr= df.loc[(df['Sequence_type']== \"WT\")]\n",
    "pr_names = wt_halfsitepr[\"Promoter\"].tolist()\n",
    "pr_names = list(set(pr_names))"
   ]
  },
  {
   "cell_type": "code",
   "execution_count": 17,
   "metadata": {},
   "outputs": [
    {
     "data": {
      "text/plain": [
       "['ADR1pr_reg1', 'STP4pr_reg1', 'HAP4pr_reg1']"
      ]
     },
     "execution_count": 17,
     "metadata": {},
     "output_type": "execute_result"
    }
   ],
   "source": [
    "pr_names"
   ]
  },
  {
   "cell_type": "code",
   "execution_count": 18,
   "metadata": {},
   "outputs": [],
   "source": [
    "site_mut = []\n",
    "site_mutko = []\n"
   ]
  },
  {
   "cell_type": "code",
   "execution_count": 19,
   "metadata": {},
   "outputs": [],
   "source": [
    "#make dataframes for all promoters and store in a list\n",
    "#def make_q2_promoter_df(df, pr_names):\n",
    "\n",
    "for i in pr_names: \n",
    "    a,b,c = make_q2_df(df, i)\n",
    "    a2,b2,c2 = make_q2_df(df_ko, i)\n",
    "    site_mut.append(a)\n",
    "    site_mutko.append(a2)\n",
    "\n",
    "\n",
    " \n",
    "    #return site_mut, rand_control, cg_control\n"
   ]
  },
  {
   "cell_type": "code",
   "execution_count": 20,
   "metadata": {},
   "outputs": [
    {
     "data": {
      "text/plain": [
       "[      Sequence_type     Promoter  halfsite_num   Expression\n",
       " 26    site_mutation  ADR1pr_reg1             0   602.411344\n",
       " 27    site_mutation  ADR1pr_reg1             1  3281.608628\n",
       " 28    site_mutation  ADR1pr_reg1             1  1063.570684\n",
       " 29    site_mutation  ADR1pr_reg1             1  1072.972532\n",
       " 30    site_mutation  ADR1pr_reg1             1  1730.123847\n",
       " ...             ...          ...           ...          ...\n",
       " 1253  site_mutation  ADR1pr_reg1            14  4606.556839\n",
       " 1254  site_mutation  ADR1pr_reg1            14  5954.909499\n",
       " 1255  site_mutation  ADR1pr_reg1            14  6081.517994\n",
       " 1256  site_mutation  ADR1pr_reg1            14  5735.838910\n",
       " 1257  site_mutation  ADR1pr_reg1            15  7694.582828\n",
       " \n",
       " [276 rows x 4 columns],\n",
       "       Sequence_type     Promoter  halfsite_num   Expression\n",
       " 182   site_mutation  STP4pr_reg1             0   841.346873\n",
       " 183   site_mutation  STP4pr_reg1             1  1510.866388\n",
       " 184   site_mutation  STP4pr_reg1             1   680.894841\n",
       " 185   site_mutation  STP4pr_reg1             1   905.561458\n",
       " 186   site_mutation  STP4pr_reg1             1   733.400081\n",
       " ...             ...          ...           ...          ...\n",
       " 1374  site_mutation  STP4pr_reg1             9  6078.079421\n",
       " 1375  site_mutation  STP4pr_reg1             9  3389.716556\n",
       " 1376  site_mutation  STP4pr_reg1             9  4574.386965\n",
       " 1377  site_mutation  STP4pr_reg1             9  3360.187171\n",
       " 1378  site_mutation  STP4pr_reg1            10  2903.889335\n",
       " \n",
       " [171 rows x 4 columns],\n",
       "       Sequence_type     Promoter  halfsite_num   Expression\n",
       " 118   site_mutation  HAP4pr_reg1             0  1990.113301\n",
       " 119   site_mutation  HAP4pr_reg1             1   959.429257\n",
       " 120   site_mutation  HAP4pr_reg1             1   671.609746\n",
       " 121   site_mutation  HAP4pr_reg1             1   967.636053\n",
       " 122   site_mutation  HAP4pr_reg1             1   766.004647\n",
       " ...             ...          ...           ...          ...\n",
       " 1317  site_mutation  HAP4pr_reg1            10  4598.235585\n",
       " 1318  site_mutation  HAP4pr_reg1            10  4825.387216\n",
       " 1319  site_mutation  HAP4pr_reg1            10  3115.678033\n",
       " 1320  site_mutation  HAP4pr_reg1            10  5340.587048\n",
       " 1321  site_mutation  HAP4pr_reg1            11  6361.447313\n",
       " \n",
       " [192 rows x 4 columns]]"
      ]
     },
     "execution_count": 20,
     "metadata": {},
     "output_type": "execute_result"
    }
   ],
   "source": [
    "site_mut"
   ]
  },
  {
   "cell_type": "code",
   "execution_count": 14,
   "metadata": {},
   "outputs": [
    {
     "name": "stderr",
     "output_type": "stream",
     "text": [
      "/Users/pamelarecio/opt/anaconda3/lib/python3.7/site-packages/ipykernel_launcher.py:1: SettingWithCopyWarning: \n",
      "A value is trying to be set on a copy of a slice from a DataFrame.\n",
      "Try using .loc[row_indexer,col_indexer] = value instead\n",
      "\n",
      "See the caveats in the documentation: http://pandas.pydata.org/pandas-docs/stable/user_guide/indexing.html#returning-a-view-versus-a-copy\n",
      "  \"\"\"Entry point for launching an IPython kernel.\n",
      "/Users/pamelarecio/opt/anaconda3/lib/python3.7/site-packages/ipykernel_launcher.py:2: SettingWithCopyWarning: \n",
      "A value is trying to be set on a copy of a slice from a DataFrame.\n",
      "Try using .loc[row_indexer,col_indexer] = value instead\n",
      "\n",
      "See the caveats in the documentation: http://pandas.pydata.org/pandas-docs/stable/user_guide/indexing.html#returning-a-view-versus-a-copy\n",
      "  \n",
      "/Users/pamelarecio/opt/anaconda3/lib/python3.7/site-packages/ipykernel_launcher.py:3: SettingWithCopyWarning: \n",
      "A value is trying to be set on a copy of a slice from a DataFrame.\n",
      "Try using .loc[row_indexer,col_indexer] = value instead\n",
      "\n",
      "See the caveats in the documentation: http://pandas.pydata.org/pandas-docs/stable/user_guide/indexing.html#returning-a-view-versus-a-copy\n",
      "  This is separate from the ipykernel package so we can avoid doing imports until\n"
     ]
    }
   ],
   "source": [
    "site_mut[0][\"difference\"] = site_mut[0][\"Expression\"]-site_mutko[0][\"Expression\"]\n",
    "site_mut[1][\"difference\"] = site_mut[1][\"Expression\"]-site_mutko[1][\"Expression\"]\n",
    "site_mut[2][\"difference\"] = site_mut[2][\"Expression\"]-site_mutko[2][\"Expression\"]"
   ]
  },
  {
   "cell_type": "code",
   "execution_count": 15,
   "metadata": {},
   "outputs": [],
   "source": [
    "# site_mut[1][\"Expression\"] = pd.to_numeric(site_mut[1][\"Expression\"])"
   ]
  },
  {
   "cell_type": "code",
   "execution_count": 16,
   "metadata": {},
   "outputs": [
    {
     "data": {
      "text/html": [
       "<div>\n",
       "<style scoped>\n",
       "    .dataframe tbody tr th:only-of-type {\n",
       "        vertical-align: middle;\n",
       "    }\n",
       "\n",
       "    .dataframe tbody tr th {\n",
       "        vertical-align: top;\n",
       "    }\n",
       "\n",
       "    .dataframe thead th {\n",
       "        text-align: right;\n",
       "    }\n",
       "</style>\n",
       "<table border=\"1\" class=\"dataframe\">\n",
       "  <thead>\n",
       "    <tr style=\"text-align: right;\">\n",
       "      <th></th>\n",
       "      <th>Sequence_type</th>\n",
       "      <th>Promoter</th>\n",
       "      <th>halfsite_num</th>\n",
       "      <th>Expression</th>\n",
       "      <th>difference</th>\n",
       "    </tr>\n",
       "  </thead>\n",
       "  <tbody>\n",
       "    <tr>\n",
       "      <td>27</td>\n",
       "      <td>site_mutation</td>\n",
       "      <td>LEU3_Ipt1/Snf11pr</td>\n",
       "      <td>0</td>\n",
       "      <td>1831.950801</td>\n",
       "      <td>718.719457</td>\n",
       "    </tr>\n",
       "    <tr>\n",
       "      <td>28</td>\n",
       "      <td>site_mutation</td>\n",
       "      <td>LEU3_Ipt1/Snf11pr</td>\n",
       "      <td>1</td>\n",
       "      <td>2611.841421</td>\n",
       "      <td>1222.760576</td>\n",
       "    </tr>\n",
       "    <tr>\n",
       "      <td>29</td>\n",
       "      <td>site_mutation</td>\n",
       "      <td>LEU3_Ipt1/Snf11pr</td>\n",
       "      <td>1</td>\n",
       "      <td>1952.123898</td>\n",
       "      <td>131.661106</td>\n",
       "    </tr>\n",
       "    <tr>\n",
       "      <td>30</td>\n",
       "      <td>site_mutation</td>\n",
       "      <td>LEU3_Ipt1/Snf11pr</td>\n",
       "      <td>1</td>\n",
       "      <td>3324.998877</td>\n",
       "      <td>555.261510</td>\n",
       "    </tr>\n",
       "    <tr>\n",
       "      <td>31</td>\n",
       "      <td>site_mutation</td>\n",
       "      <td>LEU3_Ipt1/Snf11pr</td>\n",
       "      <td>1</td>\n",
       "      <td>1712.516873</td>\n",
       "      <td>401.713980</td>\n",
       "    </tr>\n",
       "    <tr>\n",
       "      <td>...</td>\n",
       "      <td>...</td>\n",
       "      <td>...</td>\n",
       "      <td>...</td>\n",
       "      <td>...</td>\n",
       "      <td>...</td>\n",
       "    </tr>\n",
       "    <tr>\n",
       "      <td>974</td>\n",
       "      <td>site_mutation</td>\n",
       "      <td>LEU3_Ipt1/Snf11pr</td>\n",
       "      <td>8</td>\n",
       "      <td>2983.320680</td>\n",
       "      <td>724.471217</td>\n",
       "    </tr>\n",
       "    <tr>\n",
       "      <td>975</td>\n",
       "      <td>site_mutation</td>\n",
       "      <td>LEU3_Ipt1/Snf11pr</td>\n",
       "      <td>8</td>\n",
       "      <td>3101.703131</td>\n",
       "      <td>-314.733578</td>\n",
       "    </tr>\n",
       "    <tr>\n",
       "      <td>976</td>\n",
       "      <td>site_mutation</td>\n",
       "      <td>LEU3_Ipt1/Snf11pr</td>\n",
       "      <td>8</td>\n",
       "      <td>3055.847127</td>\n",
       "      <td>1147.942480</td>\n",
       "    </tr>\n",
       "    <tr>\n",
       "      <td>977</td>\n",
       "      <td>site_mutation</td>\n",
       "      <td>LEU3_Ipt1/Snf11pr</td>\n",
       "      <td>8</td>\n",
       "      <td>2344.990622</td>\n",
       "      <td>540.364153</td>\n",
       "    </tr>\n",
       "    <tr>\n",
       "      <td>978</td>\n",
       "      <td>site_mutation</td>\n",
       "      <td>LEU3_Ipt1/Snf11pr</td>\n",
       "      <td>9</td>\n",
       "      <td>3153.681246</td>\n",
       "      <td>1284.289083</td>\n",
       "    </tr>\n",
       "  </tbody>\n",
       "</table>\n",
       "<p>150 rows × 5 columns</p>\n",
       "</div>"
      ],
      "text/plain": [
       "     Sequence_type           Promoter  halfsite_num   Expression   difference\n",
       "27   site_mutation  LEU3_Ipt1/Snf11pr             0  1831.950801   718.719457\n",
       "28   site_mutation  LEU3_Ipt1/Snf11pr             1  2611.841421  1222.760576\n",
       "29   site_mutation  LEU3_Ipt1/Snf11pr             1  1952.123898   131.661106\n",
       "30   site_mutation  LEU3_Ipt1/Snf11pr             1  3324.998877   555.261510\n",
       "31   site_mutation  LEU3_Ipt1/Snf11pr             1  1712.516873   401.713980\n",
       "..             ...                ...           ...          ...          ...\n",
       "974  site_mutation  LEU3_Ipt1/Snf11pr             8  2983.320680   724.471217\n",
       "975  site_mutation  LEU3_Ipt1/Snf11pr             8  3101.703131  -314.733578\n",
       "976  site_mutation  LEU3_Ipt1/Snf11pr             8  3055.847127  1147.942480\n",
       "977  site_mutation  LEU3_Ipt1/Snf11pr             8  2344.990622   540.364153\n",
       "978  site_mutation  LEU3_Ipt1/Snf11pr             9  3153.681246  1284.289083\n",
       "\n",
       "[150 rows x 5 columns]"
      ]
     },
     "execution_count": 16,
     "metadata": {},
     "output_type": "execute_result"
    }
   ],
   "source": [
    "site_mut[2]"
   ]
  },
  {
   "cell_type": "code",
   "execution_count": 19,
   "metadata": {},
   "outputs": [
    {
     "data": {
      "image/png": "[encoded data removed]",
      "text/plain": [
       "<Figure size 432x288 with 1 Axes>"
      ]
     },
     "metadata": {
      "needs_background": "light"
     },
     "output_type": "display_data"
    }
   ],
   "source": [
    "#ax = sns.boxplot(x=\"halfsite_num\", y=\"difference\", data=site_mut[1], palette= \"rocket\", showfliers = False)\n",
    "\n",
    "def make_sns_boxplot(df, xvalue, yvalue, color, hue_value, output_file, xl, yl):\n",
    "    ax = sns.boxplot(x=xvalue, y=yvalue, data=df, hue = hue_value, palette= color, showfliers = True)\n",
    "    ax.set_ylim([-1000, 7500])\n",
    "    ax.set_xlabel(xl)\n",
    "    ax.set_ylabel(yl)\n",
    "    #plt.show()\n",
    "    plt.savefig(output_file, bbox_inches='tight')\n",
    "    \n",
    "make_sns_boxplot(site_mut[2], \"halfsite_num\", \"difference\", \"rocket\", None, \"q2_leu3_ipt1_snf11_ko.pdf\", 'x', 'y')\n",
    "\n",
    "\n",
    "\n",
    "\n",
    "\n",
    "\n",
    "\n"
   ]
  },
  {
   "cell_type": "code",
   "execution_count": 134,
   "metadata": {},
   "outputs": [
    {
     "data": {
      "image/png": "[encoded data removed]",
      "text/plain": [
       "<Figure size 432x288 with 1 Axes>"
      ]
     },
     "metadata": {
      "needs_background": "light"
     },
     "output_type": "display_data"
    }
   ],
   "source": [
    "make_sns_boxplot(site_mut[1], \"halfsite_num\", \"Expression\", \"rocket\", None, \"q2_leu3_mdh2_sitemut.pdf\", '', '')\n",
    "\n"
   ]
  },
  {
   "cell_type": "code",
   "execution_count": 20,
   "metadata": {},
   "outputs": [
    {
     "data": {
      "image/png": "[encoded data removed]",
      "text/plain": [
       "<Figure size 432x288 with 1 Axes>"
      ]
     },
     "metadata": {
      "needs_background": "light"
     },
     "output_type": "display_data"
    }
   ],
   "source": [
    "make_sns_boxplot(site_mut[2], \"halfsite_num\", \"Expression\", \"rocket\", None, \"q2_stp4_sitemut.pdf\", 'Number of half-sites', 'Relative Expression of Gal4p promoter sequences')"
   ]
  },
  {
   "cell_type": "code",
   "execution_count": 86,
   "metadata": {},
   "outputs": [
    {
     "data": {
      "image/png": "[encoded data removed]",
      "text/plain": [
       "<Figure size 432x288 with 1 Axes>"
      ]
     },
     "metadata": {
      "needs_background": "light"
     },
     "output_type": "display_data"
    }
   ],
   "source": [
    "make_sns_boxplot(site_mut[2], \"halfsite_num\", \"Expression\", \"rocket\", None, \"q2_leu3_sod1_ado1_sitemut.pdf\", \"\", \"\")"
   ]
  },
  {
   "cell_type": "markdown",
   "metadata": {},
   "source": [
    "Analyze combined promoter expression data"
   ]
  },
  {
   "cell_type": "code",
   "execution_count": 41,
   "metadata": {},
   "outputs": [],
   "source": [
    "controls_rand_combined = df.loc[(df['Sequence_type']== \"WT\")|df['Sequence_type'].str.contains(\"random_site_mutation\")]\n",
    "controls_cg_combined = df.loc[(df['Sequence_type']== \"WT\")|df['Sequence_type'].str.contains(\"site_mutation_CG\")]"
   ]
  },
  {
   "cell_type": "code",
   "execution_count": 42,
   "metadata": {},
   "outputs": [],
   "source": [
    "halfsite_pr = df.loc[df['Sequence_type'].str.contains(\"site_mutation\")]\n",
    "halfsite_pr = halfsite_pr.loc[~df['Sequence_type'].str.contains(\"random\")]\n",
    "halfsite_pr = halfsite_pr.loc[~df['Sequence_type'].str.contains(\"CG\")]"
   ]
  },
  {
   "cell_type": "code",
   "execution_count": null,
   "metadata": {},
   "outputs": [],
   "source": []
  }
 ],
 "metadata": {
  "kernelspec": {
   "display_name": "Python 3",
   "language": "python",
   "name": "python3"
  },
  "language_info": {
   "codemirror_mode": {
    "name": "ipython",
    "version": 3
   },
   "file_extension": ".py",
   "mimetype": "text/x-python",
   "name": "python",
   "nbconvert_exporter": "python",
   "pygments_lexer": "ipython3",
   "version": "3.7.4"
  }
 },
 "nbformat": 4,
 "nbformat_minor": 2
}
