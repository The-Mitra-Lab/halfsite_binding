{
 "cells": [
  {
   "cell_type": "markdown",
   "metadata": {},
   "source": [
    "# Analyze Sort-seq\n",
    "\n",
    "Sort-seq library question 1: Do half sites regulate expression of promoters without a canonical site?\n",
    "\n",
    "This module analyzes the Sort-seq data and made Figure5A in Recio et al., \n",
    "\n",
    "Written by PSR"
   ]
  },
  {
   "cell_type": "code",
   "execution_count": 1,
   "metadata": {},
   "outputs": [],
   "source": [
    "import pandas as pd\n",
    "import statistics \n",
    "import matplotlib.pyplot as plt\n",
    "import numpy as np\n",
    "import math\n",
    "import scipy \n",
    "import itertools\n",
    "import seaborn as sns\n",
    "import statannotations\n",
    "import statsmodels.api as sm\n",
    "from statsmodels.formula.api import ols\n",
    "from statannotations.Annotator import Annotator\n",
    "from scipy import stats\n",
    "from analyze_sig_hits_v2 import *\n",
    "from analyze_sort_seq import *\n",
    "from bioinfokit.analys import stat"
   ]
  },
  {
   "cell_type": "code",
   "execution_count": 2,
   "metadata": {},
   "outputs": [],
   "source": [
    "#function that outputs log2 fc in expression \n",
    "#x = wt\n",
    "#y = mutant\n",
    "def log2_fc(X, Y):\n",
    "    z = (Y/X)\n",
    "    #return z \n",
    "    return math.log(z ,2)"
   ]
  },
  {
   "cell_type": "code",
   "execution_count": 3,
   "metadata": {},
   "outputs": [],
   "source": [
    "#function that takes the fc between two lists of means (mut/wt)\n",
    "def fc_list(list1, list2):\n",
    "    fc_list = []\n",
    "    zip_object = zip(list1, list2)\n",
    "    for list1_i, list2_i in zip_object:\n",
    "        fc_list.append(log2_fc(list1_i,list2_i))\n",
    "    return fc_list"
   ]
  },
  {
   "cell_type": "code",
   "execution_count": 4,
   "metadata": {},
   "outputs": [],
   "source": [
    "#functions for anova and tukey test \n",
    "def anova_table(df, outputfile):\n",
    "    model = ols('Expression ~ C(Sequence_type) + C(Promoter) + C(Sequence_type):C(Promoter)', data=df).fit()\n",
    "    anova_table = sm.stats.anova_lm(model, typ=2)\n",
    "    anova_table.to_csv(outputfile)\n",
    "def tukey_table(df, output_file):\n",
    "    res = stat()\n",
    "    res2 = stat()\n",
    "    res3 = stat()\n",
    "    res.tukey_hsd(df=df, res_var='Expression', xfac_var='Sequence_type', anova_model='Expression~C(Sequence_type)+C(Promoter)+C(Sequence_type):C(Promoter)')\n",
    "    res2.tukey_hsd(df=df, res_var='Expression', xfac_var='Promoter', anova_model='Expression ~ C(Sequence_type) + C(Promoter) + C(Sequence_type):C(Promoter)')\n",
    "    res3.tukey_hsd(df=df, res_var='Expression', xfac_var=['Sequence_type','Promoter'], anova_model='Expression ~ C(Sequence_type) + C(Promoter) + C(Sequence_type):C(Promoter)')\n",
    "    res3.tukey_summary.to_csv(\"Tukey\" + output_file)\n",
    "    #return res3.tukey_summary\n",
    "    \n"
   ]
  },
  {
   "cell_type": "code",
   "execution_count": 5,
   "metadata": {},
   "outputs": [],
   "source": [
    "def make_q2_df(df, pr_name):\n",
    "    \"This function makes a df of sequences with mutated half sites\"\n",
    "    promoter_q2 = df.loc[(df[\"Promoter\"]== pr_name) & (df[\"Sequence_type\"]== \"site_mutation\")]\n",
    "    promoter_q2_rand_cont = df.loc[(df[\"Promoter\"]== pr_name) & (df[\"Sequence_type\"]== \"random_site_mutation\")]\n",
    "    promoter_q2_CG_cont = df.loc[(df[\"Promoter\"]== pr_name) & (df[\"Sequence_type\"]== \"site_mutation_CG_maintain\")]\n",
    "\n",
    "    return promoter_q2, promoter_q2_rand_cont, promoter_q2_CG_cont\n",
    "\n",
    "def make_q1_df(df):\n",
    "    wt_halfsitepr= df.loc[(df['Sequence_type']== \"WT\") & ~df['Promoter'].str.contains(filter_out2)]\n",
    "    q1_df = df.loc[(df['Sequence_type']== \"WT\") & ~df['Promoter'].str.contains(filter_out2)| df['Sequence_type'].str.contains(\"mutCGG\") & ~df['Promoter'].str.contains(filter_out2)]\n",
    "    q1_df = q1_df.replace({'Sequence_type': {\"mutCGG1\": \"mutCGG\", \"mutCGG2\": \"mutCGG\"}})\n",
    "    return wt_halfsitepr, q1_df\n",
    "def make_q1_ran(df):\n",
    "    q1_ran_df = df.loc[ df['Sequence_type'].str.contains(\"ranmut\") & ~df['Promoter'].str.contains(filter_out2)]\n",
    "    q1_ran_df = q1_ran_df.replace({'Sequence_type': {\"ranmut1\": \"ranmut\", \"ranmut2\": \"ranmut\"}})\n",
    "    return q1_ran_df\n",
    "def get_q1_means(pr_cgg_df):\n",
    "    #wt_means = wt_halfsitepr['Expression'].tolist()\n",
    "    cgg_means = pr_cgg_df['Expression'].tolist()\n",
    "    #cgg2_means = pr_CGG2_q1['Expression'].tolist()\n",
    "    return cgg_means"
   ]
  },
  {
   "cell_type": "code",
   "execution_count": 6,
   "metadata": {},
   "outputs": [],
   "source": [
    "expression_file = \"L4_gal4_anova_analysis.csv\"\n",
    "expression_file2 = \"L4_leu3_anova.csv\"\n",
    "expression_file3 = \"L4_tea1_anova.csv\"\n",
    "expression_file4 = \"L4_yrm1_final.csv\""
   ]
  },
  {
   "cell_type": "code",
   "execution_count": 7,
   "metadata": {},
   "outputs": [],
   "source": [
    "expression_ko_file = \"L4_gal4KO_anova_analysis.csv\"\n",
    "expression_ko_file2 = \"L4_leu3_ko.csv\"\n",
    "expression_ko_file3 = \"L4_tea1_ko.csv\"\n",
    "expression_ko_file4 = \"L4_yrm1_ko.csv\""
   ]
  },
  {
   "cell_type": "code",
   "execution_count": 66,
   "metadata": {},
   "outputs": [],
   "source": [
    "df = pd.read_csv(expression_file, header= None)\n",
    "df_ko = pd.read_csv(expression_ko_file, header= None)\n",
    "\n",
    "\n",
    "df.columns = ['Sequence_type', 'Promoter', 'halfsite_num', 'Expression']\n",
    "df_ko.columns = ['Sequence_type', 'Promoter', 'halfsite_num', 'Expression']"
   ]
  },
  {
   "cell_type": "markdown",
   "metadata": {},
   "source": [
    "Question 1"
   ]
  },
  {
   "cell_type": "code",
   "execution_count": 67,
   "metadata": {},
   "outputs": [
    {
     "data": {
      "text/html": [
       "<div>\n",
       "<style scoped>\n",
       "    .dataframe tbody tr th:only-of-type {\n",
       "        vertical-align: middle;\n",
       "    }\n",
       "\n",
       "    .dataframe tbody tr th {\n",
       "        vertical-align: top;\n",
       "    }\n",
       "\n",
       "    .dataframe thead th {\n",
       "        text-align: right;\n",
       "    }\n",
       "</style>\n",
       "<table border=\"1\" class=\"dataframe\">\n",
       "  <thead>\n",
       "    <tr style=\"text-align: right;\">\n",
       "      <th></th>\n",
       "      <th>Sequence_type</th>\n",
       "      <th>Promoter</th>\n",
       "      <th>halfsite_num</th>\n",
       "      <th>Expression</th>\n",
       "    </tr>\n",
       "  </thead>\n",
       "  <tbody>\n",
       "    <tr>\n",
       "      <td>0</td>\n",
       "      <td>WT</td>\n",
       "      <td>ADR1pr_reg1</td>\n",
       "      <td>15</td>\n",
       "      <td>8721.071522</td>\n",
       "    </tr>\n",
       "    <tr>\n",
       "      <td>1</td>\n",
       "      <td>WT</td>\n",
       "      <td>HAP4pr_reg1</td>\n",
       "      <td>11</td>\n",
       "      <td>7831.710691</td>\n",
       "    </tr>\n",
       "    <tr>\n",
       "      <td>2</td>\n",
       "      <td>WT</td>\n",
       "      <td>STP4pr_reg1</td>\n",
       "      <td>10</td>\n",
       "      <td>4239.085211</td>\n",
       "    </tr>\n",
       "    <tr>\n",
       "      <td>3</td>\n",
       "      <td>WT</td>\n",
       "      <td>GID8pr_reg1</td>\n",
       "      <td>9</td>\n",
       "      <td>2854.170674</td>\n",
       "    </tr>\n",
       "    <tr>\n",
       "      <td>4</td>\n",
       "      <td>WT</td>\n",
       "      <td>GAL1_10pr</td>\n",
       "      <td>8</td>\n",
       "      <td>16441.696230</td>\n",
       "    </tr>\n",
       "    <tr>\n",
       "      <td>...</td>\n",
       "      <td>...</td>\n",
       "      <td>...</td>\n",
       "      <td>...</td>\n",
       "      <td>...</td>\n",
       "    </tr>\n",
       "    <tr>\n",
       "      <td>1705</td>\n",
       "      <td>space_mutation</td>\n",
       "      <td>ADR1pr_reg1</td>\n",
       "      <td>9</td>\n",
       "      <td>4095.898372</td>\n",
       "    </tr>\n",
       "    <tr>\n",
       "      <td>1706</td>\n",
       "      <td>space_mutation</td>\n",
       "      <td>HAP4pr_reg1</td>\n",
       "      <td>6</td>\n",
       "      <td>4577.902737</td>\n",
       "    </tr>\n",
       "    <tr>\n",
       "      <td>1707</td>\n",
       "      <td>space_mutation</td>\n",
       "      <td>STP4pr_reg1</td>\n",
       "      <td>7</td>\n",
       "      <td>4582.221596</td>\n",
       "    </tr>\n",
       "    <tr>\n",
       "      <td>1708</td>\n",
       "      <td>space_mutation</td>\n",
       "      <td>GID8pr_reg1</td>\n",
       "      <td>6</td>\n",
       "      <td>2325.951183</td>\n",
       "    </tr>\n",
       "    <tr>\n",
       "      <td>1709</td>\n",
       "      <td>space_mutation</td>\n",
       "      <td>GAL1_10pr</td>\n",
       "      <td>5</td>\n",
       "      <td>4226.389910</td>\n",
       "    </tr>\n",
       "  </tbody>\n",
       "</table>\n",
       "<p>1710 rows × 4 columns</p>\n",
       "</div>"
      ],
      "text/plain": [
       "       Sequence_type     Promoter  halfsite_num    Expression\n",
       "0                 WT  ADR1pr_reg1            15   8721.071522\n",
       "1                 WT  HAP4pr_reg1            11   7831.710691\n",
       "2                 WT  STP4pr_reg1            10   4239.085211\n",
       "3                 WT  GID8pr_reg1             9   2854.170674\n",
       "4                 WT    GAL1_10pr             8  16441.696230\n",
       "...              ...          ...           ...           ...\n",
       "1705  space_mutation  ADR1pr_reg1             9   4095.898372\n",
       "1706  space_mutation  HAP4pr_reg1             6   4577.902737\n",
       "1707  space_mutation  STP4pr_reg1             7   4582.221596\n",
       "1708  space_mutation  GID8pr_reg1             6   2325.951183\n",
       "1709  space_mutation    GAL1_10pr             5   4226.389910\n",
       "\n",
       "[1710 rows x 4 columns]"
      ]
     },
     "execution_count": 67,
     "metadata": {},
     "output_type": "execute_result"
    }
   ],
   "source": [
    "df"
   ]
  },
  {
   "cell_type": "code",
   "execution_count": 81,
   "metadata": {},
   "outputs": [],
   "source": [
    "filter_out = \"GID8\"\n",
    "filter_out2 = \"GAL1\"\n",
    "df = df.loc[~df['Promoter'].str.contains(filter_out)& ~df['Promoter'].str.contains(filter_out2)]\n"
   ]
  },
  {
   "cell_type": "code",
   "execution_count": 82,
   "metadata": {},
   "outputs": [
    {
     "data": {
      "text/html": [
       "<div>\n",
       "<style scoped>\n",
       "    .dataframe tbody tr th:only-of-type {\n",
       "        vertical-align: middle;\n",
       "    }\n",
       "\n",
       "    .dataframe tbody tr th {\n",
       "        vertical-align: top;\n",
       "    }\n",
       "\n",
       "    .dataframe thead th {\n",
       "        text-align: right;\n",
       "    }\n",
       "</style>\n",
       "<table border=\"1\" class=\"dataframe\">\n",
       "  <thead>\n",
       "    <tr style=\"text-align: right;\">\n",
       "      <th></th>\n",
       "      <th>Sequence_type</th>\n",
       "      <th>Promoter</th>\n",
       "      <th>halfsite_num</th>\n",
       "      <th>Expression</th>\n",
       "    </tr>\n",
       "  </thead>\n",
       "  <tbody>\n",
       "    <tr>\n",
       "      <td>0</td>\n",
       "      <td>WT</td>\n",
       "      <td>ADR1pr_reg1</td>\n",
       "      <td>15</td>\n",
       "      <td>8721.071522</td>\n",
       "    </tr>\n",
       "    <tr>\n",
       "      <td>1</td>\n",
       "      <td>WT</td>\n",
       "      <td>HAP4pr_reg1</td>\n",
       "      <td>11</td>\n",
       "      <td>7831.710691</td>\n",
       "    </tr>\n",
       "    <tr>\n",
       "      <td>2</td>\n",
       "      <td>WT</td>\n",
       "      <td>STP4pr_reg1</td>\n",
       "      <td>10</td>\n",
       "      <td>4239.085211</td>\n",
       "    </tr>\n",
       "    <tr>\n",
       "      <td>6</td>\n",
       "      <td>mutCGG1</td>\n",
       "      <td>ADR1pr_reg1</td>\n",
       "      <td>0</td>\n",
       "      <td>675.510536</td>\n",
       "    </tr>\n",
       "    <tr>\n",
       "      <td>7</td>\n",
       "      <td>mutCGG2</td>\n",
       "      <td>ADR1pr_reg1</td>\n",
       "      <td>0</td>\n",
       "      <td>4783.209415</td>\n",
       "    </tr>\n",
       "    <tr>\n",
       "      <td>...</td>\n",
       "      <td>...</td>\n",
       "      <td>...</td>\n",
       "      <td>...</td>\n",
       "      <td>...</td>\n",
       "    </tr>\n",
       "    <tr>\n",
       "      <td>1701</td>\n",
       "      <td>space_mutation</td>\n",
       "      <td>HAP4pr_reg1</td>\n",
       "      <td>7</td>\n",
       "      <td>1251.999401</td>\n",
       "    </tr>\n",
       "    <tr>\n",
       "      <td>1702</td>\n",
       "      <td>space_mutation</td>\n",
       "      <td>STP4pr_reg1</td>\n",
       "      <td>7</td>\n",
       "      <td>2931.382329</td>\n",
       "    </tr>\n",
       "    <tr>\n",
       "      <td>1705</td>\n",
       "      <td>space_mutation</td>\n",
       "      <td>ADR1pr_reg1</td>\n",
       "      <td>9</td>\n",
       "      <td>4095.898372</td>\n",
       "    </tr>\n",
       "    <tr>\n",
       "      <td>1706</td>\n",
       "      <td>space_mutation</td>\n",
       "      <td>HAP4pr_reg1</td>\n",
       "      <td>6</td>\n",
       "      <td>4577.902737</td>\n",
       "    </tr>\n",
       "    <tr>\n",
       "      <td>1707</td>\n",
       "      <td>space_mutation</td>\n",
       "      <td>STP4pr_reg1</td>\n",
       "      <td>7</td>\n",
       "      <td>4582.221596</td>\n",
       "    </tr>\n",
       "  </tbody>\n",
       "</table>\n",
       "<p>1149 rows × 4 columns</p>\n",
       "</div>"
      ],
      "text/plain": [
       "       Sequence_type     Promoter  halfsite_num   Expression\n",
       "0                 WT  ADR1pr_reg1            15  8721.071522\n",
       "1                 WT  HAP4pr_reg1            11  7831.710691\n",
       "2                 WT  STP4pr_reg1            10  4239.085211\n",
       "6            mutCGG1  ADR1pr_reg1             0   675.510536\n",
       "7            mutCGG2  ADR1pr_reg1             0  4783.209415\n",
       "...              ...          ...           ...          ...\n",
       "1701  space_mutation  HAP4pr_reg1             7  1251.999401\n",
       "1702  space_mutation  STP4pr_reg1             7  2931.382329\n",
       "1705  space_mutation  ADR1pr_reg1             9  4095.898372\n",
       "1706  space_mutation  HAP4pr_reg1             6  4577.902737\n",
       "1707  space_mutation  STP4pr_reg1             7  4582.221596\n",
       "\n",
       "[1149 rows x 4 columns]"
      ]
     },
     "execution_count": 82,
     "metadata": {},
     "output_type": "execute_result"
    }
   ],
   "source": [
    "df_ko = df_ko.loc[~df_ko['Promoter'].str.contains(filter_out)& ~df_ko['Promoter'].str.contains(filter_out2)]\n",
    "df"
   ]
  },
  {
   "cell_type": "code",
   "execution_count": 83,
   "metadata": {},
   "outputs": [],
   "source": [
    "df_wt, df_mut_halfsite = make_q1_df(df)\n",
    "df_wt_ko, df_mut_halfsite_ko = make_q1_df(df_ko)"
   ]
  },
  {
   "cell_type": "code",
   "execution_count": 84,
   "metadata": {},
   "outputs": [],
   "source": [
    "df_ran = make_q1_ran(df)"
   ]
  },
  {
   "cell_type": "code",
   "execution_count": 85,
   "metadata": {},
   "outputs": [
    {
     "data": {
      "text/html": [
       "<div>\n",
       "<style scoped>\n",
       "    .dataframe tbody tr th:only-of-type {\n",
       "        vertical-align: middle;\n",
       "    }\n",
       "\n",
       "    .dataframe tbody tr th {\n",
       "        vertical-align: top;\n",
       "    }\n",
       "\n",
       "    .dataframe thead th {\n",
       "        text-align: right;\n",
       "    }\n",
       "</style>\n",
       "<table border=\"1\" class=\"dataframe\">\n",
       "  <thead>\n",
       "    <tr style=\"text-align: right;\">\n",
       "      <th></th>\n",
       "      <th>Sequence_type</th>\n",
       "      <th>Promoter</th>\n",
       "      <th>halfsite_num</th>\n",
       "      <th>Expression</th>\n",
       "    </tr>\n",
       "  </thead>\n",
       "  <tbody>\n",
       "    <tr>\n",
       "      <td>0</td>\n",
       "      <td>WT</td>\n",
       "      <td>ADR1pr_reg1</td>\n",
       "      <td>15</td>\n",
       "      <td>8721.071522</td>\n",
       "    </tr>\n",
       "    <tr>\n",
       "      <td>1</td>\n",
       "      <td>WT</td>\n",
       "      <td>HAP4pr_reg1</td>\n",
       "      <td>11</td>\n",
       "      <td>7831.710691</td>\n",
       "    </tr>\n",
       "    <tr>\n",
       "      <td>2</td>\n",
       "      <td>WT</td>\n",
       "      <td>STP4pr_reg1</td>\n",
       "      <td>10</td>\n",
       "      <td>4239.085211</td>\n",
       "    </tr>\n",
       "    <tr>\n",
       "      <td>570</td>\n",
       "      <td>WT</td>\n",
       "      <td>ADR1pr_reg1</td>\n",
       "      <td>15</td>\n",
       "      <td>7614.706826</td>\n",
       "    </tr>\n",
       "    <tr>\n",
       "      <td>571</td>\n",
       "      <td>WT</td>\n",
       "      <td>HAP4pr_reg1</td>\n",
       "      <td>11</td>\n",
       "      <td>4952.743084</td>\n",
       "    </tr>\n",
       "    <tr>\n",
       "      <td>572</td>\n",
       "      <td>WT</td>\n",
       "      <td>STP4pr_reg1</td>\n",
       "      <td>10</td>\n",
       "      <td>5255.418562</td>\n",
       "    </tr>\n",
       "    <tr>\n",
       "      <td>1140</td>\n",
       "      <td>WT</td>\n",
       "      <td>ADR1pr_reg1</td>\n",
       "      <td>15</td>\n",
       "      <td>7979.507880</td>\n",
       "    </tr>\n",
       "    <tr>\n",
       "      <td>1141</td>\n",
       "      <td>WT</td>\n",
       "      <td>HAP4pr_reg1</td>\n",
       "      <td>11</td>\n",
       "      <td>5127.792100</td>\n",
       "    </tr>\n",
       "    <tr>\n",
       "      <td>1142</td>\n",
       "      <td>WT</td>\n",
       "      <td>STP4pr_reg1</td>\n",
       "      <td>10</td>\n",
       "      <td>4885.289923</td>\n",
       "    </tr>\n",
       "  </tbody>\n",
       "</table>\n",
       "</div>"
      ],
      "text/plain": [
       "     Sequence_type     Promoter  halfsite_num   Expression\n",
       "0               WT  ADR1pr_reg1            15  8721.071522\n",
       "1               WT  HAP4pr_reg1            11  7831.710691\n",
       "2               WT  STP4pr_reg1            10  4239.085211\n",
       "570             WT  ADR1pr_reg1            15  7614.706826\n",
       "571             WT  HAP4pr_reg1            11  4952.743084\n",
       "572             WT  STP4pr_reg1            10  5255.418562\n",
       "1140            WT  ADR1pr_reg1            15  7979.507880\n",
       "1141            WT  HAP4pr_reg1            11  5127.792100\n",
       "1142            WT  STP4pr_reg1            10  4885.289923"
      ]
     },
     "execution_count": 85,
     "metadata": {},
     "output_type": "execute_result"
    }
   ],
   "source": [
    "df_wt"
   ]
  },
  {
   "cell_type": "code",
   "execution_count": 86,
   "metadata": {},
   "outputs": [],
   "source": [
    "means_wt  = get_q1_means(df_mut_halfsite)\n",
    "means_ko = get_q1_means(df_mut_halfsite_ko)\n",
    "means_ran = get_q1_means(df_ran)"
   ]
  },
  {
   "cell_type": "code",
   "execution_count": 87,
   "metadata": {},
   "outputs": [],
   "source": [
    "df_mut = df_mut_halfsite[~df_mut_halfsite[\"Sequence_type\"].str.contains(\"WT\")]"
   ]
  },
  {
   "cell_type": "code",
   "execution_count": 88,
   "metadata": {},
   "outputs": [
    {
     "data": {
      "text/html": [
       "<div>\n",
       "<style scoped>\n",
       "    .dataframe tbody tr th:only-of-type {\n",
       "        vertical-align: middle;\n",
       "    }\n",
       "\n",
       "    .dataframe tbody tr th {\n",
       "        vertical-align: top;\n",
       "    }\n",
       "\n",
       "    .dataframe thead th {\n",
       "        text-align: right;\n",
       "    }\n",
       "</style>\n",
       "<table border=\"1\" class=\"dataframe\">\n",
       "  <thead>\n",
       "    <tr style=\"text-align: right;\">\n",
       "      <th></th>\n",
       "      <th>Sequence_type</th>\n",
       "      <th>Promoter</th>\n",
       "      <th>halfsite_num</th>\n",
       "      <th>Expression</th>\n",
       "    </tr>\n",
       "  </thead>\n",
       "  <tbody>\n",
       "    <tr>\n",
       "      <td>6</td>\n",
       "      <td>mutCGG</td>\n",
       "      <td>ADR1pr_reg1</td>\n",
       "      <td>0</td>\n",
       "      <td>675.510536</td>\n",
       "    </tr>\n",
       "    <tr>\n",
       "      <td>7</td>\n",
       "      <td>mutCGG</td>\n",
       "      <td>ADR1pr_reg1</td>\n",
       "      <td>0</td>\n",
       "      <td>4783.209415</td>\n",
       "    </tr>\n",
       "    <tr>\n",
       "      <td>10</td>\n",
       "      <td>mutCGG</td>\n",
       "      <td>HAP4pr_reg1</td>\n",
       "      <td>0</td>\n",
       "      <td>725.058944</td>\n",
       "    </tr>\n",
       "    <tr>\n",
       "      <td>11</td>\n",
       "      <td>mutCGG</td>\n",
       "      <td>HAP4pr_reg1</td>\n",
       "      <td>0</td>\n",
       "      <td>1039.421118</td>\n",
       "    </tr>\n",
       "    <tr>\n",
       "      <td>14</td>\n",
       "      <td>mutCGG</td>\n",
       "      <td>STP4pr_reg1</td>\n",
       "      <td>0</td>\n",
       "      <td>668.729163</td>\n",
       "    </tr>\n",
       "    <tr>\n",
       "      <td>15</td>\n",
       "      <td>mutCGG</td>\n",
       "      <td>STP4pr_reg1</td>\n",
       "      <td>0</td>\n",
       "      <td>2309.836636</td>\n",
       "    </tr>\n",
       "    <tr>\n",
       "      <td>576</td>\n",
       "      <td>mutCGG</td>\n",
       "      <td>ADR1pr_reg1</td>\n",
       "      <td>0</td>\n",
       "      <td>1538.018693</td>\n",
       "    </tr>\n",
       "    <tr>\n",
       "      <td>577</td>\n",
       "      <td>mutCGG</td>\n",
       "      <td>ADR1pr_reg1</td>\n",
       "      <td>0</td>\n",
       "      <td>3554.689723</td>\n",
       "    </tr>\n",
       "    <tr>\n",
       "      <td>580</td>\n",
       "      <td>mutCGG</td>\n",
       "      <td>HAP4pr_reg1</td>\n",
       "      <td>0</td>\n",
       "      <td>2094.763930</td>\n",
       "    </tr>\n",
       "    <tr>\n",
       "      <td>581</td>\n",
       "      <td>mutCGG</td>\n",
       "      <td>HAP4pr_reg1</td>\n",
       "      <td>0</td>\n",
       "      <td>927.807006</td>\n",
       "    </tr>\n",
       "    <tr>\n",
       "      <td>584</td>\n",
       "      <td>mutCGG</td>\n",
       "      <td>STP4pr_reg1</td>\n",
       "      <td>0</td>\n",
       "      <td>790.093109</td>\n",
       "    </tr>\n",
       "    <tr>\n",
       "      <td>585</td>\n",
       "      <td>mutCGG</td>\n",
       "      <td>STP4pr_reg1</td>\n",
       "      <td>0</td>\n",
       "      <td>3042.672937</td>\n",
       "    </tr>\n",
       "    <tr>\n",
       "      <td>1146</td>\n",
       "      <td>mutCGG</td>\n",
       "      <td>ADR1pr_reg1</td>\n",
       "      <td>0</td>\n",
       "      <td>1152.681826</td>\n",
       "    </tr>\n",
       "    <tr>\n",
       "      <td>1147</td>\n",
       "      <td>mutCGG</td>\n",
       "      <td>ADR1pr_reg1</td>\n",
       "      <td>0</td>\n",
       "      <td>2244.805741</td>\n",
       "    </tr>\n",
       "    <tr>\n",
       "      <td>1150</td>\n",
       "      <td>mutCGG</td>\n",
       "      <td>HAP4pr_reg1</td>\n",
       "      <td>0</td>\n",
       "      <td>3622.667288</td>\n",
       "    </tr>\n",
       "    <tr>\n",
       "      <td>1151</td>\n",
       "      <td>mutCGG</td>\n",
       "      <td>HAP4pr_reg1</td>\n",
       "      <td>0</td>\n",
       "      <td>1110.508931</td>\n",
       "    </tr>\n",
       "    <tr>\n",
       "      <td>1154</td>\n",
       "      <td>mutCGG</td>\n",
       "      <td>STP4pr_reg1</td>\n",
       "      <td>0</td>\n",
       "      <td>1027.715013</td>\n",
       "    </tr>\n",
       "    <tr>\n",
       "      <td>1155</td>\n",
       "      <td>mutCGG</td>\n",
       "      <td>STP4pr_reg1</td>\n",
       "      <td>0</td>\n",
       "      <td>3275.307541</td>\n",
       "    </tr>\n",
       "  </tbody>\n",
       "</table>\n",
       "</div>"
      ],
      "text/plain": [
       "     Sequence_type     Promoter  halfsite_num   Expression\n",
       "6           mutCGG  ADR1pr_reg1             0   675.510536\n",
       "7           mutCGG  ADR1pr_reg1             0  4783.209415\n",
       "10          mutCGG  HAP4pr_reg1             0   725.058944\n",
       "11          mutCGG  HAP4pr_reg1             0  1039.421118\n",
       "14          mutCGG  STP4pr_reg1             0   668.729163\n",
       "15          mutCGG  STP4pr_reg1             0  2309.836636\n",
       "576         mutCGG  ADR1pr_reg1             0  1538.018693\n",
       "577         mutCGG  ADR1pr_reg1             0  3554.689723\n",
       "580         mutCGG  HAP4pr_reg1             0  2094.763930\n",
       "581         mutCGG  HAP4pr_reg1             0   927.807006\n",
       "584         mutCGG  STP4pr_reg1             0   790.093109\n",
       "585         mutCGG  STP4pr_reg1             0  3042.672937\n",
       "1146        mutCGG  ADR1pr_reg1             0  1152.681826\n",
       "1147        mutCGG  ADR1pr_reg1             0  2244.805741\n",
       "1150        mutCGG  HAP4pr_reg1             0  3622.667288\n",
       "1151        mutCGG  HAP4pr_reg1             0  1110.508931\n",
       "1154        mutCGG  STP4pr_reg1             0  1027.715013\n",
       "1155        mutCGG  STP4pr_reg1             0  3275.307541"
      ]
     },
     "execution_count": 88,
     "metadata": {},
     "output_type": "execute_result"
    }
   ],
   "source": [
    "df_mut"
   ]
  },
  {
   "cell_type": "code",
   "execution_count": 89,
   "metadata": {},
   "outputs": [],
   "source": [
    "df_mut_mean = df_mut.groupby([\"Promoter\"]).mean()\n",
    "df_wt_mean = df_wt.groupby([\"Promoter\"]).mean()\n",
    "df_ran_mean = df_ran.groupby([\"Promoter\"]).mean()"
   ]
  },
  {
   "cell_type": "code",
   "execution_count": 90,
   "metadata": {},
   "outputs": [],
   "source": [
    "wt_means = df_wt_mean[\"Expression\"].to_list()\n",
    "mut_means = df_mut_mean[\"Expression\"].to_list()\n",
    "ran_means = df_ran_mean[\"Expression\"].to_list()"
   ]
  },
  {
   "cell_type": "code",
   "execution_count": 91,
   "metadata": {},
   "outputs": [
    {
     "data": {
      "text/plain": [
       "[2324.81932225, 1586.7045360833336, 1852.3923998999999]"
      ]
     },
     "execution_count": 91,
     "metadata": {},
     "output_type": "execute_result"
    }
   ],
   "source": [
    "mut_means"
   ]
  },
  {
   "cell_type": "code",
   "execution_count": 92,
   "metadata": {},
   "outputs": [
    {
     "data": {
      "text/plain": [
       "-0.7454991951215141"
      ]
     },
     "execution_count": 92,
     "metadata": {},
     "output_type": "execute_result"
    }
   ],
   "source": [
    "data1 = fc_list(wt_means, ran_means)\n",
    "statistics.mean(data1)"
   ]
  },
  {
   "cell_type": "markdown",
   "metadata": {},
   "source": [
    "gal4 = -0.75\n",
    "leu3 = -0.47\n",
    "tea1 = 0.13 \n",
    "yrm1 = -0.43"
   ]
  },
  {
   "cell_type": "code",
   "execution_count": 135,
   "metadata": {},
   "outputs": [],
   "source": [
    "# df_wt_ko = df_wt_ko.replace({'Sequence_type': {\"WT\": \"WT_KO\"}})"
   ]
  },
  {
   "cell_type": "code",
   "execution_count": 136,
   "metadata": {},
   "outputs": [],
   "source": [
    "# [df_wt, df_wt_ko]"
   ]
  },
  {
   "cell_type": "code",
   "execution_count": 137,
   "metadata": {},
   "outputs": [],
   "source": [
    "#df_mut_halfsite[\"difference_expression\"] = df_mut_halfsite[\"Expression\"] - df_mut_halfsite_ko[\"Expression\"]\n",
    "\n",
    "# ran_df = make_q1_ran(df)\n",
    "# names = ran_df[\"Promoter\"].tolist()\n",
    "# names = list(set(names))"
   ]
  },
  {
   "cell_type": "code",
   "execution_count": 138,
   "metadata": {},
   "outputs": [],
   "source": [
    "#df_mut_halfsite[\"log2fc\"]= fc_list(means_wt, means_ko)\n"
   ]
  },
  {
   "cell_type": "code",
   "execution_count": 139,
   "metadata": {},
   "outputs": [],
   "source": [
    "df_mut_halfsite_ko_copy= df_mut_halfsite_ko.replace({'Sequence_type': {\"WT\": \"WT_KO\", \"mutCGG\": \"mutCGG_KO\"}})"
   ]
  },
  {
   "cell_type": "code",
   "execution_count": 140,
   "metadata": {},
   "outputs": [],
   "source": [
    "wt_combined = pd.concat([wt_filter, wt_filter_ko])\n",
    "names = wt_combined[\"Promoter\"].tolist()\n",
    "names = list(set(names))"
   ]
  },
  {
   "cell_type": "code",
   "execution_count": 141,
   "metadata": {},
   "outputs": [],
   "source": [
    "combined = pd.concat([df_mut_halfsite, df_mut_halfsite_ko_copy])"
   ]
  },
  {
   "cell_type": "code",
   "execution_count": 142,
   "metadata": {},
   "outputs": [],
   "source": [
    "wt_filter_ko = df_mut_halfsite_ko_copy[df_mut_halfsite_ko_copy[\"Sequence_type\"].str.contains(\"WT\")]\n",
    "wt_filter = df_mut_halfsite[df_mut_halfsite[\"Sequence_type\"].str.contains(\"WT\")]\n",
    "wt_combined = pd.concat([wt_filter, wt_filter_ko])"
   ]
  },
  {
   "cell_type": "code",
   "execution_count": 143,
   "metadata": {},
   "outputs": [
    {
     "data": {
      "text/html": [
       "<div>\n",
       "<style scoped>\n",
       "    .dataframe tbody tr th:only-of-type {\n",
       "        vertical-align: middle;\n",
       "    }\n",
       "\n",
       "    .dataframe tbody tr th {\n",
       "        vertical-align: top;\n",
       "    }\n",
       "\n",
       "    .dataframe thead th {\n",
       "        text-align: right;\n",
       "    }\n",
       "</style>\n",
       "<table border=\"1\" class=\"dataframe\">\n",
       "  <thead>\n",
       "    <tr style=\"text-align: right;\">\n",
       "      <th></th>\n",
       "      <th>Sequence_type</th>\n",
       "      <th>Promoter</th>\n",
       "      <th>halfsite_num</th>\n",
       "      <th>Expression</th>\n",
       "    </tr>\n",
       "  </thead>\n",
       "  <tbody>\n",
       "    <tr>\n",
       "      <td>0</td>\n",
       "      <td>WT</td>\n",
       "      <td>ADR1pr_reg1</td>\n",
       "      <td>15</td>\n",
       "      <td>8721.071522</td>\n",
       "    </tr>\n",
       "    <tr>\n",
       "      <td>1</td>\n",
       "      <td>WT</td>\n",
       "      <td>HAP4pr_reg1</td>\n",
       "      <td>11</td>\n",
       "      <td>7831.710691</td>\n",
       "    </tr>\n",
       "    <tr>\n",
       "      <td>2</td>\n",
       "      <td>WT</td>\n",
       "      <td>STP4pr_reg1</td>\n",
       "      <td>10</td>\n",
       "      <td>4239.085211</td>\n",
       "    </tr>\n",
       "    <tr>\n",
       "      <td>570</td>\n",
       "      <td>WT</td>\n",
       "      <td>ADR1pr_reg1</td>\n",
       "      <td>15</td>\n",
       "      <td>7614.706826</td>\n",
       "    </tr>\n",
       "    <tr>\n",
       "      <td>571</td>\n",
       "      <td>WT</td>\n",
       "      <td>HAP4pr_reg1</td>\n",
       "      <td>11</td>\n",
       "      <td>4952.743084</td>\n",
       "    </tr>\n",
       "    <tr>\n",
       "      <td>572</td>\n",
       "      <td>WT</td>\n",
       "      <td>STP4pr_reg1</td>\n",
       "      <td>10</td>\n",
       "      <td>5255.418562</td>\n",
       "    </tr>\n",
       "    <tr>\n",
       "      <td>1140</td>\n",
       "      <td>WT</td>\n",
       "      <td>ADR1pr_reg1</td>\n",
       "      <td>15</td>\n",
       "      <td>7979.507880</td>\n",
       "    </tr>\n",
       "    <tr>\n",
       "      <td>1141</td>\n",
       "      <td>WT</td>\n",
       "      <td>HAP4pr_reg1</td>\n",
       "      <td>11</td>\n",
       "      <td>5127.792100</td>\n",
       "    </tr>\n",
       "    <tr>\n",
       "      <td>1142</td>\n",
       "      <td>WT</td>\n",
       "      <td>STP4pr_reg1</td>\n",
       "      <td>10</td>\n",
       "      <td>4885.289923</td>\n",
       "    </tr>\n",
       "    <tr>\n",
       "      <td>0</td>\n",
       "      <td>WT_KO</td>\n",
       "      <td>ADR1pr_reg1</td>\n",
       "      <td>15</td>\n",
       "      <td>3902.929003</td>\n",
       "    </tr>\n",
       "    <tr>\n",
       "      <td>1</td>\n",
       "      <td>WT_KO</td>\n",
       "      <td>HAP4pr_reg1</td>\n",
       "      <td>11</td>\n",
       "      <td>2569.832368</td>\n",
       "    </tr>\n",
       "    <tr>\n",
       "      <td>2</td>\n",
       "      <td>WT_KO</td>\n",
       "      <td>STP4pr_reg1</td>\n",
       "      <td>10</td>\n",
       "      <td>2379.627326</td>\n",
       "    </tr>\n",
       "    <tr>\n",
       "      <td>570</td>\n",
       "      <td>WT_KO</td>\n",
       "      <td>ADR1pr_reg1</td>\n",
       "      <td>15</td>\n",
       "      <td>3875.812354</td>\n",
       "    </tr>\n",
       "    <tr>\n",
       "      <td>571</td>\n",
       "      <td>WT_KO</td>\n",
       "      <td>HAP4pr_reg1</td>\n",
       "      <td>11</td>\n",
       "      <td>3966.543384</td>\n",
       "    </tr>\n",
       "    <tr>\n",
       "      <td>572</td>\n",
       "      <td>WT_KO</td>\n",
       "      <td>STP4pr_reg1</td>\n",
       "      <td>10</td>\n",
       "      <td>2633.248783</td>\n",
       "    </tr>\n",
       "    <tr>\n",
       "      <td>1140</td>\n",
       "      <td>WT_KO</td>\n",
       "      <td>ADR1pr_reg1</td>\n",
       "      <td>15</td>\n",
       "      <td>4017.287681</td>\n",
       "    </tr>\n",
       "    <tr>\n",
       "      <td>1141</td>\n",
       "      <td>WT_KO</td>\n",
       "      <td>HAP4pr_reg1</td>\n",
       "      <td>11</td>\n",
       "      <td>3597.705904</td>\n",
       "    </tr>\n",
       "    <tr>\n",
       "      <td>1142</td>\n",
       "      <td>WT_KO</td>\n",
       "      <td>STP4pr_reg1</td>\n",
       "      <td>10</td>\n",
       "      <td>3556.018515</td>\n",
       "    </tr>\n",
       "  </tbody>\n",
       "</table>\n",
       "</div>"
      ],
      "text/plain": [
       "     Sequence_type     Promoter  halfsite_num   Expression\n",
       "0               WT  ADR1pr_reg1            15  8721.071522\n",
       "1               WT  HAP4pr_reg1            11  7831.710691\n",
       "2               WT  STP4pr_reg1            10  4239.085211\n",
       "570             WT  ADR1pr_reg1            15  7614.706826\n",
       "571             WT  HAP4pr_reg1            11  4952.743084\n",
       "572             WT  STP4pr_reg1            10  5255.418562\n",
       "1140            WT  ADR1pr_reg1            15  7979.507880\n",
       "1141            WT  HAP4pr_reg1            11  5127.792100\n",
       "1142            WT  STP4pr_reg1            10  4885.289923\n",
       "0            WT_KO  ADR1pr_reg1            15  3902.929003\n",
       "1            WT_KO  HAP4pr_reg1            11  2569.832368\n",
       "2            WT_KO  STP4pr_reg1            10  2379.627326\n",
       "570          WT_KO  ADR1pr_reg1            15  3875.812354\n",
       "571          WT_KO  HAP4pr_reg1            11  3966.543384\n",
       "572          WT_KO  STP4pr_reg1            10  2633.248783\n",
       "1140         WT_KO  ADR1pr_reg1            15  4017.287681\n",
       "1141         WT_KO  HAP4pr_reg1            11  3597.705904\n",
       "1142         WT_KO  STP4pr_reg1            10  3556.018515"
      ]
     },
     "execution_count": 143,
     "metadata": {},
     "output_type": "execute_result"
    }
   ],
   "source": [
    "wt_combined"
   ]
  },
  {
   "cell_type": "code",
   "execution_count": 144,
   "metadata": {},
   "outputs": [],
   "source": [
    "#float(wt_combined[\"Expression\"])\n",
    "wt_combined[\"Expression\"] = pd.to_numeric(wt_combined[\"Expression\"])"
   ]
  },
  {
   "cell_type": "code",
   "execution_count": 145,
   "metadata": {},
   "outputs": [
    {
     "data": {
      "image/png": "[encoded data removed]",
      "text/plain": [
       "<Figure size 432x288 with 1 Axes>"
      ]
     },
     "metadata": {},
     "output_type": "display_data"
    }
   ],
   "source": [
    "ax = sns.barplot(x=\"Promoter\", y=\"Expression\", hue=\"Sequence_type\", data=wt_combined, palette=\"rocket\")\n",
    "\n",
    "    "
   ]
  },
  {
   "cell_type": "code",
   "execution_count": 106,
   "metadata": {},
   "outputs": [],
   "source": [
    "\n",
    "\n",
    "pairs = [[(names[0], 'WT'), (names[0], 'WT_KO')], [(names[1], 'WT'), (names[1],'WT_KO')],[(names[2], 'WT'), (names[2], 'WT_KO')],]\n",
    "#     [('WT', 'ADR1pr_reg1'), ('mutCGG2', 'ADR1pr_reg1')],\n",
    "#     [('WT', 'HAP4pr_reg1'), ('mutCGG2', 'HAP4pr_reg1')],\n",
    "#     [('WT', 'STP4pr_reg1'), ('mutCGG2', 'STP4pr_reg1')],\n",
    "# ]\n",
    "\n",
    "hue_plot_params = {\n",
    "    'data': wt_combined,\n",
    "    'x': 'Promoter',\n",
    "    'y': 'Expression',\n",
    "    #'order': subcat_order,\n",
    "    \"hue\": \"Sequence_type\",\n",
    "    #\"hue_order\": states_order,\n",
    "    \"palette\": \"rocket_r\",}\n",
    "\n"
   ]
  },
  {
   "cell_type": "code",
   "execution_count": 146,
   "metadata": {},
   "outputs": [
    {
     "data": {
      "text/plain": [
       "['STP4pr_reg1', 'GID8pr_reg1', 'ADR1pr_reg1', 'HAP4pr_reg1']"
      ]
     },
     "execution_count": 146,
     "metadata": {},
     "output_type": "execute_result"
    }
   ],
   "source": [
    "names"
   ]
  },
  {
   "cell_type": "code",
   "execution_count": 148,
   "metadata": {},
   "outputs": [
    {
     "name": "stdout",
     "output_type": "stream",
     "text": [
      "p-value annotation legend:\n",
      "      ns: p <= 1.00e+00\n",
      "       *: 1.00e-02 < p <= 5.00e-02\n",
      "      **: 1.00e-03 < p <= 1.00e-02\n",
      "     ***: 1.00e-04 < p <= 1.00e-03\n",
      "    ****: p <= 1.00e-04\n",
      "\n",
      "LEU3_Mdh2pr_WT vs. LEU3_Mdh2pr_WT_KO: Custom statistical test, P_val:1.000e-03\n",
      "LEU3_Ipt1/Snf11pr_WT vs. LEU3_Ipt1/Snf11pr_WT_KO: Custom statistical test, P_val:2.000e-02\n",
      "LEU3_Sod1/Ado1pr_WT vs. LEU3_Sod1/Ado1pr_WT_KO: Custom statistical test, P_val:1.100e-01\n"
     ]
    },
    {
     "data": {
      "image/png": "[encoded data removed]",
      "text/plain": [
       "<Figure size 432x288 with 1 Axes>"
      ]
     },
     "metadata": {},
     "output_type": "display_data"
    }
   ],
   "source": [
    "sns.set_style(\"white\")\n",
    "subcat_order = names\n",
    "states_order = [\"WT\", \"WT_KO\"]\n",
    "#formatted_pvalues = ['p=1.35e-04', 'p=2.56e-01', 'p=2.30e-04', 'p=2.00e-01', 'p=2.00e-01', 'p=2.00e-01']\n",
    "pvalues = [0.001, 0.02, 0.11]\n",
    "ax = sns.barplot(x=\"Promoter\", y=\"Expression\", hue=\"Sequence_type\", data=wt_combined, palette=\"rocket\")\n",
    "ax.set_xlabel('Sequence Type')\n",
    "ax.set_ylabel('Relative Expression')\n",
    "plt.legend(frameon=True, loc=(1.02, 0.8), borderaxespad=0)\n",
    "annotator = Annotator(ax, pairs, **hue_plot_params)\n",
    "annotator.set_pvalues(pvalues)\n",
    "annotator.annotate()\n",
    "plt.savefig(\"gal4_q1_ko_supp.pdf\", bbox_inches='tight')"
   ]
  },
  {
   "cell_type": "code",
   "execution_count": 147,
   "metadata": {},
   "outputs": [],
   "source": [
    "tukey = tukey_table(wt_combined, \"_ko_gal4.csv\")\n",
    "#tukey_filtered = tukey.loc[(tukey[\"group1\"].str.contains(\"WT\")) & (tukey[\"group2\"].str.contains(\"WT_KO\")] #|(tukey[\"group1\"] == \"WT_singlton\") & (tukey[\"group2\"] == \"singlton\")| (tukey[\"group1\"] == \"WT_singlton\") & (tukey[\"group2\"] == \"singlton_mutcan\")|(tukey[\"group1\"] == \"WT_singlton\") & (tukey[\"group2\"] == \"singlton_CG_control\")|(tukey[\"group1\"] == \"WT_singlton\") & (tukey[\"group2\"] == \"singlton_CG_control_mutcan\") |(tukey[\"group1\"] == \"singlton\") & (tukey[\"group2\"] == \"singlton_CG_control\")|(tukey[\"group1\"] == \"singlton\") & (tukey[\"group2\"] == \"singlton_mutcan\")|(tukey[\"group1\"] == \"singlton\") & (tukey[\"group2\"] == \"singlton_CG_control_mutcan\")]\n",
    "\n"
   ]
  },
  {
   "cell_type": "code",
   "execution_count": null,
   "metadata": {},
   "outputs": [],
   "source": [
    "anova_table(ran_df, \"q1_anova_ranmut_gal4.csv\")"
   ]
  }
 ],
 "metadata": {
  "kernelspec": {
   "display_name": "Python 3",
   "language": "python",
   "name": "python3"
  },
  "language_info": {
   "codemirror_mode": {
    "name": "ipython",
    "version": 3
   },
   "file_extension": ".py",
   "mimetype": "text/x-python",
   "name": "python",
   "nbconvert_exporter": "python",
   "pygments_lexer": "ipython3",
   "version": "3.7.4"
  }
 },
 "nbformat": 4,
 "nbformat_minor": 2
}
