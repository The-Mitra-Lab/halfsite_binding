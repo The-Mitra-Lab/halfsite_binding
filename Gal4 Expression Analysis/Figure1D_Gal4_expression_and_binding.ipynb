{
 "cells": [
  {
   "cell_type": "markdown",
   "metadata": {},
   "source": [
    "# Mapping Gal4 expression data\n",
    "This module is for comparing the expression of yeast gene after galactose inductions for promoters with and without a Gal4 site \n",
    "\n",
    "Written by D.S."
   ]
  },
  {
   "cell_type": "code",
   "execution_count": null,
   "metadata": {},
   "outputs": [],
   "source": [
    "\n",
    "from analyze_sig_hits_v2 import *"
   ]
  },
  {
   "cell_type": "markdown",
   "metadata": {},
   "source": [
    "### Modifes a significant promoter file to include PWM info"
   ]
  },
  {
   "cell_type": "code",
   "execution_count": 59,
   "metadata": {},
   "outputs": [],
   "source": [
    "sig_hits = pd.read_csv(\"/sig_prom_Gal4_FL_Final.txt\",sep=\"\\t\")"
   ]
  },
  {
   "cell_type": "code",
   "execution_count": 60,
   "metadata": {},
   "outputs": [],
   "source": [
    "sig_hits.drop(['Unnamed: 0','Unnamed: 26','Unnamed: 27'],axis=1,inplace = True)"
   ]
  },
  {
   "cell_type": "code",
   "execution_count": 61,
   "metadata": {},
   "outputs": [],
   "source": [
    "sig_hits = add_seq_to_frame(sig_hits)"
   ]
  },
  {
   "cell_type": "code",
   "execution_count": 62,
   "metadata": {},
   "outputs": [],
   "source": [
    "sig_hits = add_pwm_info(sig_hits,'gal4',13.01)"
   ]
  },
  {
   "cell_type": "code",
   "execution_count": 63,
   "metadata": {},
   "outputs": [],
   "source": [
    "sig_hits.index = sig_hits[\"Intergenic Region\"]"
   ]
  },
  {
   "cell_type": "code",
   "execution_count": 64,
   "metadata": {},
   "outputs": [],
   "source": [
    "sig_hits.drop(['Intergenic Region'],axis=1,inplace = True)"
   ]
  },
  {
   "cell_type": "code",
   "execution_count": 65,
   "metadata": {},
   "outputs": [
    {
     "data": {
      "text/html": [
       "<div>\n",
       "<table border=\"1\" class=\"dataframe\">\n",
       "  <thead>\n",
       "    <tr style=\"text-align: right;\">\n",
       "      <th></th>\n",
       "      <th>Chr</th>\n",
       "      <th>Start</th>\n",
       "      <th>End</th>\n",
       "      <th>Left Feature</th>\n",
       "      <th>Right Feature</th>\n",
       "      <th>Left Common Name</th>\n",
       "      <th>Right Common Name</th>\n",
       "      <th>TPH</th>\n",
       "      <th>Log TPH</th>\n",
       "      <th>TPH BS</th>\n",
       "      <th>...</th>\n",
       "      <th>Background Hops Lax</th>\n",
       "      <th>Experiment Hops Lax</th>\n",
       "      <th>TPH Lax</th>\n",
       "      <th>TPH Lax BS</th>\n",
       "      <th>CHG pvalue Lax</th>\n",
       "      <th>Poisson pvalue Lax</th>\n",
       "      <th>Sequence</th>\n",
       "      <th>gal4 pos</th>\n",
       "      <th>gal4 score</th>\n",
       "      <th>gal4 orientaion</th>\n",
       "    </tr>\n",
       "    <tr>\n",
       "      <th>Intergenic Region</th>\n",
       "      <th></th>\n",
       "      <th></th>\n",
       "      <th></th>\n",
       "      <th></th>\n",
       "      <th></th>\n",
       "      <th></th>\n",
       "      <th></th>\n",
       "      <th></th>\n",
       "      <th></th>\n",
       "      <th></th>\n",
       "      <th></th>\n",
       "      <th></th>\n",
       "      <th></th>\n",
       "      <th></th>\n",
       "      <th></th>\n",
       "      <th></th>\n",
       "      <th></th>\n",
       "      <th></th>\n",
       "      <th></th>\n",
       "      <th></th>\n",
       "      <th></th>\n",
       "    </tr>\n",
       "  </thead>\n",
       "  <tbody>\n",
       "    <tr>\n",
       "      <th>Chr12: 289251-290213</th>\n",
       "      <td>12</td>\n",
       "      <td>289251</td>\n",
       "      <td>290213</td>\n",
       "      <td>YLR080W</td>\n",
       "      <td>YLR081W</td>\n",
       "      <td>EMP46</td>\n",
       "      <td>GAL2</td>\n",
       "      <td>5293.505722</td>\n",
       "      <td>12.370008</td>\n",
       "      <td>5223.260730</td>\n",
       "      <td>...</td>\n",
       "      <td>77</td>\n",
       "      <td>1791</td>\n",
       "      <td>5323.227820</td>\n",
       "      <td>5249.133788</td>\n",
       "      <td>0.000000e+00</td>\n",
       "      <td>0.0</td>\n",
       "      <td>(T, G, C, C, A, A, G, C, T, G, T, A, T, G, G, ...</td>\n",
       "      <td>[713, 716, 796]</td>\n",
       "      <td>[12.27, 11.64, 16.12]</td>\n",
       "      <td>[-1, 1, -1]</td>\n",
       "    </tr>\n",
       "    <tr>\n",
       "      <th>Chr2: 275527-276253</th>\n",
       "      <td>2</td>\n",
       "      <td>275527</td>\n",
       "      <td>276253</td>\n",
       "      <td>YBR018C</td>\n",
       "      <td>YBR019C</td>\n",
       "      <td>GAL7</td>\n",
       "      <td>GAL10</td>\n",
       "      <td>4190.815872</td>\n",
       "      <td>12.033015</td>\n",
       "      <td>4150.400945</td>\n",
       "      <td>...</td>\n",
       "      <td>49</td>\n",
       "      <td>1431</td>\n",
       "      <td>4253.232278</td>\n",
       "      <td>4206.081531</td>\n",
       "      <td>1.800000e-10</td>\n",
       "      <td>0.0</td>\n",
       "      <td>(C, A, T, A, C, A, A, T, G, G, A, G, C, T, G, ...</td>\n",
       "      <td>[327, 414]</td>\n",
       "      <td>[13.49, 12.72]</td>\n",
       "      <td>[1, 1]</td>\n",
       "    </tr>\n",
       "    <tr>\n",
       "      <th>Chr11: 613527-615372</th>\n",
       "      <td>11</td>\n",
       "      <td>613527</td>\n",
       "      <td>615372</td>\n",
       "      <td>YKR092C</td>\n",
       "      <td>YKR093W</td>\n",
       "      <td>SRP40</td>\n",
       "      <td>PTR2</td>\n",
       "      <td>3257.541982</td>\n",
       "      <td>11.669568</td>\n",
       "      <td>3173.825349</td>\n",
       "      <td>...</td>\n",
       "      <td>91</td>\n",
       "      <td>1096</td>\n",
       "      <td>3257.541982</td>\n",
       "      <td>3169.976308</td>\n",
       "      <td>1.330000e-10</td>\n",
       "      <td>0.0</td>\n",
       "      <td>(C, G, C, C, G, C, T, A, G, A, A, C, T, G, G, ...</td>\n",
       "      <td>[]</td>\n",
       "      <td>[]</td>\n",
       "      <td>[]</td>\n",
       "    </tr>\n",
       "    <tr>\n",
       "      <th>Chr11: 229524-231871</th>\n",
       "      <td>11</td>\n",
       "      <td>229524</td>\n",
       "      <td>231871</td>\n",
       "      <td>YKL110C</td>\n",
       "      <td>YKL109W</td>\n",
       "      <td>KTI12</td>\n",
       "      <td>HAP4</td>\n",
       "      <td>2603.655818</td>\n",
       "      <td>11.346323</td>\n",
       "      <td>2484.335559</td>\n",
       "      <td>...</td>\n",
       "      <td>124</td>\n",
       "      <td>876</td>\n",
       "      <td>2603.655818</td>\n",
       "      <td>2484.335559</td>\n",
       "      <td>0.000000e+00</td>\n",
       "      <td>0.0</td>\n",
       "      <td>(T, T, A, T, G, C, C, T, A, A, A, G, A, T, T, ...</td>\n",
       "      <td>[]</td>\n",
       "      <td>[]</td>\n",
       "      <td>[]</td>\n",
       "    </tr>\n",
       "    <tr>\n",
       "      <th>Chr4: 1488983-1490589</th>\n",
       "      <td>4</td>\n",
       "      <td>1488983</td>\n",
       "      <td>1490589</td>\n",
       "      <td>YDR524C</td>\n",
       "      <td>YDR525W-A</td>\n",
       "      <td>AGE1</td>\n",
       "      <td>SNA2</td>\n",
       "      <td>2565.017090</td>\n",
       "      <td>11.324753</td>\n",
       "      <td>2469.753335</td>\n",
       "      <td>...</td>\n",
       "      <td>111</td>\n",
       "      <td>917</td>\n",
       "      <td>2725.516421</td>\n",
       "      <td>2618.705544</td>\n",
       "      <td>6.060000e-11</td>\n",
       "      <td>0.0</td>\n",
       "      <td>(T, A, C, A, T, C, G, A, A, G, A, G, A, T, T, ...</td>\n",
       "      <td>[]</td>\n",
       "      <td>[]</td>\n",
       "      <td>[]</td>\n",
       "    </tr>\n",
       "  </tbody>\n",
       "</table>\n",
       "<p>5 rows × 28 columns</p>\n",
       "</div>"
      ],
      "text/plain": [
       "                       Chr    Start      End Left Feature Right Feature  \\\n",
       "Intergenic Region                                                         \n",
       "Chr12: 289251-290213    12   289251   290213      YLR080W       YLR081W   \n",
       "Chr2: 275527-276253      2   275527   276253      YBR018C       YBR019C   \n",
       "Chr11: 613527-615372    11   613527   615372      YKR092C       YKR093W   \n",
       "Chr11: 229524-231871    11   229524   231871      YKL110C       YKL109W   \n",
       "Chr4: 1488983-1490589    4  1488983  1490589      YDR524C     YDR525W-A   \n",
       "\n",
       "                      Left Common Name Right Common Name          TPH  \\\n",
       "Intergenic Region                                                       \n",
       "Chr12: 289251-290213             EMP46              GAL2  5293.505722   \n",
       "Chr2: 275527-276253               GAL7             GAL10  4190.815872   \n",
       "Chr11: 613527-615372             SRP40              PTR2  3257.541982   \n",
       "Chr11: 229524-231871             KTI12              HAP4  2603.655818   \n",
       "Chr4: 1488983-1490589             AGE1              SNA2  2565.017090   \n",
       "\n",
       "                         Log TPH       TPH BS       ...         \\\n",
       "Intergenic Region                                   ...          \n",
       "Chr12: 289251-290213   12.370008  5223.260730       ...          \n",
       "Chr2: 275527-276253    12.033015  4150.400945       ...          \n",
       "Chr11: 613527-615372   11.669568  3173.825349       ...          \n",
       "Chr11: 229524-231871   11.346323  2484.335559       ...          \n",
       "Chr4: 1488983-1490589  11.324753  2469.753335       ...          \n",
       "\n",
       "                       Background Hops Lax  Experiment Hops Lax      TPH Lax  \\\n",
       "Intergenic Region                                                              \n",
       "Chr12: 289251-290213                    77                 1791  5323.227820   \n",
       "Chr2: 275527-276253                     49                 1431  4253.232278   \n",
       "Chr11: 613527-615372                    91                 1096  3257.541982   \n",
       "Chr11: 229524-231871                   124                  876  2603.655818   \n",
       "Chr4: 1488983-1490589                  111                  917  2725.516421   \n",
       "\n",
       "                        TPH Lax BS  CHG pvalue Lax  Poisson pvalue Lax  \\\n",
       "Intergenic Region                                                        \n",
       "Chr12: 289251-290213   5249.133788    0.000000e+00                 0.0   \n",
       "Chr2: 275527-276253    4206.081531    1.800000e-10                 0.0   \n",
       "Chr11: 613527-615372   3169.976308    1.330000e-10                 0.0   \n",
       "Chr11: 229524-231871   2484.335559    0.000000e+00                 0.0   \n",
       "Chr4: 1488983-1490589  2618.705544    6.060000e-11                 0.0   \n",
       "\n",
       "                                                                Sequence  \\\n",
       "Intergenic Region                                                          \n",
       "Chr12: 289251-290213   (T, G, C, C, A, A, G, C, T, G, T, A, T, G, G, ...   \n",
       "Chr2: 275527-276253    (C, A, T, A, C, A, A, T, G, G, A, G, C, T, G, ...   \n",
       "Chr11: 613527-615372   (C, G, C, C, G, C, T, A, G, A, A, C, T, G, G, ...   \n",
       "Chr11: 229524-231871   (T, T, A, T, G, C, C, T, A, A, A, G, A, T, T, ...   \n",
       "Chr4: 1488983-1490589  (T, A, C, A, T, C, G, A, A, G, A, G, A, T, T, ...   \n",
       "\n",
       "                              gal4 pos             gal4 score  gal4 orientaion  \n",
       "Intergenic Region                                                               \n",
       "Chr12: 289251-290213   [713, 716, 796]  [12.27, 11.64, 16.12]      [-1, 1, -1]  \n",
       "Chr2: 275527-276253         [327, 414]         [13.49, 12.72]           [1, 1]  \n",
       "Chr11: 613527-615372                []                     []               []  \n",
       "Chr11: 229524-231871                []                     []               []  \n",
       "Chr4: 1488983-1490589               []                     []               []  \n",
       "\n",
       "[5 rows x 28 columns]"
      ]
     },
     "execution_count": 65,
     "metadata": {},
     "output_type": "execute_result"
    }
   ],
   "source": [
    "sig_hits.head()"
   ]
  },
  {
   "cell_type": "markdown",
   "metadata": {},
   "source": [
    "## Find number of CGG forward and CCG reverse sites"
   ]
  },
  {
   "cell_type": "code",
   "execution_count": 66,
   "metadata": {
    "scrolled": false
   },
   "outputs": [],
   "source": [
    "forward_cgg = []\n",
    "reverse_ccg = []\n",
    "for x in range(len(sig_hits.index)):\n",
    "    forward_cgg.append(sig_hits[\"Sequence\"][x].count(\"CGG\"))\n",
    "    reverse_ccg.append(sig_hits[\"Sequence\"][x].count(\"CCG\"))"
   ]
  },
  {
   "cell_type": "code",
   "execution_count": 67,
   "metadata": {},
   "outputs": [],
   "source": [
    "sig_hits[\"Forward\"] = forward_cgg\n",
    "sig_hits[\"Reverse\"] = reverse_ccg"
   ]
  },
  {
   "cell_type": "code",
   "execution_count": 68,
   "metadata": {},
   "outputs": [
    {
     "data": {
      "text/html": [
       "<div>\n",
       "<table border=\"1\" class=\"dataframe\">\n",
       "  <thead>\n",
       "    <tr style=\"text-align: right;\">\n",
       "      <th></th>\n",
       "      <th>Chr</th>\n",
       "      <th>Start</th>\n",
       "      <th>End</th>\n",
       "      <th>Left Feature</th>\n",
       "      <th>Right Feature</th>\n",
       "      <th>Left Common Name</th>\n",
       "      <th>Right Common Name</th>\n",
       "      <th>TPH</th>\n",
       "      <th>Log TPH</th>\n",
       "      <th>TPH BS</th>\n",
       "      <th>...</th>\n",
       "      <th>TPH Lax</th>\n",
       "      <th>TPH Lax BS</th>\n",
       "      <th>CHG pvalue Lax</th>\n",
       "      <th>Poisson pvalue Lax</th>\n",
       "      <th>Sequence</th>\n",
       "      <th>gal4 pos</th>\n",
       "      <th>gal4 score</th>\n",
       "      <th>gal4 orientaion</th>\n",
       "      <th>Forward</th>\n",
       "      <th>Reverse</th>\n",
       "    </tr>\n",
       "    <tr>\n",
       "      <th>Intergenic Region</th>\n",
       "      <th></th>\n",
       "      <th></th>\n",
       "      <th></th>\n",
       "      <th></th>\n",
       "      <th></th>\n",
       "      <th></th>\n",
       "      <th></th>\n",
       "      <th></th>\n",
       "      <th></th>\n",
       "      <th></th>\n",
       "      <th></th>\n",
       "      <th></th>\n",
       "      <th></th>\n",
       "      <th></th>\n",
       "      <th></th>\n",
       "      <th></th>\n",
       "      <th></th>\n",
       "      <th></th>\n",
       "      <th></th>\n",
       "      <th></th>\n",
       "      <th></th>\n",
       "    </tr>\n",
       "  </thead>\n",
       "  <tbody>\n",
       "    <tr>\n",
       "      <th>Chr12: 289251-290213</th>\n",
       "      <td>12</td>\n",
       "      <td>289251</td>\n",
       "      <td>290213</td>\n",
       "      <td>YLR080W</td>\n",
       "      <td>YLR081W</td>\n",
       "      <td>EMP46</td>\n",
       "      <td>GAL2</td>\n",
       "      <td>5293.505722</td>\n",
       "      <td>12.370008</td>\n",
       "      <td>5223.260730</td>\n",
       "      <td>...</td>\n",
       "      <td>5323.227820</td>\n",
       "      <td>5249.133788</td>\n",
       "      <td>0.000000e+00</td>\n",
       "      <td>0.0</td>\n",
       "      <td>(T, G, C, C, A, A, G, C, T, G, T, A, T, G, G, ...</td>\n",
       "      <td>[713, 716, 796]</td>\n",
       "      <td>[12.27, 11.64, 16.12]</td>\n",
       "      <td>[-1, 1, -1]</td>\n",
       "      <td>12</td>\n",
       "      <td>8</td>\n",
       "    </tr>\n",
       "    <tr>\n",
       "      <th>Chr2: 275527-276253</th>\n",
       "      <td>2</td>\n",
       "      <td>275527</td>\n",
       "      <td>276253</td>\n",
       "      <td>YBR018C</td>\n",
       "      <td>YBR019C</td>\n",
       "      <td>GAL7</td>\n",
       "      <td>GAL10</td>\n",
       "      <td>4190.815872</td>\n",
       "      <td>12.033015</td>\n",
       "      <td>4150.400945</td>\n",
       "      <td>...</td>\n",
       "      <td>4253.232278</td>\n",
       "      <td>4206.081531</td>\n",
       "      <td>1.800000e-10</td>\n",
       "      <td>0.0</td>\n",
       "      <td>(C, A, T, A, C, A, A, T, G, G, A, G, C, T, G, ...</td>\n",
       "      <td>[327, 414]</td>\n",
       "      <td>[13.49, 12.72]</td>\n",
       "      <td>[1, 1]</td>\n",
       "      <td>5</td>\n",
       "      <td>7</td>\n",
       "    </tr>\n",
       "    <tr>\n",
       "      <th>Chr11: 613527-615372</th>\n",
       "      <td>11</td>\n",
       "      <td>613527</td>\n",
       "      <td>615372</td>\n",
       "      <td>YKR092C</td>\n",
       "      <td>YKR093W</td>\n",
       "      <td>SRP40</td>\n",
       "      <td>PTR2</td>\n",
       "      <td>3257.541982</td>\n",
       "      <td>11.669568</td>\n",
       "      <td>3173.825349</td>\n",
       "      <td>...</td>\n",
       "      <td>3257.541982</td>\n",
       "      <td>3169.976308</td>\n",
       "      <td>1.330000e-10</td>\n",
       "      <td>0.0</td>\n",
       "      <td>(C, G, C, C, G, C, T, A, G, A, A, C, T, G, G, ...</td>\n",
       "      <td>[]</td>\n",
       "      <td>[]</td>\n",
       "      <td>[]</td>\n",
       "      <td>15</td>\n",
       "      <td>18</td>\n",
       "    </tr>\n",
       "    <tr>\n",
       "      <th>Chr11: 229524-231871</th>\n",
       "      <td>11</td>\n",
       "      <td>229524</td>\n",
       "      <td>231871</td>\n",
       "      <td>YKL110C</td>\n",
       "      <td>YKL109W</td>\n",
       "      <td>KTI12</td>\n",
       "      <td>HAP4</td>\n",
       "      <td>2603.655818</td>\n",
       "      <td>11.346323</td>\n",
       "      <td>2484.335559</td>\n",
       "      <td>...</td>\n",
       "      <td>2603.655818</td>\n",
       "      <td>2484.335559</td>\n",
       "      <td>0.000000e+00</td>\n",
       "      <td>0.0</td>\n",
       "      <td>(T, T, A, T, G, C, C, T, A, A, A, G, A, T, T, ...</td>\n",
       "      <td>[]</td>\n",
       "      <td>[]</td>\n",
       "      <td>[]</td>\n",
       "      <td>33</td>\n",
       "      <td>29</td>\n",
       "    </tr>\n",
       "    <tr>\n",
       "      <th>Chr4: 1488983-1490589</th>\n",
       "      <td>4</td>\n",
       "      <td>1488983</td>\n",
       "      <td>1490589</td>\n",
       "      <td>YDR524C</td>\n",
       "      <td>YDR525W-A</td>\n",
       "      <td>AGE1</td>\n",
       "      <td>SNA2</td>\n",
       "      <td>2565.017090</td>\n",
       "      <td>11.324753</td>\n",
       "      <td>2469.753335</td>\n",
       "      <td>...</td>\n",
       "      <td>2725.516421</td>\n",
       "      <td>2618.705544</td>\n",
       "      <td>6.060000e-11</td>\n",
       "      <td>0.0</td>\n",
       "      <td>(T, A, C, A, T, C, G, A, A, G, A, G, A, T, T, ...</td>\n",
       "      <td>[]</td>\n",
       "      <td>[]</td>\n",
       "      <td>[]</td>\n",
       "      <td>19</td>\n",
       "      <td>17</td>\n",
       "    </tr>\n",
       "  </tbody>\n",
       "</table>\n",
       "<p>5 rows × 30 columns</p>\n",
       "</div>"
      ],
      "text/plain": [
       "                       Chr    Start      End Left Feature Right Feature  \\\n",
       "Intergenic Region                                                         \n",
       "Chr12: 289251-290213    12   289251   290213      YLR080W       YLR081W   \n",
       "Chr2: 275527-276253      2   275527   276253      YBR018C       YBR019C   \n",
       "Chr11: 613527-615372    11   613527   615372      YKR092C       YKR093W   \n",
       "Chr11: 229524-231871    11   229524   231871      YKL110C       YKL109W   \n",
       "Chr4: 1488983-1490589    4  1488983  1490589      YDR524C     YDR525W-A   \n",
       "\n",
       "                      Left Common Name Right Common Name          TPH  \\\n",
       "Intergenic Region                                                       \n",
       "Chr12: 289251-290213             EMP46              GAL2  5293.505722   \n",
       "Chr2: 275527-276253               GAL7             GAL10  4190.815872   \n",
       "Chr11: 613527-615372             SRP40              PTR2  3257.541982   \n",
       "Chr11: 229524-231871             KTI12              HAP4  2603.655818   \n",
       "Chr4: 1488983-1490589             AGE1              SNA2  2565.017090   \n",
       "\n",
       "                         Log TPH       TPH BS   ...         TPH Lax  \\\n",
       "Intergenic Region                               ...                   \n",
       "Chr12: 289251-290213   12.370008  5223.260730   ...     5323.227820   \n",
       "Chr2: 275527-276253    12.033015  4150.400945   ...     4253.232278   \n",
       "Chr11: 613527-615372   11.669568  3173.825349   ...     3257.541982   \n",
       "Chr11: 229524-231871   11.346323  2484.335559   ...     2603.655818   \n",
       "Chr4: 1488983-1490589  11.324753  2469.753335   ...     2725.516421   \n",
       "\n",
       "                        TPH Lax BS  CHG pvalue Lax  Poisson pvalue Lax  \\\n",
       "Intergenic Region                                                        \n",
       "Chr12: 289251-290213   5249.133788    0.000000e+00                 0.0   \n",
       "Chr2: 275527-276253    4206.081531    1.800000e-10                 0.0   \n",
       "Chr11: 613527-615372   3169.976308    1.330000e-10                 0.0   \n",
       "Chr11: 229524-231871   2484.335559    0.000000e+00                 0.0   \n",
       "Chr4: 1488983-1490589  2618.705544    6.060000e-11                 0.0   \n",
       "\n",
       "                                                                Sequence  \\\n",
       "Intergenic Region                                                          \n",
       "Chr12: 289251-290213   (T, G, C, C, A, A, G, C, T, G, T, A, T, G, G, ...   \n",
       "Chr2: 275527-276253    (C, A, T, A, C, A, A, T, G, G, A, G, C, T, G, ...   \n",
       "Chr11: 613527-615372   (C, G, C, C, G, C, T, A, G, A, A, C, T, G, G, ...   \n",
       "Chr11: 229524-231871   (T, T, A, T, G, C, C, T, A, A, A, G, A, T, T, ...   \n",
       "Chr4: 1488983-1490589  (T, A, C, A, T, C, G, A, A, G, A, G, A, T, T, ...   \n",
       "\n",
       "                              gal4 pos             gal4 score  \\\n",
       "Intergenic Region                                               \n",
       "Chr12: 289251-290213   [713, 716, 796]  [12.27, 11.64, 16.12]   \n",
       "Chr2: 275527-276253         [327, 414]         [13.49, 12.72]   \n",
       "Chr11: 613527-615372                []                     []   \n",
       "Chr11: 229524-231871                []                     []   \n",
       "Chr4: 1488983-1490589               []                     []   \n",
       "\n",
       "                       gal4 orientaion  Forward  Reverse  \n",
       "Intergenic Region                                         \n",
       "Chr12: 289251-290213       [-1, 1, -1]       12        8  \n",
       "Chr2: 275527-276253             [1, 1]        5        7  \n",
       "Chr11: 613527-615372                []       15       18  \n",
       "Chr11: 229524-231871                []       33       29  \n",
       "Chr4: 1488983-1490589               []       19       17  \n",
       "\n",
       "[5 rows x 30 columns]"
      ]
     },
     "execution_count": 68,
     "metadata": {},
     "output_type": "execute_result"
    }
   ],
   "source": [
    "sig_hits.head()"
   ]
  },
  {
   "cell_type": "markdown",
   "metadata": {},
   "source": [
    "### Reads in RNA seq data for Galactose vs Glucose expression\n",
    "This calculates the log2 fold change for galactose vs glucose and maps the value to the associated intergenic region."
   ]
  },
  {
   "cell_type": "code",
   "execution_count": 69,
   "metadata": {},
   "outputs": [],
   "source": [
    "rna_seq = pd.read_csv(input_directory+\"/Gal_vs_glu_RNASeq_elife-18981-fig5-data1-v4.txt\", sep=\"\\t\")"
   ]
  },
  {
   "cell_type": "code",
   "execution_count": 70,
   "metadata": {},
   "outputs": [],
   "source": [
    "rna_seq[\"TPM Glucose\"] = rna_seq[\"TPM Glucose\"].replace(0, 0.00001)"
   ]
  },
  {
   "cell_type": "code",
   "execution_count": 71,
   "metadata": {},
   "outputs": [],
   "source": [
    "rna_seq[\"TPM Galactose\"] = rna_seq[\"TPM Galactose\"].replace(0, 0.00001)"
   ]
  },
  {
   "cell_type": "code",
   "execution_count": 72,
   "metadata": {},
   "outputs": [],
   "source": [
    "rna_seq[\"Average\"] = np.log2((rna_seq[\"TPM Galactose_2\"] + rna_seq[\"TPM Galactose\"]) / (rna_seq[\"TPM Glucose_2\"] + rna_seq[\"TPM Glucose\"]))"
   ]
  },
  {
   "cell_type": "code",
   "execution_count": 73,
   "metadata": {
    "scrolled": true
   },
   "outputs": [
    {
     "data": {
      "text/html": [
       "<div>\n",
       "<table border=\"1\" class=\"dataframe\">\n",
       "  <thead>\n",
       "    <tr style=\"text-align: right;\">\n",
       "      <th></th>\n",
       "      <th>Systematic Name</th>\n",
       "      <th>TPM Glucose</th>\n",
       "      <th>TPM YEP</th>\n",
       "      <th>TPM Galactose</th>\n",
       "      <th>TPM Glucose_2</th>\n",
       "      <th>TPM YEP_2</th>\n",
       "      <th>TPM Galactose_2</th>\n",
       "      <th>Average</th>\n",
       "    </tr>\n",
       "  </thead>\n",
       "  <tbody>\n",
       "    <tr>\n",
       "      <th>0</th>\n",
       "      <td>Q0010</td>\n",
       "      <td>0.062201</td>\n",
       "      <td>0.000000</td>\n",
       "      <td>0.118834</td>\n",
       "      <td>0.000000</td>\n",
       "      <td>0.035486</td>\n",
       "      <td>0.000000</td>\n",
       "      <td>0.933933</td>\n",
       "    </tr>\n",
       "    <tr>\n",
       "      <th>1</th>\n",
       "      <td>Q0017</td>\n",
       "      <td>0.000010</td>\n",
       "      <td>0.000000</td>\n",
       "      <td>0.000010</td>\n",
       "      <td>0.000000</td>\n",
       "      <td>0.000000</td>\n",
       "      <td>0.000000</td>\n",
       "      <td>0.000000</td>\n",
       "    </tr>\n",
       "    <tr>\n",
       "      <th>2</th>\n",
       "      <td>Q0032</td>\n",
       "      <td>0.000010</td>\n",
       "      <td>0.000000</td>\n",
       "      <td>0.147128</td>\n",
       "      <td>0.000000</td>\n",
       "      <td>0.000000</td>\n",
       "      <td>0.000000</td>\n",
       "      <td>13.844784</td>\n",
       "    </tr>\n",
       "    <tr>\n",
       "      <th>3</th>\n",
       "      <td>Q0045</td>\n",
       "      <td>0.042220</td>\n",
       "      <td>0.635963</td>\n",
       "      <td>0.478033</td>\n",
       "      <td>0.047582</td>\n",
       "      <td>0.233971</td>\n",
       "      <td>0.216703</td>\n",
       "      <td>2.951631</td>\n",
       "    </tr>\n",
       "    <tr>\n",
       "      <th>4</th>\n",
       "      <td>Q0050</td>\n",
       "      <td>0.175387</td>\n",
       "      <td>1.378410</td>\n",
       "      <td>0.866002</td>\n",
       "      <td>0.111992</td>\n",
       "      <td>0.908924</td>\n",
       "      <td>0.484686</td>\n",
       "      <td>2.232668</td>\n",
       "    </tr>\n",
       "  </tbody>\n",
       "</table>\n",
       "</div>"
      ],
      "text/plain": [
       "  Systematic Name  TPM Glucose   TPM YEP  TPM Galactose  TPM Glucose_2  \\\n",
       "0           Q0010     0.062201  0.000000       0.118834       0.000000   \n",
       "1           Q0017     0.000010  0.000000       0.000010       0.000000   \n",
       "2           Q0032     0.000010  0.000000       0.147128       0.000000   \n",
       "3           Q0045     0.042220  0.635963       0.478033       0.047582   \n",
       "4           Q0050     0.175387  1.378410       0.866002       0.111992   \n",
       "\n",
       "   TPM YEP_2  TPM Galactose_2    Average  \n",
       "0   0.035486         0.000000   0.933933  \n",
       "1   0.000000         0.000000   0.000000  \n",
       "2   0.000000         0.000000  13.844784  \n",
       "3   0.233971         0.216703   2.951631  \n",
       "4   0.908924         0.484686   2.232668  "
      ]
     },
     "execution_count": 73,
     "metadata": {},
     "output_type": "execute_result"
    }
   ],
   "source": [
    "rna_seq.head()"
   ]
  },
  {
   "cell_type": "code",
   "execution_count": 74,
   "metadata": {},
   "outputs": [
    {
     "data": {
      "text/plain": [
       "6713"
      ]
     },
     "execution_count": 74,
     "metadata": {},
     "output_type": "execute_result"
    }
   ],
   "source": [
    "len(rna_seq)"
   ]
  },
  {
   "cell_type": "code",
   "execution_count": 75,
   "metadata": {},
   "outputs": [],
   "source": [
    "merge = pd.merge(sig_hits, rna_seq, left_on=\"Left Feature\", right_on=\"Systematic Name\", how=\"inner\")"
   ]
  },
  {
   "cell_type": "code",
   "execution_count": 76,
   "metadata": {},
   "outputs": [],
   "source": [
    "merge[\"Left gene log fold change\"] = merge[\"Average\"]"
   ]
  },
  {
   "cell_type": "code",
   "execution_count": 77,
   "metadata": {},
   "outputs": [],
   "source": [
    "merge = merge.drop([\"Systematic Name\", \"TPM Glucose\", \"TPM YEP\", \"TPM Galactose\", \"TPM Glucose_2\", \"TPM YEP_2\", \"TPM Galactose_2\", \"Average\"], axis=1)"
   ]
  },
  {
   "cell_type": "code",
   "execution_count": 78,
   "metadata": {},
   "outputs": [],
   "source": [
    "merge = pd.merge(merge, rna_seq, left_on=\"Right Feature\", right_on=\"Systematic Name\", how=\"inner\")"
   ]
  },
  {
   "cell_type": "code",
   "execution_count": 79,
   "metadata": {},
   "outputs": [],
   "source": [
    "merge[\"Right gene log fold change\"] = merge[\"Average\"]"
   ]
  },
  {
   "cell_type": "code",
   "execution_count": 80,
   "metadata": {},
   "outputs": [],
   "source": [
    "merge = merge.drop([\"Systematic Name\", \"TPM Glucose\", \"TPM YEP\", \"TPM Galactose\", \"TPM Glucose_2\", \"TPM YEP_2\", \"TPM Galactose_2\", \"Average\"], axis=1)"
   ]
  },
  {
   "cell_type": "markdown",
   "metadata": {},
   "source": [
    "## Determine intergenic regions with Gal4 bound and canonical and noncanonical sites\n",
    "We take the max fold change between the left and right. Then we define that a region is bound by Gal4p when it has a poisson pvalue < $10^{-5}$. The region has a Gal4 site if it has values in the given pwm.   "
   ]
  },
  {
   "cell_type": "code",
   "execution_count": 81,
   "metadata": {},
   "outputs": [],
   "source": [
    "merge[\"Max fold change\"] = merge[[\"Left gene log fold change\", \"Right gene log fold change\"]].max(axis=1)"
   ]
  },
  {
   "cell_type": "code",
   "execution_count": 82,
   "metadata": {},
   "outputs": [],
   "source": [
    "merge[\"Bound\"] = merge[(merge[\"Poisson pvalue\"] < 0.00001)] [\"Max fold change\"]"
   ]
  },
  {
   "cell_type": "code",
   "execution_count": 83,
   "metadata": {},
   "outputs": [],
   "source": [
    "merge[\"Gal4_site\"] = merge[\"gal4 score\"].apply(lambda x: 0 if x == [] else 1)"
   ]
  },
  {
   "cell_type": "code",
   "execution_count": 84,
   "metadata": {},
   "outputs": [],
   "source": [
    "merge[\"Bound_gal4_site\"] = np.where(merge[\"Gal4_site\"] == 1, merge[\"Bound\"], np.nan)\n",
    "merge[\"Bound_gal4_no_site\"] = np.where(merge[\"Gal4_site\"] == 0, merge[\"Bound\"], np.nan)"
   ]
  },
  {
   "cell_type": "markdown",
   "metadata": {},
   "source": [
    "## Average max fold change for bound region with Gal4 site"
   ]
  },
  {
   "cell_type": "code",
   "execution_count": 85,
   "metadata": {},
   "outputs": [
    {
     "data": {
      "text/plain": [
       "3.8226217686364903"
      ]
     },
     "execution_count": 85,
     "metadata": {},
     "output_type": "execute_result"
    }
   ],
   "source": [
    "mean_bound_with_site = merge[\"Bound_gal4_site\"].mean()\n",
    "mean_bound_with_site"
   ]
  },
  {
   "cell_type": "markdown",
   "metadata": {},
   "source": [
    "## Median max fold change for bound region with Gal4 site"
   ]
  },
  {
   "cell_type": "code",
   "execution_count": 86,
   "metadata": {},
   "outputs": [
    {
     "data": {
      "text/plain": [
       "2.493570784381928"
      ]
     },
     "execution_count": 86,
     "metadata": {},
     "output_type": "execute_result"
    }
   ],
   "source": [
    "median_bound_with_site = merge[\"Bound_gal4_site\"].median()\n",
    "median_bound_with_site"
   ]
  },
  {
   "cell_type": "markdown",
   "metadata": {},
   "source": [
    "## Average max fold change for bound region without Gal4 site"
   ]
  },
  {
   "cell_type": "code",
   "execution_count": 87,
   "metadata": {},
   "outputs": [
    {
     "data": {
      "text/plain": [
       "1.4782002657334599"
      ]
     },
     "execution_count": 87,
     "metadata": {},
     "output_type": "execute_result"
    }
   ],
   "source": [
    "mean_bound_without_site = merge[\"Bound_gal4_no_site\"].mean()\n",
    "mean_bound_without_site"
   ]
  },
  {
   "cell_type": "markdown",
   "metadata": {},
   "source": [
    "## Median max fold change for bound region without Gal4 site"
   ]
  },
  {
   "cell_type": "code",
   "execution_count": 88,
   "metadata": {},
   "outputs": [
    {
     "data": {
      "text/plain": [
       "0.95042402077288"
      ]
     },
     "execution_count": 88,
     "metadata": {},
     "output_type": "execute_result"
    }
   ],
   "source": [
    "median_bound_without_site = merge[\"Bound_gal4_no_site\"].median()\n",
    "median_bound_without_site"
   ]
  },
  {
   "cell_type": "markdown",
   "metadata": {},
   "source": [
    "## Number of bound Gal4 with site"
   ]
  },
  {
   "cell_type": "code",
   "execution_count": 89,
   "metadata": {},
   "outputs": [
    {
     "data": {
      "text/plain": [
       "15"
      ]
     },
     "execution_count": 89,
     "metadata": {},
     "output_type": "execute_result"
    }
   ],
   "source": [
    "bound_with_site_counts = merge[\"Bound_gal4_site\"].count()\n",
    "bound_with_site_counts"
   ]
  },
  {
   "cell_type": "markdown",
   "metadata": {},
   "source": [
    "## Number of bound Gal4 without sites"
   ]
  },
  {
   "cell_type": "code",
   "execution_count": 90,
   "metadata": {},
   "outputs": [
    {
     "data": {
      "text/plain": [
       "67"
      ]
     },
     "execution_count": 90,
     "metadata": {},
     "output_type": "execute_result"
    }
   ],
   "source": [
    "bound_no_site_counts = merge[\"Bound_gal4_no_site\"].count()\n",
    "bound_no_site_counts"
   ]
  },
  {
   "cell_type": "code",
   "execution_count": 91,
   "metadata": {},
   "outputs": [],
   "source": [
    "site_sample_mean = []\n",
    "site_sample_median = []\n",
    "nosite_sample_mean = []\n",
    "nosite_sample_median = []"
   ]
  },
  {
   "cell_type": "code",
   "execution_count": 92,
   "metadata": {},
   "outputs": [],
   "source": [
    "merge[\"Sequence_length\"] = merge[\"Sequence\"].apply(len)"
   ]
  },
  {
   "cell_type": "code",
   "execution_count": 93,
   "metadata": {},
   "outputs": [],
   "source": [
    "merge[\"Forward\"] = merge[\"Forward\"].replace(0, 0.00001)\n",
    "merge[\"Reverse\"] = merge[\"Reverse\"].replace(0, 0.00001)"
   ]
  },
  {
   "cell_type": "code",
   "execution_count": 94,
   "metadata": {},
   "outputs": [],
   "source": [
    "merge[\"Forward_site\"] = np.where(merge[\"Bound_gal4_site\"].notnull(), merge[\"Forward\"], np.nan)\n",
    "merge[\"Reverse_site\"] = np.where(merge[\"Bound_gal4_site\"].notnull(), merge[\"Reverse\"], np.nan)\n",
    "merge[\"Forward_nosite\"] = np.where(merge[\"Bound_gal4_no_site\"].notnull(), merge[\"Forward\"], np.nan)\n",
    "merge[\"Reverse_nosite\"] = np.where(merge[\"Bound_gal4_no_site\"].notnull(), merge[\"Reverse\"], np.nan)\n",
    "merge[\"Forward_notbound\"] = np.where(merge[\"Bound\"].isnull(), merge[\"Forward\"], np.nan)\n",
    "merge[\"Reverse_notbound\"] = np.where(merge[\"Bound\"].isnull(), merge[\"Reverse\"], np.nan)"
   ]
  },
  {
   "cell_type": "code",
   "execution_count": 95,
   "metadata": {},
   "outputs": [],
   "source": [
    "merge[\"avg_distance_Forward_site\"] = np.where(merge[\"Bound_gal4_site\"].notnull(), merge[\"Sequence_length\"]/merge[\"Forward\"], np.nan)\n",
    "merge[\"avg_distance_Reverse_site\"] = np.where(merge[\"Bound_gal4_site\"].notnull(), merge[\"Sequence_length\"]/merge[\"Reverse\"], np.nan)\n",
    "merge[\"avg_distance_Forward_nosite\"] = np.where(merge[\"Bound_gal4_no_site\"].notnull(), merge[\"Sequence_length\"]/merge[\"Forward\"], np.nan)\n",
    "merge[\"avg_distance_Reverse_nosite\"] = np.where(merge[\"Bound_gal4_no_site\"].notnull(), merge[\"Sequence_length\"]/merge[\"Reverse\"], np.nan)\n",
    "merge[\"avg_distance_Forward_notbound\"] = np.where(merge[\"Bound\"].isnull(), merge[\"Sequence_length\"]/merge[\"Forward\"], np.nan)\n",
    "merge[\"avg_distance_Reverse_notbound\"] = np.where(merge[\"Bound\"].isnull(), merge[\"Sequence_length\"]/merge[\"Reverse\"], np.nan)"
   ]
  },
  {
   "cell_type": "code",
   "execution_count": 96,
   "metadata": {},
   "outputs": [
    {
     "data": {
      "text/html": [
       "<div>\n",
       "<table border=\"1\" class=\"dataframe\">\n",
       "  <thead>\n",
       "    <tr style=\"text-align: right;\">\n",
       "      <th></th>\n",
       "      <th>Chr</th>\n",
       "      <th>Start</th>\n",
       "      <th>End</th>\n",
       "      <th>Left Feature</th>\n",
       "      <th>Right Feature</th>\n",
       "      <th>Left Common Name</th>\n",
       "      <th>Right Common Name</th>\n",
       "      <th>TPH</th>\n",
       "      <th>Log TPH</th>\n",
       "      <th>TPH BS</th>\n",
       "      <th>...</th>\n",
       "      <th>Forward_nosite</th>\n",
       "      <th>Reverse_nosite</th>\n",
       "      <th>Forward_notbound</th>\n",
       "      <th>Reverse_notbound</th>\n",
       "      <th>avg_distance_Forward_site</th>\n",
       "      <th>avg_distance_Reverse_site</th>\n",
       "      <th>avg_distance_Forward_nosite</th>\n",
       "      <th>avg_distance_Reverse_nosite</th>\n",
       "      <th>avg_distance_Forward_notbound</th>\n",
       "      <th>avg_distance_Reverse_notbound</th>\n",
       "    </tr>\n",
       "  </thead>\n",
       "  <tbody>\n",
       "    <tr>\n",
       "      <th>0</th>\n",
       "      <td>12</td>\n",
       "      <td>289251</td>\n",
       "      <td>290213</td>\n",
       "      <td>YLR080W</td>\n",
       "      <td>YLR081W</td>\n",
       "      <td>EMP46</td>\n",
       "      <td>GAL2</td>\n",
       "      <td>5293.505722</td>\n",
       "      <td>12.370008</td>\n",
       "      <td>5223.260730</td>\n",
       "      <td>...</td>\n",
       "      <td>NaN</td>\n",
       "      <td>NaN</td>\n",
       "      <td>NaN</td>\n",
       "      <td>NaN</td>\n",
       "      <td>105.25</td>\n",
       "      <td>157.875000</td>\n",
       "      <td>NaN</td>\n",
       "      <td>NaN</td>\n",
       "      <td>NaN</td>\n",
       "      <td>NaN</td>\n",
       "    </tr>\n",
       "    <tr>\n",
       "      <th>1</th>\n",
       "      <td>2</td>\n",
       "      <td>275527</td>\n",
       "      <td>276253</td>\n",
       "      <td>YBR018C</td>\n",
       "      <td>YBR019C</td>\n",
       "      <td>GAL7</td>\n",
       "      <td>GAL10</td>\n",
       "      <td>4190.815872</td>\n",
       "      <td>12.033015</td>\n",
       "      <td>4150.400945</td>\n",
       "      <td>...</td>\n",
       "      <td>NaN</td>\n",
       "      <td>NaN</td>\n",
       "      <td>NaN</td>\n",
       "      <td>NaN</td>\n",
       "      <td>205.40</td>\n",
       "      <td>146.714286</td>\n",
       "      <td>NaN</td>\n",
       "      <td>NaN</td>\n",
       "      <td>NaN</td>\n",
       "      <td>NaN</td>\n",
       "    </tr>\n",
       "    <tr>\n",
       "      <th>2</th>\n",
       "      <td>11</td>\n",
       "      <td>613527</td>\n",
       "      <td>615372</td>\n",
       "      <td>YKR092C</td>\n",
       "      <td>YKR093W</td>\n",
       "      <td>SRP40</td>\n",
       "      <td>PTR2</td>\n",
       "      <td>3257.541982</td>\n",
       "      <td>11.669568</td>\n",
       "      <td>3173.825349</td>\n",
       "      <td>...</td>\n",
       "      <td>15.0</td>\n",
       "      <td>18.0</td>\n",
       "      <td>NaN</td>\n",
       "      <td>NaN</td>\n",
       "      <td>NaN</td>\n",
       "      <td>NaN</td>\n",
       "      <td>143.066667</td>\n",
       "      <td>119.222222</td>\n",
       "      <td>NaN</td>\n",
       "      <td>NaN</td>\n",
       "    </tr>\n",
       "    <tr>\n",
       "      <th>3</th>\n",
       "      <td>11</td>\n",
       "      <td>229524</td>\n",
       "      <td>231871</td>\n",
       "      <td>YKL110C</td>\n",
       "      <td>YKL109W</td>\n",
       "      <td>KTI12</td>\n",
       "      <td>HAP4</td>\n",
       "      <td>2603.655818</td>\n",
       "      <td>11.346323</td>\n",
       "      <td>2484.335559</td>\n",
       "      <td>...</td>\n",
       "      <td>33.0</td>\n",
       "      <td>29.0</td>\n",
       "      <td>NaN</td>\n",
       "      <td>NaN</td>\n",
       "      <td>NaN</td>\n",
       "      <td>NaN</td>\n",
       "      <td>80.242424</td>\n",
       "      <td>91.310345</td>\n",
       "      <td>NaN</td>\n",
       "      <td>NaN</td>\n",
       "    </tr>\n",
       "    <tr>\n",
       "      <th>4</th>\n",
       "      <td>4</td>\n",
       "      <td>1488983</td>\n",
       "      <td>1490589</td>\n",
       "      <td>YDR524C</td>\n",
       "      <td>YDR525W-A</td>\n",
       "      <td>AGE1</td>\n",
       "      <td>SNA2</td>\n",
       "      <td>2565.017090</td>\n",
       "      <td>11.324753</td>\n",
       "      <td>2469.753335</td>\n",
       "      <td>...</td>\n",
       "      <td>19.0</td>\n",
       "      <td>17.0</td>\n",
       "      <td>NaN</td>\n",
       "      <td>NaN</td>\n",
       "      <td>NaN</td>\n",
       "      <td>NaN</td>\n",
       "      <td>100.368421</td>\n",
       "      <td>112.176471</td>\n",
       "      <td>NaN</td>\n",
       "      <td>NaN</td>\n",
       "    </tr>\n",
       "  </tbody>\n",
       "</table>\n",
       "<p>5 rows × 50 columns</p>\n",
       "</div>"
      ],
      "text/plain": [
       "   Chr    Start      End Left Feature Right Feature Left Common Name  \\\n",
       "0   12   289251   290213      YLR080W       YLR081W            EMP46   \n",
       "1    2   275527   276253      YBR018C       YBR019C             GAL7   \n",
       "2   11   613527   615372      YKR092C       YKR093W            SRP40   \n",
       "3   11   229524   231871      YKL110C       YKL109W            KTI12   \n",
       "4    4  1488983  1490589      YDR524C     YDR525W-A             AGE1   \n",
       "\n",
       "  Right Common Name          TPH    Log TPH       TPH BS  \\\n",
       "0              GAL2  5293.505722  12.370008  5223.260730   \n",
       "1             GAL10  4190.815872  12.033015  4150.400945   \n",
       "2              PTR2  3257.541982  11.669568  3173.825349   \n",
       "3              HAP4  2603.655818  11.346323  2484.335559   \n",
       "4              SNA2  2565.017090  11.324753  2469.753335   \n",
       "\n",
       "               ...                Forward_nosite  Reverse_nosite  \\\n",
       "0              ...                           NaN             NaN   \n",
       "1              ...                           NaN             NaN   \n",
       "2              ...                          15.0            18.0   \n",
       "3              ...                          33.0            29.0   \n",
       "4              ...                          19.0            17.0   \n",
       "\n",
       "   Forward_notbound  Reverse_notbound  avg_distance_Forward_site  \\\n",
       "0               NaN               NaN                     105.25   \n",
       "1               NaN               NaN                     205.40   \n",
       "2               NaN               NaN                        NaN   \n",
       "3               NaN               NaN                        NaN   \n",
       "4               NaN               NaN                        NaN   \n",
       "\n",
       "   avg_distance_Reverse_site  avg_distance_Forward_nosite  \\\n",
       "0                 157.875000                          NaN   \n",
       "1                 146.714286                          NaN   \n",
       "2                        NaN                   143.066667   \n",
       "3                        NaN                    80.242424   \n",
       "4                        NaN                   100.368421   \n",
       "\n",
       "   avg_distance_Reverse_nosite  avg_distance_Forward_notbound  \\\n",
       "0                          NaN                            NaN   \n",
       "1                          NaN                            NaN   \n",
       "2                   119.222222                            NaN   \n",
       "3                    91.310345                            NaN   \n",
       "4                   112.176471                            NaN   \n",
       "\n",
       "   avg_distance_Reverse_notbound  \n",
       "0                            NaN  \n",
       "1                            NaN  \n",
       "2                            NaN  \n",
       "3                            NaN  \n",
       "4                            NaN  \n",
       "\n",
       "[5 rows x 50 columns]"
      ]
     },
     "execution_count": 96,
     "metadata": {},
     "output_type": "execute_result"
    }
   ],
   "source": [
    "merge.head()"
   ]
  },
  {
   "cell_type": "markdown",
   "metadata": {},
   "source": [
    "### Average distance between CGG for bound with Gal4 site"
   ]
  },
  {
   "cell_type": "code",
   "execution_count": 97,
   "metadata": {},
   "outputs": [
    {
     "data": {
      "text/plain": [
       "138.59115094250262"
      ]
     },
     "execution_count": 97,
     "metadata": {},
     "output_type": "execute_result"
    }
   ],
   "source": [
    "merge[\"avg_distance_Forward_site\"].mean()"
   ]
  },
  {
   "cell_type": "code",
   "execution_count": 98,
   "metadata": {},
   "outputs": [
    {
     "data": {
      "text/plain": [
       "126.65820123395125"
      ]
     },
     "execution_count": 98,
     "metadata": {},
     "output_type": "execute_result"
    }
   ],
   "source": [
    "merge[\"avg_distance_Reverse_site\"].mean()"
   ]
  },
  {
   "cell_type": "code",
   "execution_count": 99,
   "metadata": {},
   "outputs": [
    {
     "data": {
      "text/plain": [
       "49.140890497605596"
      ]
     },
     "execution_count": 99,
     "metadata": {},
     "output_type": "execute_result"
    }
   ],
   "source": [
    "merge[\"avg_distance_Forward_site\"].std()"
   ]
  },
  {
   "cell_type": "code",
   "execution_count": 100,
   "metadata": {},
   "outputs": [
    {
     "data": {
      "text/plain": [
       "62.443363773425716"
      ]
     },
     "execution_count": 100,
     "metadata": {},
     "output_type": "execute_result"
    }
   ],
   "source": [
    "merge[\"avg_distance_Reverse_site\"].std()"
   ]
  },
  {
   "cell_type": "markdown",
   "metadata": {},
   "source": [
    "### Average distance between CGG for bound without Gal4 site"
   ]
  },
  {
   "cell_type": "code",
   "execution_count": 101,
   "metadata": {},
   "outputs": [
    {
     "data": {
      "text/plain": [
       "106.00076988495434"
      ]
     },
     "execution_count": 101,
     "metadata": {},
     "output_type": "execute_result"
    }
   ],
   "source": [
    "merge[\"avg_distance_Forward_nosite\"].mean()"
   ]
  },
  {
   "cell_type": "code",
   "execution_count": 102,
   "metadata": {},
   "outputs": [
    {
     "data": {
      "text/plain": [
       "112.14955445006207"
      ]
     },
     "execution_count": 102,
     "metadata": {},
     "output_type": "execute_result"
    }
   ],
   "source": [
    "merge[\"avg_distance_Reverse_nosite\"].mean()"
   ]
  },
  {
   "cell_type": "code",
   "execution_count": 103,
   "metadata": {},
   "outputs": [
    {
     "data": {
      "text/plain": [
       "39.602115839601993"
      ]
     },
     "execution_count": 103,
     "metadata": {},
     "output_type": "execute_result"
    }
   ],
   "source": [
    "merge[\"avg_distance_Forward_nosite\"].std()"
   ]
  },
  {
   "cell_type": "code",
   "execution_count": 104,
   "metadata": {},
   "outputs": [
    {
     "data": {
      "text/plain": [
       "42.728730624073997"
      ]
     },
     "execution_count": 104,
     "metadata": {},
     "output_type": "execute_result"
    }
   ],
   "source": [
    "merge[\"avg_distance_Reverse_nosite\"].std()"
   ]
  },
  {
   "cell_type": "code",
   "execution_count": 105,
   "metadata": {},
   "outputs": [],
   "source": [
    "bound_cgg_nosite = (merge[\"avg_distance_Forward_nosite\"]).tolist() \n",
    "tph_list = merge[\"TPH Lax BS\"].tolist()"
   ]
  },
  {
   "cell_type": "code",
   "execution_count": 106,
   "metadata": {},
   "outputs": [
    {
     "data": {
      "text/plain": [
       "<matplotlib.text.Text at 0x2b1e7dddd210>"
      ]
     },
     "execution_count": 106,
     "metadata": {},
     "output_type": "execute_result"
    },
    {
     "data": {
      "image/png": "[encoded data removed]",
      "text/plain": [
       "<matplotlib.figure.Figure at 0x2b1e7d7bae10>"
      ]
     },
     "metadata": {},
     "output_type": "display_data"
    }
   ],
   "source": [
    "fig, ax = plt.subplots()\n",
    "plt.plot(bound_cgg_nosite, tph_list, marker='o', linestyle=\"none\")\n",
    "#plt.plot(np.unique(unbound_cgg_site), np.poly1d(np.polyfit(unbound_cgg_site, tph_list, 1))(np.unique(unbound_cgg_site)))\n",
    "\n",
    "ax.set_title(\"Bound without site\")\n",
    "ax.set_xlabel(\"Avg distance between CGG\")\n",
    "ax.set_ylabel(\"TPH Lax BS\")"
   ]
  },
  {
   "cell_type": "markdown",
   "metadata": {},
   "source": [
    "### Average distance between CGG for not bound"
   ]
  },
  {
   "cell_type": "code",
   "execution_count": 107,
   "metadata": {},
   "outputs": [
    {
     "data": {
      "text/plain": [
       "2417954.6956959236"
      ]
     },
     "execution_count": 107,
     "metadata": {},
     "output_type": "execute_result"
    }
   ],
   "source": [
    "merge[\"avg_distance_Forward_notbound\"].mean()"
   ]
  },
  {
   "cell_type": "code",
   "execution_count": 108,
   "metadata": {},
   "outputs": [
    {
     "data": {
      "text/plain": [
       "2261751.9207330118"
      ]
     },
     "execution_count": 108,
     "metadata": {},
     "output_type": "execute_result"
    }
   ],
   "source": [
    "merge[\"avg_distance_Reverse_notbound\"].mean()"
   ]
  },
  {
   "cell_type": "code",
   "execution_count": 109,
   "metadata": {},
   "outputs": [
    {
     "data": {
      "text/plain": [
       "11561018.973006355"
      ]
     },
     "execution_count": 109,
     "metadata": {},
     "output_type": "execute_result"
    }
   ],
   "source": [
    "merge[\"avg_distance_Forward_notbound\"].std()"
   ]
  },
  {
   "cell_type": "code",
   "execution_count": 110,
   "metadata": {},
   "outputs": [
    {
     "data": {
      "text/plain": [
       "11182598.430167682"
      ]
     },
     "execution_count": 110,
     "metadata": {},
     "output_type": "execute_result"
    }
   ],
   "source": [
    "merge[\"avg_distance_Reverse_notbound\"].std()"
   ]
  },
  {
   "cell_type": "markdown",
   "metadata": {},
   "source": [
    "## Finding the best reading frame for CGG sites"
   ]
  },
  {
   "cell_type": "code",
   "execution_count": 158,
   "metadata": {},
   "outputs": [],
   "source": [
    "max_cgg = []\n",
    "num_cgg = []\n",
    "for x in range (len(merge)):\n",
    "    frame = 300\n",
    "    start = 0\n",
    "    del num_cgg[:]\n",
    "    while(frame < merge[\"Sequence_length\"][x]):\n",
    "        num_cgg.append(merge[\"Sequence\"][x][start:frame].count(\"CGG\"))\n",
    "        frame += 1\n",
    "        start += 1\n",
    "    max_cgg.append(max(num_cgg))"
   ]
  },
  {
   "cell_type": "code",
   "execution_count": 159,
   "metadata": {},
   "outputs": [],
   "source": [
    "merge[\"Best_cgg\"] = max_cgg"
   ]
  },
  {
   "cell_type": "code",
   "execution_count": 160,
   "metadata": {},
   "outputs": [],
   "source": [
    "merge[\"Best_cgg_nosite\"] = np.where(merge[\"Bound_gal4_no_site\"].notnull(), merge[\"Best_cgg\"], np.nan)\n",
    "best_cgg_nosite = (merge[\"Best_cgg_nosite\"]).tolist() "
   ]
  },
  {
   "cell_type": "code",
   "execution_count": 161,
   "metadata": {},
   "outputs": [
    {
     "data": {
      "text/plain": [
       "<matplotlib.text.Text at 0x2b1e7e8015d0>"
      ]
     },
     "execution_count": 161,
     "metadata": {},
     "output_type": "execute_result"
    },
    {
     "data": {
      "image/png": "[encoded data removed]",
      "text/plain": [
       "<matplotlib.figure.Figure at 0x2b1e7e827110>"
      ]
     },
     "metadata": {},
     "output_type": "display_data"
    }
   ],
   "source": [
    "fig, ax = plt.subplots()\n",
    "plt.plot(best_cgg_nosite, tph_list, marker='o', linestyle=\"none\")\n",
    "#plt.plot(np.unique(unbound_cgg_site), np.poly1d(np.polyfit(unbound_cgg_site, tph_list, 1))(np.unique(unbound_cgg_site)))\n",
    "\n",
    "ax.set_title(\"Bound without site\")\n",
    "ax.set_xlabel(\"Max CGG in frame\")\n",
    "ax.set_ylabel(\"TPH Lax BS\")"
   ]
  },
  {
   "cell_type": "code",
   "execution_count": 153,
   "metadata": {},
   "outputs": [
    {
     "data": {
      "text/plain": [
       "<matplotlib.text.Text at 0x2b1e7ee3afd0>"
      ]
     },
     "execution_count": 153,
     "metadata": {},
     "output_type": "execute_result"
    },
    {
     "data": {
      "image/png": "[encoded data removed]",
      "text/plain": [
       "<matplotlib.figure.Figure at 0x2b1e7e475ad0>"
      ]
     },
     "metadata": {},
     "output_type": "display_data"
    }
   ],
   "source": [
    "fig, ax = plt.subplots()\n",
    "plt.plot(best_cgg_nosite, tph_list, marker='o', linestyle=\"none\")\n",
    "#plt.plot(np.unique(unbound_cgg_site), np.poly1d(np.polyfit(unbound_cgg_site, tph_list, 1))(np.unique(unbound_cgg_site)))\n",
    "\n",
    "ax.set_title(\"Bound without site\")\n",
    "ax.set_xlabel(\"Max CGG in frame\")\n",
    "ax.set_ylabel(\"TPH Lax BS\")"
   ]
  },
  {
   "cell_type": "code",
   "execution_count": 139,
   "metadata": {},
   "outputs": [],
   "source": [
    "test_num_cgg = []\n",
    "frame = 300\n",
    "start = 0\n",
    "while(frame < merge[\"Sequence_length\"][1000]):\n",
    "    test_num_cgg.append(merge[\"Sequence\"][1000][start:frame].count(\"CGG\"))\n",
    "    frame += 1\n",
    "    start += 1"
   ]
  },
  {
   "cell_type": "code",
   "execution_count": 140,
   "metadata": {},
   "outputs": [
    {
     "data": {
      "text/plain": [
       "[<matplotlib.lines.Line2D at 0x2b1e7ed97f10>]"
      ]
     },
     "execution_count": 140,
     "metadata": {},
     "output_type": "execute_result"
    },
    {
     "data": {
      "image/png": "[encoded data removed]",
      "text/plain": [
       "<matplotlib.figure.Figure at 0x2b1e7e9e8c90>"
      ]
     },
     "metadata": {},
     "output_type": "display_data"
    }
   ],
   "source": [
    "plt.plot(test_num_cgg)"
   ]
  },
  {
   "cell_type": "code",
   "execution_count": 130,
   "metadata": {},
   "outputs": [
    {
     "data": {
      "text/plain": [
       "1263"
      ]
     },
     "execution_count": 130,
     "metadata": {},
     "output_type": "execute_result"
    }
   ],
   "source": [
    "merge[\"Sequence_length\"][0]"
   ]
  },
  {
   "cell_type": "markdown",
   "metadata": {},
   "source": [
    "## Simulated model with sites"
   ]
  },
  {
   "cell_type": "code",
   "execution_count": 116,
   "metadata": {},
   "outputs": [],
   "source": [
    "for x in range(100000):\n",
    "    sample = merge.sample(bound_with_site_counts)\n",
    "    site_sample_mean.append(sample[\"Max fold change\"].mean())\n",
    "    site_sample_median.append(sample[\"Max fold change\"].median())"
   ]
  },
  {
   "cell_type": "code",
   "execution_count": 117,
   "metadata": {},
   "outputs": [
    {
     "data": {
      "text/plain": [
       "0.41144922511067222"
      ]
     },
     "execution_count": 117,
     "metadata": {},
     "output_type": "execute_result"
    }
   ],
   "source": [
    "site_sample_average = np.mean(site_sample_mean)\n",
    "site_sample_average"
   ]
  },
  {
   "cell_type": "code",
   "execution_count": 118,
   "metadata": {},
   "outputs": [
    {
     "data": {
      "text/plain": [
       "0.18043623934519051"
      ]
     },
     "execution_count": 118,
     "metadata": {},
     "output_type": "execute_result"
    }
   ],
   "source": [
    "site_sample_median_average = np.mean(site_sample_median)\n",
    "site_sample_median_average"
   ]
  },
  {
   "cell_type": "code",
   "execution_count": 119,
   "metadata": {},
   "outputs": [
    {
     "data": {
      "text/plain": [
       "<matplotlib.text.Annotation at 0x2b1e7e270090>"
      ]
     },
     "execution_count": 119,
     "metadata": {},
     "output_type": "execute_result"
    },
    {
     "data": {
      "image/png": "[encoded data removed]",
      "text/plain": [
       "<matplotlib.figure.Figure at 0x2b1e7de9a310>"
      ]
     },
     "metadata": {},
     "output_type": "display_data"
    },
    {
     "data": {
      "image/png": "[encoded data removed]",
      "text/plain": [
       "<matplotlib.figure.Figure at 0x2b1e7ea9a350>"
      ]
     },
     "metadata": {},
     "output_type": "display_data"
    }
   ],
   "source": [
    "series = pd.DataFrame(site_sample_mean)\n",
    "fig, ax = plt.subplots()\n",
    "series.plot(kind='hist', bins=50, ax=ax, legend=False, title = \"With site\", xlim =[-2, 5])\n",
    "ax.grid(axis='y')\n",
    "ax.set_xlabel('Average fold change')\n",
    "ax.set_facecolor('#d8dcd6')\n",
    "ax.annotate(\"With site\",\n",
    "            xy=(mean_bound_with_site, 0), xycoords='data',\n",
    "            xytext=(mean_bound_with_site-0.48, 2000), textcoords='data',\n",
    "            arrowprops=dict(arrowstyle=\"->\",\n",
    "                            connectionstyle=\"arc3\"),  \n",
    "            )\n",
    "plt.axvline(site_sample_average, color='k', linestyle='dashed', linewidth=1)\n",
    "\n",
    "fig, ax = plt.subplots()\n",
    "series.plot(kind='kde',ax=ax, legend=False, xlim=[-2,5], title = \"With site\")\n",
    "ax.grid(axis='y')\n",
    "ax.set_xlabel('Average fold change')\n",
    "ax.set_facecolor('#d8dcd6')\n",
    "ax.annotate(\"With site\",\n",
    "            xy=(mean_bound_with_site, 0), xycoords='data',\n",
    "            xytext=(mean_bound_with_site-0.48, 0.5), textcoords='data',\n",
    "            arrowprops=dict(arrowstyle=\"->\",\n",
    "                            connectionstyle=\"arc3\"),  \n",
    "            )\n"
   ]
  },
  {
   "cell_type": "code",
   "execution_count": 120,
   "metadata": {},
   "outputs": [
    {
     "data": {
      "text/plain": [
       "<matplotlib.text.Annotation at 0x2b1e7e434550>"
      ]
     },
     "execution_count": 120,
     "metadata": {},
     "output_type": "execute_result"
    },
    {
     "data": {
      "image/png": "[encoded data removed]",
      "text/plain": [
       "<matplotlib.figure.Figure at 0x2b1e7e2fa150>"
      ]
     },
     "metadata": {},
     "output_type": "display_data"
    },
    {
     "data": {
      "image/png": "[encoded data removed]",
      "text/plain": [
       "<matplotlib.figure.Figure at 0x2b1e7e45bcd0>"
      ]
     },
     "metadata": {},
     "output_type": "display_data"
    }
   ],
   "source": [
    "series3 = pd.DataFrame(site_sample_median)\n",
    "fig, ax = plt.subplots()\n",
    "series3.plot(kind='hist', bins=50, ax=ax, legend=False, title = \"With site\", xlim =[-2, 5])\n",
    "ax.grid(axis='y')\n",
    "ax.set_xlabel('Median fold change')\n",
    "ax.set_facecolor('#d8dcd6')\n",
    "ax.annotate(\"With site\",\n",
    "            xy=(mean_bound_with_site, 0), xycoords='data',\n",
    "            xytext=(mean_bound_with_site-0.48, 2000), textcoords='data',\n",
    "            arrowprops=dict(arrowstyle=\"->\",\n",
    "                            connectionstyle=\"arc3\"),  \n",
    "            )\n",
    "plt.axvline(site_sample_median_average, color='k', linestyle='dashed', linewidth=1)\n",
    "\n",
    "fig, ax = plt.subplots()\n",
    "series3.plot(kind='kde',ax=ax, legend=False, xlim=[-2,5], title = \"With site\")\n",
    "ax.grid(axis='y')\n",
    "ax.set_xlabel('Median fold change')\n",
    "ax.set_facecolor('#d8dcd6')\n",
    "ax.annotate(\"With site\",\n",
    "            xy=(mean_bound_with_site, 0), xycoords='data',\n",
    "            xytext=(mean_bound_with_site-0.48, 0.5), textcoords='data',\n",
    "            arrowprops=dict(arrowstyle=\"->\",\n",
    "                            connectionstyle=\"arc3\"),  \n",
    "            )\n"
   ]
  },
  {
   "cell_type": "markdown",
   "metadata": {},
   "source": [
    "## Simulated model without site"
   ]
  },
  {
   "cell_type": "code",
   "execution_count": 121,
   "metadata": {},
   "outputs": [],
   "source": [
    "for x in range(100000):\n",
    "    sample = merge.sample(bound_no_site_counts)\n",
    "    nosite_sample_mean.append(sample[\"Max fold change\"].mean())\n",
    "    nosite_sample_median.append(sample[\"Max fold change\"].median())"
   ]
  },
  {
   "cell_type": "code",
   "execution_count": 122,
   "metadata": {},
   "outputs": [
    {
     "data": {
      "text/plain": [
       "0.16321061354578764"
      ]
     },
     "execution_count": 122,
     "metadata": {},
     "output_type": "execute_result"
    }
   ],
   "source": [
    "nosite_sample_median_average = np.mean(nosite_sample_median)\n",
    "nosite_sample_median_average"
   ]
  },
  {
   "cell_type": "code",
   "execution_count": 123,
   "metadata": {},
   "outputs": [
    {
     "data": {
      "text/plain": [
       "0.41067452069236382"
      ]
     },
     "execution_count": 123,
     "metadata": {},
     "output_type": "execute_result"
    }
   ],
   "source": [
    "nosite_sample_average = np.mean(nosite_sample_mean)\n",
    "nosite_sample_average"
   ]
  },
  {
   "cell_type": "code",
   "execution_count": 124,
   "metadata": {},
   "outputs": [
    {
     "data": {
      "text/plain": [
       "<matplotlib.text.Annotation at 0x2b1e7e835cd0>"
      ]
     },
     "execution_count": 124,
     "metadata": {},
     "output_type": "execute_result"
    },
    {
     "data": {
      "image/png": "[encoded data removed]",
      "text/plain": [
       "<matplotlib.figure.Figure at 0x2b1e7d6637d0>"
      ]
     },
     "metadata": {},
     "output_type": "display_data"
    },
    {
     "data": {
      "image/png": "[encoded data removed]",
      "text/plain": [
       "<matplotlib.figure.Figure at 0x2b1e7e835e90>"
      ]
     },
     "metadata": {},
     "output_type": "display_data"
    }
   ],
   "source": [
    "series2 = pd.DataFrame(nosite_sample_mean)\n",
    "fig, ax = plt.subplots()\n",
    "series2.plot(kind='hist', bins=50, ax=ax, legend=False, title = \"Without site\", xlim =[-2, 5])\n",
    "ax.grid(axis='y')\n",
    "ax.set_xlabel('Average fold change')\n",
    "ax.set_facecolor('#d8dcd6')\n",
    "ax.annotate(\"No site\",\n",
    "            xy=(mean_bound_without_site, 0), xycoords='data',\n",
    "            xytext=(mean_bound_without_site-0.35, 2000), textcoords='data',\n",
    "            arrowprops=dict(arrowstyle=\"->\",\n",
    "                            connectionstyle=\"arc3\"),  \n",
    "            )\n",
    "plt.axvline(nosite_sample_average, color='k', linestyle='dashed', linewidth=1)\n",
    "\n",
    "fig, ax = plt.subplots()\n",
    "series2.plot(kind='kde',ax=ax, legend=False, xlim=[-2,5], title = \"Without site\")\n",
    "ax.grid(axis='y')\n",
    "ax.set_xlabel('Average fold change')\n",
    "ax.set_facecolor('#d8dcd6')\n",
    "ax.annotate(\"No site\",\n",
    "            xy=(mean_bound_without_site, 0), xycoords='data',\n",
    "            xytext=(mean_bound_without_site-0.35, 0.5), textcoords='data',\n",
    "            arrowprops=dict(arrowstyle=\"->\",\n",
    "                            connectionstyle=\"arc3\"),  \n",
    "            )"
   ]
  },
  {
   "cell_type": "code",
   "execution_count": 125,
   "metadata": {},
   "outputs": [
    {
     "data": {
      "text/plain": [
       "<matplotlib.text.Annotation at 0x2b1e7e298990>"
      ]
     },
     "execution_count": 125,
     "metadata": {},
     "output_type": "execute_result"
    },
    {
     "data": {
      "image/png": "[encoded data removed]",
      "text/plain": [
       "<matplotlib.figure.Figure at 0x2b1e7e434e50>"
      ]
     },
     "metadata": {},
     "output_type": "display_data"
    },
    {
     "data": {
      "image/png": "[encoded data removed]",
      "text/plain": [
       "<matplotlib.figure.Figure at 0x2b1e7e209d50>"
      ]
     },
     "metadata": {},
     "output_type": "display_data"
    }
   ],
   "source": [
    "series4 = pd.DataFrame(nosite_sample_median)\n",
    "fig, ax = plt.subplots()\n",
    "series4.plot(kind='hist', bins=50, ax=ax, legend=False, title = \"Without site\", xlim =[-2, 5])\n",
    "ax.grid(axis='y')\n",
    "ax.set_xlabel('Median fold change')\n",
    "ax.set_facecolor('#d8dcd6')\n",
    "ax.annotate(\"No site\",\n",
    "            xy=(mean_bound_without_site, 0), xycoords='data',\n",
    "            xytext=(mean_bound_without_site-0.35, 2000), textcoords='data',\n",
    "            arrowprops=dict(arrowstyle=\"->\",\n",
    "                            connectionstyle=\"arc3\"),  \n",
    "            )\n",
    "plt.axvline(nosite_sample_median_average, color='k', linestyle='dashed', linewidth=1)\n",
    "\n",
    "fig, ax = plt.subplots()\n",
    "series4.plot(kind='kde',ax=ax, legend=False, xlim=[-2,5], title = \"Without site\")\n",
    "ax.grid(axis='y')\n",
    "ax.set_xlabel('Median fold change')\n",
    "ax.set_facecolor('#d8dcd6')\n",
    "ax.annotate(\"No site\",\n",
    "            xy=(mean_bound_without_site, 0), xycoords='data',\n",
    "            xytext=(mean_bound_without_site-0.35, 1), textcoords='data',\n",
    "            arrowprops=dict(arrowstyle=\"->\",\n",
    "                            connectionstyle=\"arc3\"),  \n",
    "            )\n"
   ]
  },
  {
   "cell_type": "code",
   "execution_count": 155,
   "metadata": {},
   "outputs": [],
   "source": [
    "merge.to_csv(\"Gal4_targets_seq_bindsites.txt\", sep='\\t')"
   ]
  }
 ],
 "metadata": {
  "kernelspec": {
   "display_name": "Python 3",
   "language": "python",
   "name": "python3"
  },
  "language_info": {
   "codemirror_mode": {
    "name": "ipython",
    "version": 3
   },
   "file_extension": ".py",
   "mimetype": "text/x-python",
   "name": "python",
   "nbconvert_exporter": "python",
   "pygments_lexer": "ipython3",
   "version": "3.7.4"
  }
 },
 "nbformat": 4,
 "nbformat_minor": 2
}
