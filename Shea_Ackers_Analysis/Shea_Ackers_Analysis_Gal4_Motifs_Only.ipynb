{
 "cells": [
  {
   "cell_type": "markdown",
   "metadata": {},
   "source": [
    "# Shea Ackers Modeling of Gal4\n",
    "In this notebook we will parameterize a fast shea ackers model and apply it to Gal4. An earlier version of this model used Matlab for the dynamic programming, and some of the front end scripts are written in such a way as to maintain compatibity. \n",
    "\n",
    "We first need to make two text files: an epsilon matrix, which is just the free energies of binding for each site for each promoter, and a hops.txt (or TPH.txt) file.  Each row of the hops.txt file gives the experimentally observed binding score (in units of TPH, or transpositions per promoter normalized to 100,000 total insertions collected). These files have to have the same ordering -- the ith row in each should correspond to the same promoter in yeast. "
   ]
  },
  {
   "cell_type": "markdown",
   "metadata": {},
   "source": [
    "##  Translating from a PWM to a Free Energy Matrix\n",
    "The ScerTF database contains position specific weight matrices (PWMs) for nearly all TFs in yeast.  How can one translate from a PWM to a free energy matrix, which is required for the Shea Ackers model?  There are several treatments of this.  We use the approach described in \"Neural networks for determining protein specificity and multiple alignment of binding sites\" by Heumann, Lapedes and Stormo 1994.  \n",
    "\n",
    "They derive the following relationship between a free energy matrix and the frequency matrix (equation 19 in the paper):\n",
    "\n",
    "$$W(b,m) = -ln \\frac{F(b,m)}{p(b)} $$\n",
    "\n",
    "Since a PWM has the equation:\n",
    "$$PWM(b,m) = log_2\\frac{F(b,m)}{p(b)}$$\n",
    "\n",
    "These can be converted by:\n",
    "$$W(b,m) = -ln(2)*PWM(b,m)$$\n",
    "\n",
    "However, we obtained PWMs from the ScerTF database, which converted the PFM to PWM using the non-conventional formula, \n",
    "\n",
    "$$PWM_{Spivak}(b,m) = ln \\frac{F(b,m)}{p(b)}$$\n",
    "\n",
    "where $p(b) =$ {\"A\":0.32,\"C\":0.18,\"G\":0.18,\"T\":0.32} instead of the usual $p(b)=$ {\"A\":0.31,\"C\":0.19,\"G\":0.19,\"T\":0.31}\n",
    "\n",
    "So, to convert a Spivak PWM to a free energy matrix, ignoring the slight differences in the background distributions $p(b)$, one simply does the following:\n",
    "\n",
    "$$W(b,m) = -PWM_{Spivak}(b,m)$$"
   ]
  },
  {
   "cell_type": "code",
   "execution_count": 106,
   "metadata": {},
   "outputs": [],
   "source": [
    "from analyze_sig_hits_v3 import *"
   ]
  },
  {
   "cell_type": "code",
   "execution_count": 108,
   "metadata": {},
   "outputs": [],
   "source": [
    "#Load experimental Gal4 data\n",
    "cf = make_comparison_frame('./sig_prom_gal4_FL_combined.gnashy.txt',\n",
    "                           './sig_prom_gal4_DBD_combined.gnashy.txt'\n",
    "                           ,'Gal4_FL','Gal4_DBD',True,True)"
   ]
  },
  {
   "cell_type": "code",
   "execution_count": 109,
   "metadata": {},
   "outputs": [
    {
     "data": {
      "text/html": [
       "<div>\n",
       "<style scoped>\n",
       "    .dataframe tbody tr th:only-of-type {\n",
       "        vertical-align: middle;\n",
       "    }\n",
       "\n",
       "    .dataframe tbody tr th {\n",
       "        vertical-align: top;\n",
       "    }\n",
       "\n",
       "    .dataframe thead th {\n",
       "        text-align: right;\n",
       "    }\n",
       "</style>\n",
       "<table border=\"1\" class=\"dataframe\">\n",
       "  <thead>\n",
       "    <tr style=\"text-align: right;\">\n",
       "      <th></th>\n",
       "      <th>Gal4_FL TPH BS</th>\n",
       "      <th>Gal4_FL pvalue</th>\n",
       "      <th>Gal4_DBD TPH BS</th>\n",
       "      <th>Gal4_DBD pvalue</th>\n",
       "      <th>Sequence</th>\n",
       "      <th>Log2FC</th>\n",
       "      <th>Left Common Name</th>\n",
       "      <th>Right Common Name</th>\n",
       "    </tr>\n",
       "    <tr>\n",
       "      <th>Intergenic Region</th>\n",
       "      <th></th>\n",
       "      <th></th>\n",
       "      <th></th>\n",
       "      <th></th>\n",
       "      <th></th>\n",
       "      <th></th>\n",
       "      <th></th>\n",
       "      <th></th>\n",
       "    </tr>\n",
       "  </thead>\n",
       "  <tbody>\n",
       "    <tr>\n",
       "      <th>Chr12: 289251-290213</th>\n",
       "      <td>5223.260730</td>\n",
       "      <td>0.0</td>\n",
       "      <td>3177.730496</td>\n",
       "      <td>0.000000e+00</td>\n",
       "      <td>(T, G, C, C, A, A, G, C, T, G, T, A, T, G, G, ...</td>\n",
       "      <td>-0.716954</td>\n",
       "      <td>EMP46</td>\n",
       "      <td>GAL2</td>\n",
       "    </tr>\n",
       "    <tr>\n",
       "      <th>Chr2: 275527-276253</th>\n",
       "      <td>4150.400945</td>\n",
       "      <td>0.0</td>\n",
       "      <td>4726.492493</td>\n",
       "      <td>0.000000e+00</td>\n",
       "      <td>(C, A, T, A, C, A, A, T, G, G, A, G, C, T, G, ...</td>\n",
       "      <td>0.187519</td>\n",
       "      <td>GAL7</td>\n",
       "      <td>GAL10</td>\n",
       "    </tr>\n",
       "    <tr>\n",
       "      <th>Chr11: 613527-615372</th>\n",
       "      <td>3173.825349</td>\n",
       "      <td>0.0</td>\n",
       "      <td>292.733355</td>\n",
       "      <td>0.000000e+00</td>\n",
       "      <td>(C, G, C, C, G, C, T, A, G, A, A, C, T, G, G, ...</td>\n",
       "      <td>-3.438564</td>\n",
       "      <td>SRP40</td>\n",
       "      <td>PTR2</td>\n",
       "    </tr>\n",
       "    <tr>\n",
       "      <th>Chr11: 229524-231871</th>\n",
       "      <td>2484.335559</td>\n",
       "      <td>0.0</td>\n",
       "      <td>0.000000</td>\n",
       "      <td>7.709607e-01</td>\n",
       "      <td>(T, T, A, T, G, C, C, T, A, A, A, G, A, T, T, ...</td>\n",
       "      <td>-11.278644</td>\n",
       "      <td>KTI12</td>\n",
       "      <td>HAP4</td>\n",
       "    </tr>\n",
       "    <tr>\n",
       "      <th>Chr4: 1488983-1490589</th>\n",
       "      <td>2469.753335</td>\n",
       "      <td>0.0</td>\n",
       "      <td>171.753097</td>\n",
       "      <td>2.152167e-12</td>\n",
       "      <td>(T, A, C, A, T, C, G, A, A, G, A, G, A, T, T, ...</td>\n",
       "      <td>-3.845959</td>\n",
       "      <td>AGE1</td>\n",
       "      <td>SNA2</td>\n",
       "    </tr>\n",
       "  </tbody>\n",
       "</table>\n",
       "</div>"
      ],
      "text/plain": [
       "                       Gal4_FL TPH BS  Gal4_FL pvalue  Gal4_DBD TPH BS  \\\n",
       "Intergenic Region                                                        \n",
       "Chr12: 289251-290213      5223.260730             0.0      3177.730496   \n",
       "Chr2: 275527-276253       4150.400945             0.0      4726.492493   \n",
       "Chr11: 613527-615372      3173.825349             0.0       292.733355   \n",
       "Chr11: 229524-231871      2484.335559             0.0         0.000000   \n",
       "Chr4: 1488983-1490589     2469.753335             0.0       171.753097   \n",
       "\n",
       "                       Gal4_DBD pvalue  \\\n",
       "Intergenic Region                        \n",
       "Chr12: 289251-290213      0.000000e+00   \n",
       "Chr2: 275527-276253       0.000000e+00   \n",
       "Chr11: 613527-615372      0.000000e+00   \n",
       "Chr11: 229524-231871      7.709607e-01   \n",
       "Chr4: 1488983-1490589     2.152167e-12   \n",
       "\n",
       "                                                                Sequence  \\\n",
       "Intergenic Region                                                          \n",
       "Chr12: 289251-290213   (T, G, C, C, A, A, G, C, T, G, T, A, T, G, G, ...   \n",
       "Chr2: 275527-276253    (C, A, T, A, C, A, A, T, G, G, A, G, C, T, G, ...   \n",
       "Chr11: 613527-615372   (C, G, C, C, G, C, T, A, G, A, A, C, T, G, G, ...   \n",
       "Chr11: 229524-231871   (T, T, A, T, G, C, C, T, A, A, A, G, A, T, T, ...   \n",
       "Chr4: 1488983-1490589  (T, A, C, A, T, C, G, A, A, G, A, G, A, T, T, ...   \n",
       "\n",
       "                          Log2FC Left Common Name Right Common Name  \n",
       "Intergenic Region                                                    \n",
       "Chr12: 289251-290213   -0.716954            EMP46              GAL2  \n",
       "Chr2: 275527-276253     0.187519             GAL7             GAL10  \n",
       "Chr11: 613527-615372   -3.438564            SRP40              PTR2  \n",
       "Chr11: 229524-231871  -11.278644            KTI12              HAP4  \n",
       "Chr4: 1488983-1490589  -3.845959             AGE1              SNA2  "
      ]
     },
     "execution_count": 109,
     "metadata": {},
     "output_type": "execute_result"
    }
   ],
   "source": [
    "cf.head()"
   ]
  },
  {
   "cell_type": "markdown",
   "metadata": {},
   "source": [
    "# Making an Epsilon File for Shea-Ackers in matlab\n",
    "In principle, we could compute the free energy of binding for every base pair in all bound and/or unbound promoters. However, for Gal4, we can use a cutoff to only consider binding at sites with at least a modest affinity to the TF, since very weak sites will not contribute to the computation, and the code will run much faster this way. We used a PWM/Free Energy cutoff of 8, which excludes sites 256 fold weaker than the consensus site. Our analysis is insensitive to the value of this cutoff. Also, for backwards compatibility with our Matlab code for computing Shea Ackers, the matrix is made square by adding 999's (which are ignored) to account for the different promoter lengths and pass along a square matrix for dynamic programming. So the procedure is 1) Apply cutoff to ignore very weak sites. 2) Convert PWM scores to free energy scores. 3) Square the matrix by adding 999's to the end of the lists of scores. 4) Print the matrix to a file.  In this section, we compute the free energies for all promoters bound by Gal4 in order to quantitatively predict the binding of Gal4 at each target. The free energies are put into a annotated dataframe and then saved to a text file, \"epsilon_gal4_all.txt\""
   ]
  },
  {
   "cell_type": "code",
   "execution_count": 110,
   "metadata": {},
   "outputs": [],
   "source": [
    "#Read in binding data and identify promoters bound by Gal4 in order to predict the quantitative amount of binding at this set of promoters\n",
    "\n",
    "gal4_bound = cf[cf[\"Gal4_FL pvalue\"]<1.1e-5]"
   ]
  },
  {
   "cell_type": "code",
   "execution_count": 111,
   "metadata": {},
   "outputs": [
    {
     "data": {
      "text/plain": [
       "82"
      ]
     },
     "execution_count": 111,
     "metadata": {},
     "output_type": "execute_result"
    }
   ],
   "source": [
    "len(gal4_bound)"
   ]
  },
  {
   "cell_type": "code",
   "execution_count": 112,
   "metadata": {},
   "outputs": [],
   "source": [
    "#gal4_for_epsilon will contain the free energy information\n",
    "\n",
    "gal4_for_epsilon = gal4_bound.copy()"
   ]
  },
  {
   "cell_type": "code",
   "execution_count": 113,
   "metadata": {},
   "outputs": [],
   "source": [
    "gal4_for_epsilon = add_pwm_info(gal4_for_epsilon,'gal4',8)"
   ]
  },
  {
   "cell_type": "code",
   "execution_count": 114,
   "metadata": {},
   "outputs": [
    {
     "data": {
      "text/html": [
       "<div>\n",
       "<style scoped>\n",
       "    .dataframe tbody tr th:only-of-type {\n",
       "        vertical-align: middle;\n",
       "    }\n",
       "\n",
       "    .dataframe tbody tr th {\n",
       "        vertical-align: top;\n",
       "    }\n",
       "\n",
       "    .dataframe thead th {\n",
       "        text-align: right;\n",
       "    }\n",
       "</style>\n",
       "<table border=\"1\" class=\"dataframe\">\n",
       "  <thead>\n",
       "    <tr style=\"text-align: right;\">\n",
       "      <th></th>\n",
       "      <th>Gal4_FL TPH BS</th>\n",
       "      <th>Gal4_FL pvalue</th>\n",
       "      <th>Gal4_DBD TPH BS</th>\n",
       "      <th>Gal4_DBD pvalue</th>\n",
       "      <th>Sequence</th>\n",
       "      <th>Log2FC</th>\n",
       "      <th>Left Common Name</th>\n",
       "      <th>Right Common Name</th>\n",
       "      <th>gal4 pos</th>\n",
       "      <th>gal4 score</th>\n",
       "      <th>gal4 orientaion</th>\n",
       "    </tr>\n",
       "    <tr>\n",
       "      <th>Intergenic Region</th>\n",
       "      <th></th>\n",
       "      <th></th>\n",
       "      <th></th>\n",
       "      <th></th>\n",
       "      <th></th>\n",
       "      <th></th>\n",
       "      <th></th>\n",
       "      <th></th>\n",
       "      <th></th>\n",
       "      <th></th>\n",
       "      <th></th>\n",
       "    </tr>\n",
       "  </thead>\n",
       "  <tbody>\n",
       "    <tr>\n",
       "      <th>Chr12: 289251-290213</th>\n",
       "      <td>5223.260730</td>\n",
       "      <td>0.0</td>\n",
       "      <td>3177.730496</td>\n",
       "      <td>0.000000e+00</td>\n",
       "      <td>(T, G, C, C, A, A, G, C, T, G, T, A, T, G, G, ...</td>\n",
       "      <td>-0.716954</td>\n",
       "      <td>EMP46</td>\n",
       "      <td>GAL2</td>\n",
       "      <td>[599, 713, 716, 796]</td>\n",
       "      <td>[9.97, 12.27, 11.639999999999997, 16.119999999...</td>\n",
       "      <td>[-1, -1, 1, -1]</td>\n",
       "    </tr>\n",
       "    <tr>\n",
       "      <th>Chr2: 275527-276253</th>\n",
       "      <td>4150.400945</td>\n",
       "      <td>0.0</td>\n",
       "      <td>4726.492493</td>\n",
       "      <td>0.000000e+00</td>\n",
       "      <td>(C, A, T, A, C, A, A, T, G, G, A, G, C, T, G, ...</td>\n",
       "      <td>0.187519</td>\n",
       "      <td>GAL7</td>\n",
       "      <td>GAL10</td>\n",
       "      <td>[327, 414]</td>\n",
       "      <td>[13.490000000000002, 12.719999999999999]</td>\n",
       "      <td>[1, 1]</td>\n",
       "    </tr>\n",
       "    <tr>\n",
       "      <th>Chr11: 613527-615372</th>\n",
       "      <td>3173.825349</td>\n",
       "      <td>0.0</td>\n",
       "      <td>292.733355</td>\n",
       "      <td>0.000000e+00</td>\n",
       "      <td>(C, G, C, C, G, C, T, A, G, A, A, C, T, G, G, ...</td>\n",
       "      <td>-3.438564</td>\n",
       "      <td>SRP40</td>\n",
       "      <td>PTR2</td>\n",
       "      <td>[]</td>\n",
       "      <td>[]</td>\n",
       "      <td>[]</td>\n",
       "    </tr>\n",
       "    <tr>\n",
       "      <th>Chr11: 229524-231871</th>\n",
       "      <td>2484.335559</td>\n",
       "      <td>0.0</td>\n",
       "      <td>0.000000</td>\n",
       "      <td>7.709607e-01</td>\n",
       "      <td>(T, T, A, T, G, C, C, T, A, A, A, G, A, T, T, ...</td>\n",
       "      <td>-11.278644</td>\n",
       "      <td>KTI12</td>\n",
       "      <td>HAP4</td>\n",
       "      <td>[]</td>\n",
       "      <td>[]</td>\n",
       "      <td>[]</td>\n",
       "    </tr>\n",
       "    <tr>\n",
       "      <th>Chr4: 1488983-1490589</th>\n",
       "      <td>2469.753335</td>\n",
       "      <td>0.0</td>\n",
       "      <td>171.753097</td>\n",
       "      <td>2.152167e-12</td>\n",
       "      <td>(T, A, C, A, T, C, G, A, A, G, A, G, A, T, T, ...</td>\n",
       "      <td>-3.845959</td>\n",
       "      <td>AGE1</td>\n",
       "      <td>SNA2</td>\n",
       "      <td>[]</td>\n",
       "      <td>[]</td>\n",
       "      <td>[]</td>\n",
       "    </tr>\n",
       "  </tbody>\n",
       "</table>\n",
       "</div>"
      ],
      "text/plain": [
       "                       Gal4_FL TPH BS  Gal4_FL pvalue  Gal4_DBD TPH BS  \\\n",
       "Intergenic Region                                                        \n",
       "Chr12: 289251-290213      5223.260730             0.0      3177.730496   \n",
       "Chr2: 275527-276253       4150.400945             0.0      4726.492493   \n",
       "Chr11: 613527-615372      3173.825349             0.0       292.733355   \n",
       "Chr11: 229524-231871      2484.335559             0.0         0.000000   \n",
       "Chr4: 1488983-1490589     2469.753335             0.0       171.753097   \n",
       "\n",
       "                       Gal4_DBD pvalue  \\\n",
       "Intergenic Region                        \n",
       "Chr12: 289251-290213      0.000000e+00   \n",
       "Chr2: 275527-276253       0.000000e+00   \n",
       "Chr11: 613527-615372      0.000000e+00   \n",
       "Chr11: 229524-231871      7.709607e-01   \n",
       "Chr4: 1488983-1490589     2.152167e-12   \n",
       "\n",
       "                                                                Sequence  \\\n",
       "Intergenic Region                                                          \n",
       "Chr12: 289251-290213   (T, G, C, C, A, A, G, C, T, G, T, A, T, G, G, ...   \n",
       "Chr2: 275527-276253    (C, A, T, A, C, A, A, T, G, G, A, G, C, T, G, ...   \n",
       "Chr11: 613527-615372   (C, G, C, C, G, C, T, A, G, A, A, C, T, G, G, ...   \n",
       "Chr11: 229524-231871   (T, T, A, T, G, C, C, T, A, A, A, G, A, T, T, ...   \n",
       "Chr4: 1488983-1490589  (T, A, C, A, T, C, G, A, A, G, A, G, A, T, T, ...   \n",
       "\n",
       "                          Log2FC Left Common Name Right Common Name  \\\n",
       "Intergenic Region                                                     \n",
       "Chr12: 289251-290213   -0.716954            EMP46              GAL2   \n",
       "Chr2: 275527-276253     0.187519             GAL7             GAL10   \n",
       "Chr11: 613527-615372   -3.438564            SRP40              PTR2   \n",
       "Chr11: 229524-231871  -11.278644            KTI12              HAP4   \n",
       "Chr4: 1488983-1490589  -3.845959             AGE1              SNA2   \n",
       "\n",
       "                                   gal4 pos  \\\n",
       "Intergenic Region                             \n",
       "Chr12: 289251-290213   [599, 713, 716, 796]   \n",
       "Chr2: 275527-276253              [327, 414]   \n",
       "Chr11: 613527-615372                     []   \n",
       "Chr11: 229524-231871                     []   \n",
       "Chr4: 1488983-1490589                    []   \n",
       "\n",
       "                                                              gal4 score  \\\n",
       "Intergenic Region                                                          \n",
       "Chr12: 289251-290213   [9.97, 12.27, 11.639999999999997, 16.119999999...   \n",
       "Chr2: 275527-276253             [13.490000000000002, 12.719999999999999]   \n",
       "Chr11: 613527-615372                                                  []   \n",
       "Chr11: 229524-231871                                                  []   \n",
       "Chr4: 1488983-1490589                                                 []   \n",
       "\n",
       "                       gal4 orientaion  \n",
       "Intergenic Region                       \n",
       "Chr12: 289251-290213   [-1, -1, 1, -1]  \n",
       "Chr2: 275527-276253             [1, 1]  \n",
       "Chr11: 613527-615372                []  \n",
       "Chr11: 229524-231871                []  \n",
       "Chr4: 1488983-1490589               []  "
      ]
     },
     "execution_count": 114,
     "metadata": {},
     "output_type": "execute_result"
    }
   ],
   "source": [
    "gal4_for_epsilon.head()"
   ]
  },
  {
   "cell_type": "code",
   "execution_count": 115,
   "metadata": {},
   "outputs": [],
   "source": [
    "def compute_distance(x):\n",
    "    if x:\n",
    "        return x[-1] - x[0]\n",
    "    else:\n",
    "        return 0"
   ]
  },
  {
   "cell_type": "code",
   "execution_count": 116,
   "metadata": {},
   "outputs": [],
   "source": [
    "gal4_for_epsilon[\"site_distance\"]=gal4_for_epsilon[\"gal4 pos\"].apply(lambda x: compute_distance(x))"
   ]
  },
  {
   "cell_type": "code",
   "execution_count": 117,
   "metadata": {},
   "outputs": [],
   "source": [
    "gal4_for_epsilon[\"num_sites\"]=gal4_for_epsilon[\"gal4 pos\"].apply(lambda x: len(x)) #all gal4 bound promoters excluding indirect interactions"
   ]
  },
  {
   "cell_type": "code",
   "execution_count": 118,
   "metadata": {},
   "outputs": [],
   "source": [
    "gal4_for_epsilon_all = gal4_for_epsilon.copy()  #all gal4 bound promoters"
   ]
  },
  {
   "cell_type": "code",
   "execution_count": 119,
   "metadata": {},
   "outputs": [
    {
     "data": {
      "text/plain": [
       "82"
      ]
     },
     "execution_count": 119,
     "metadata": {},
     "output_type": "execute_result"
    }
   ],
   "source": [
    "len(gal4_for_epsilon)"
   ]
  },
  {
   "cell_type": "code",
   "execution_count": 120,
   "metadata": {},
   "outputs": [],
   "source": [
    "site_num = gal4_for_epsilon_all[\"num_sites\"].tolist()"
   ]
  },
  {
   "cell_type": "code",
   "execution_count": 121,
   "metadata": {},
   "outputs": [],
   "source": [
    "epsilon_series_all = gal4_for_epsilon_all[\"gal4 score\"].apply(lambda x: [y*-1 for y in x])"
   ]
  },
  {
   "cell_type": "code",
   "execution_count": 122,
   "metadata": {},
   "outputs": [
    {
     "data": {
      "text/plain": [
       "Intergenic Region\n",
       "Chr12: 289251-290213     [-9.97, -12.27, -11.639999999999997, -16.11999...\n",
       "Chr2: 275527-276253             [-13.490000000000002, -12.719999999999999]\n",
       "Chr11: 613527-615372                                                    []\n",
       "Chr11: 229524-231871                                                    []\n",
       "Chr4: 1488983-1490589                                                   []\n",
       "Name: gal4 score, dtype: object"
      ]
     },
     "execution_count": 122,
     "metadata": {},
     "output_type": "execute_result"
    }
   ],
   "source": [
    "epsilon_series_all.head()"
   ]
  },
  {
   "cell_type": "code",
   "execution_count": 123,
   "metadata": {},
   "outputs": [],
   "source": [
    "\n",
    "max_sites_all = max(epsilon_series_all.apply(len))\n",
    "\n",
    "\n",
    "epsilon_series_all = epsilon_series_all.apply(lambda x: x+[999]*(max_sites_all-len(x)))\n",
    "\n"
   ]
  },
  {
   "cell_type": "code",
   "execution_count": 124,
   "metadata": {},
   "outputs": [
    {
     "data": {
      "text/plain": [
       "82"
      ]
     },
     "execution_count": 124,
     "metadata": {},
     "output_type": "execute_result"
    }
   ],
   "source": [
    "len(epsilon_series_all)"
   ]
  },
  {
   "cell_type": "code",
   "execution_count": 125,
   "metadata": {},
   "outputs": [],
   "source": [
    "\n",
    "f1=open('./epsilon_gal4_all.txt', 'w+')\n",
    "\n",
    "for line in epsilon_series_all:\n",
    "    print(\"\\t\".join(map(str,line)), file=f1)\n",
    "\n",
    "f1.close()"
   ]
  },
  {
   "cell_type": "markdown",
   "metadata": {},
   "source": [
    "## Running the Shea Ackers Model\n",
    "Most of what we've done so far is just load the data into a format we can manipulate readily.  Now we will keep only what columns we need and run the Shea Ackers Model. This model takes as input the free energy matrix for all Gal4p targets, the Gal4 concentration, and the free energy contribution of the cooperative contribution.  We used a Gal4 concentration of 27.5 nM based on the data in Ghaemmaghami et al (Nature 2003), who measured 166 Gal4 molecules / cell.  From this value, we computed a nuclear Gal4 concentration of 27.5 nM.  The cooperativity term was fit, but the model is relatively insensitive to both the energetic contribution of the cooperativity term and TF concentration."
   ]
  },
  {
   "cell_type": "code",
   "execution_count": 126,
   "metadata": {},
   "outputs": [],
   "source": [
    "\n",
    "hops_all = gal4_for_epsilon_all[\"Gal4_FL TPH BS\"]\n",
    "\n",
    "#This frame has the experimentally measured binding data at Gal4 targets"
   ]
  },
  {
   "cell_type": "code",
   "execution_count": 127,
   "metadata": {},
   "outputs": [],
   "source": [
    "f1=open('./TPHBS_gal4_all.txt', 'w+')\n",
    "\n",
    "for line in hops_all:\n",
    "    print(line,file=f1)\n",
    "\n",
    "f1.close()"
   ]
  },
  {
   "cell_type": "code",
   "execution_count": 128,
   "metadata": {},
   "outputs": [],
   "source": [
    "run thermo4"
   ]
  },
  {
   "cell_type": "code",
   "execution_count": 129,
   "metadata": {},
   "outputs": [],
   "source": [
    "epsilon = pd.read_csv(\"epsilon_gal4_all.txt\",sep=\"\\t\",header=None)"
   ]
  },
  {
   "cell_type": "code",
   "execution_count": 130,
   "metadata": {},
   "outputs": [],
   "source": [
    "hops = pd.read_csv(\"TPHBS_gal4_all.txt\",sep=\"\\t\",header=None)"
   ]
  },
  {
   "cell_type": "code",
   "execution_count": 131,
   "metadata": {},
   "outputs": [
    {
     "name": "stdout",
     "output_type": "stream",
     "text": [
      "Correlation = 0.73\n"
     ]
    },
    {
     "data": {
      "image/png": "[encoded data removed]",
      "text/plain": [
       "<Figure size 432x288 with 1 Axes>"
      ]
     },
     "metadata": {
      "needs_background": "light"
     },
     "output_type": "display_data"
    }
   ],
   "source": [
    "outframe_coop = fast_shea_ackers_series(epsilon,hops,1,-11,0.0000000275)"
   ]
  },
  {
   "cell_type": "code",
   "execution_count": 132,
   "metadata": {},
   "outputs": [],
   "source": [
    "sns.reset_orig()"
   ]
  },
  {
   "cell_type": "code",
   "execution_count": 133,
   "metadata": {},
   "outputs": [],
   "source": [
    "run ./gal4_scatterplot.py"
   ]
  },
  {
   "cell_type": "code",
   "execution_count": 134,
   "metadata": {},
   "outputs": [],
   "source": [
    "outframe_coop.columns = [\"Predicted Occupancy\",\"Observed Binding (TPH)\"]"
   ]
  },
  {
   "cell_type": "code",
   "execution_count": 135,
   "metadata": {},
   "outputs": [
    {
     "name": "stdout",
     "output_type": "stream",
     "text": [
      "0.7280109889280518\n",
      "(0.7301715859952924, 7.049596465257269e-15)\n"
     ]
    },
    {
     "data": {
      "image/png": "[encoded data removed]",
      "text/plain": [
       "<Figure size 648x432 with 1 Axes>"
      ]
     },
     "metadata": {
      "needs_background": "light"
     },
     "output_type": "display_data"
    }
   ],
   "source": [
    "scatterplot_cc(outframe_coop,\"Predicted Occupancy\",\"Observed Binding (TPH)\")"
   ]
  },
  {
   "cell_type": "markdown",
   "metadata": {},
   "source": [
    "## Highlight promoters with and without a Gal4p site \n",
    "Red dots represent promoters with a Gal4p site while purple are promoters without a site"
   ]
  },
  {
   "cell_type": "code",
   "execution_count": 136,
   "metadata": {},
   "outputs": [],
   "source": [
    "def scatterplot_cc_site(plot_frame, plot_frame2, xname = \"X\",yname = \"Y\"):\n",
    "    from matplotlib import rcParams\n",
    "    rcParams.update({'figure.autolayout':True})\n",
    "    fig = plt.figure(figsize = (9,6))\n",
    "    ax1 = fig.add_subplot(111)\n",
    "    #plt.tight_layout\n",
    "    #define experimental hop cutoff\n",
    "\n",
    "    props = dict(alpha=1, edgecolors='none' )\n",
    "    #find line of best fit\n",
    "    xd = plot_frame[xname]\n",
    "    yd = plot_frame[yname]\n",
    "    par = np.polyfit(xd, yd, 1, full=True)\n",
    "    slope=par[0][0]\n",
    "    intercept=par[0][1]\n",
    "    xl = [min(xd), max(xd)]\n",
    "    yl = [slope*xx + intercept  for xx in xl]\n",
    "    variance = np.var(yd)\n",
    "    residuals = np.var([(slope*xx + intercept - yy)  for xx,yy in zip(xd,yd)])\n",
    "    Rsqr = np.round(1-residuals/variance, decimals=2)\n",
    "    R = np.sqrt(Rsqr)\n",
    "    print(R)\n",
    "    R_test =scipy.stats.pearsonr(xd,yd)\n",
    "    print(R_test)\n",
    "    plt.text(.13,.9,'r = %0.2f'% R, fontsize=24,ha=\"center\",va=\"center\",transform=ax1.transAxes)\n",
    "    handles = []\n",
    "    \n",
    "    #c = [\"b\" if y > 5 else \"r\" for y in y]\n",
    "    \n",
    "#     plot_frame.plot.scatter(x = 'xname', \n",
    "#                    y = 'yname', \n",
    "    c = ['red' if x else 'darkmagenta' for x in (plot_frame.sites > 0)] #,\n",
    "#                    ax = ax1\n",
    "#                   )\n",
    "\n",
    "\n",
    "    handles.append(ax1.scatter(plot_frame[xname], plot_frame[yname], c=c, s=50, marker='o', **props))\n",
    "    handles.append(ax1.plot(xl, yl, '-k'))\n",
    "    #handles.append(ax1.scatter(plot_frame2.Occupancy, plot_frame2.TPH, color=\"orange\"))\n",
    "\n",
    "\n",
    "\n",
    "    #ax1.set_ylim([0,3500])\n",
    "    #ax1.set_xlim([0,3000])\n",
    "    ax1.grid(False)\n",
    "    for item in ([ax1.xaxis.label, ax1.yaxis.label] + ax1.get_xticklabels() +ax1.get_yticklabels()):\n",
    "        item.set_fontsize(18)\n",
    "    for label in ax1.xaxis.get_ticklabels()[::2]:\n",
    "        label.set_visible(False)\n",
    "    #ax1.xaxis.set_major_formatter(FormatStrFormatter('%.2f'))\n",
    "    ax1.set_xlabel(\"Observed Binding (TPH)\",fontsize=24)\n",
    "    ax1.set_ylabel(\"Predicted Occupancy\",fontsize=24)\n",
    "    \n",
    "    \n",
    "\n",
    "# loop through to annotate multiple datapoints\n",
    "#     for i in range(plot_frame2.shape[0]):\n",
    "#         plt.annotate(plot_frame2.names.tolist()[i], (df_strong_gal.Predicted_Occupancy.tolist()[i], df_strong_gal.Observed_Binding_TPH.tolist()[i]))\n",
    "#     print(df_strong_gal.shape[0])\n",
    "    plt.tight_layout()\n",
    "\n",
    "\n",
    "    #plt.show()\n",
    "    plt.savefig(\"Shea_Ackers_gal4_final.pdf\")"
   ]
  },
  {
   "cell_type": "code",
   "execution_count": 137,
   "metadata": {},
   "outputs": [],
   "source": [
    "df = outframe_coop.loc[[5]]"
   ]
  },
  {
   "cell_type": "code",
   "execution_count": 138,
   "metadata": {},
   "outputs": [],
   "source": [
    "outframe_coop[\"sites\"] = site_num"
   ]
  },
  {
   "cell_type": "code",
   "execution_count": 139,
   "metadata": {},
   "outputs": [],
   "source": [
    "df2 = outframe_coop.query('sites > 0')\n",
    "combined_gal = pd.concat([df2, df])"
   ]
  },
  {
   "cell_type": "code",
   "execution_count": 140,
   "metadata": {},
   "outputs": [],
   "source": [
    "combined_gal = combined_gal.dropna()"
   ]
  },
  {
   "cell_type": "code",
   "execution_count": 142,
   "metadata": {},
   "outputs": [
    {
     "name": "stdout",
     "output_type": "stream",
     "text": [
      "0.7280109889280518\n",
      "(0.7301715859952924, 7.049596465257269e-15)\n"
     ]
    },
    {
     "data": {
      "image/png": "[encoded data removed]",
      "text/plain": [
       "<Figure size 648x432 with 1 Axes>"
      ]
     },
     "metadata": {
      "needs_background": "light"
     },
     "output_type": "display_data"
    }
   ],
   "source": [
    "scatterplot_cc_site(outframe_coop, combined_gal,\"Predicted Occupancy\", \"Observed Binding (TPH)\")"
   ]
  },
  {
   "cell_type": "code",
   "execution_count": null,
   "metadata": {},
   "outputs": [],
   "source": []
  }
 ],
 "metadata": {
  "kernelspec": {
   "display_name": "Python 3 (ipykernel)",
   "language": "python",
   "name": "python3"
  },
  "language_info": {
   "codemirror_mode": {
    "name": "ipython",
    "version": 3
   },
   "file_extension": ".py",
   "mimetype": "text/x-python",
   "name": "python",
   "nbconvert_exporter": "python",
   "pygments_lexer": "ipython3",
   "version": "3.8.12"
  }
 },
 "nbformat": 4,
 "nbformat_minor": 4
}
