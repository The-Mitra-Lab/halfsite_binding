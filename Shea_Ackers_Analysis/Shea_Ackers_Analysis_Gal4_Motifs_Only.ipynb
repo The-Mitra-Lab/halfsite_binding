{
 "cells": [
  {
   "cell_type": "markdown",
   "metadata": {},
   "source": [
    "# Shea Ackers Modeling of Gal4\n",
    "In this notebook we will parameterize a fast shea ackers model and apply it to Gal4. An earlier version of this model used Matlab for the dynamic programming, and some of the front end scripts are written in such a way as to maintain compatibity. \n",
    "\n",
    "We first need to make two text files: an epsilon matrix, which is just the free energies of binding for each site for each promoter, and a hops.txt (or TPH.txt) file.  Each row of the hops.txt file gives the experimentally observed binding score (in units of TPH, or transpositions per promoter normalized to 100,000 total insertions collected). These files have to have the same ordering -- the ith row in each should correspond to the same promoter in yeast. "
   ]
  },
  {
   "cell_type": "markdown",
   "metadata": {},
   "source": [
    "##  Translating from a PWM to a Free Energy Matrix\n",
    "The ScerTF database contains position specific weight matrices (PWMs) for nearly all TFs in yeast.  How can one translate from a PWM to a free energy matrix, which is required for the Shea Ackers model?  There are several treatments of this.  We use the approach described in \"Neural networks for determining protein specificity and multiple alignment of binding sites\" by Heumann, Lapedes and Stormo 1994.  \n",
    "\n",
    "They derive the following relationship between a free energy matrix and the frequency matrix (equation 19 in the paper):\n",
    "\n",
    "$$W(b,m) = -ln \\frac{F(b,m)}{p(b)} $$\n",
    "\n",
    "Since a PWM has the equation:\n",
    "$$PWM(b,m) = log_2\\frac{F(b,m)}{p(b)}$$\n",
    "\n",
    "These can be converted by:\n",
    "$$W(b,m) = -ln(2)*PWM(b,m)$$\n",
    "\n",
    "However, we obtained PWMs from the ScerTF database, which converted the PFM to PWM using the non-conventional formula, \n",
    "\n",
    "$$PWM_{Spivak}(b,m) = ln \\frac{F(b,m)}{p(b)}$$\n",
    "\n",
    "where $p(b) =$ {\"A\":0.32,\"C\":0.18,\"G\":0.18,\"T\":0.32} instead of the usual $p(b)=$ {\"A\":0.31,\"C\":0.19,\"G\":0.19,\"T\":0.31}\n",
    "\n",
    "So, to convert a Spivak PWM to a free energy matrix, ignoring the slight differences in the background distributions $p(b)$, one simply does the following:\n",
    "\n",
    "$$W(b,m) = -PWM_{Spivak}(b,m)$$"
   ]
  },
  {
   "cell_type": "code",
   "execution_count": 1,
   "metadata": {},
   "outputs": [],
   "source": [
    "from analyze_sig_hits_v3 import *"
   ]
  },
  {
   "cell_type": "code",
   "execution_count": 2,
   "metadata": {},
   "outputs": [
    {
     "name": "stderr",
     "output_type": "stream",
     "text": [
      "/ref/rmlab/software/spack/opt/spack/linux-rocky8-x86_64/gcc-8.5.0/py-pandas-1.3.4-erg2vc55ub4tw5odakefhqi2dihx3y2i/lib/python3.8/site-packages/pandas/core/indexing.py:1732: SettingWithCopyWarning: \n",
      "A value is trying to be set on a copy of a slice from a DataFrame\n",
      "\n",
      "See the caveats in the documentation: https://pandas.pydata.org/pandas-docs/stable/user_guide/indexing.html#returning-a-view-versus-a-copy\n",
      "  self._setitem_single_block(indexer, value, name)\n"
     ]
    }
   ],
   "source": [
    "#Load experimental Gal4 data\n",
    "cf = make_comparison_frame('./sig_prom_gal4_FL_combined.gnashy.txt',\n",
    "                           './sig_prom_gal4_DBD_combined.gnashy.txt'\n",
    "                           ,'Gal4_FL','Gal4_DBD',True,True)"
   ]
  },
  {
   "cell_type": "code",
   "execution_count": 3,
   "metadata": {},
   "outputs": [
    {
     "data": {
      "text/html": [
       "<div>\n",
       "<style scoped>\n",
       "    .dataframe tbody tr th:only-of-type {\n",
       "        vertical-align: middle;\n",
       "    }\n",
       "\n",
       "    .dataframe tbody tr th {\n",
       "        vertical-align: top;\n",
       "    }\n",
       "\n",
       "    .dataframe thead th {\n",
       "        text-align: right;\n",
       "    }\n",
       "</style>\n",
       "<table border=\"1\" class=\"dataframe\">\n",
       "  <thead>\n",
       "    <tr style=\"text-align: right;\">\n",
       "      <th></th>\n",
       "      <th>Gal4_FL TPH BS</th>\n",
       "      <th>Gal4_FL pvalue</th>\n",
       "      <th>Gal4_DBD TPH BS</th>\n",
       "      <th>Gal4_DBD pvalue</th>\n",
       "      <th>Sequence</th>\n",
       "      <th>Log2FC</th>\n",
       "      <th>Left Common Name</th>\n",
       "      <th>Right Common Name</th>\n",
       "    </tr>\n",
       "    <tr>\n",
       "      <th>Intergenic Region</th>\n",
       "      <th></th>\n",
       "      <th></th>\n",
       "      <th></th>\n",
       "      <th></th>\n",
       "      <th></th>\n",
       "      <th></th>\n",
       "      <th></th>\n",
       "      <th></th>\n",
       "    </tr>\n",
       "  </thead>\n",
       "  <tbody>\n",
       "    <tr>\n",
       "      <th>Chr12: 289251-290213</th>\n",
       "      <td>5223.260730</td>\n",
       "      <td>0.0</td>\n",
       "      <td>3177.730496</td>\n",
       "      <td>0.000000e+00</td>\n",
       "      <td>(T, G, C, C, A, A, G, C, T, G, T, A, T, G, G, ...</td>\n",
       "      <td>-0.716954</td>\n",
       "      <td>EMP46</td>\n",
       "      <td>GAL2</td>\n",
       "    </tr>\n",
       "    <tr>\n",
       "      <th>Chr2: 275527-276253</th>\n",
       "      <td>4150.400945</td>\n",
       "      <td>0.0</td>\n",
       "      <td>4726.492493</td>\n",
       "      <td>0.000000e+00</td>\n",
       "      <td>(C, A, T, A, C, A, A, T, G, G, A, G, C, T, G, ...</td>\n",
       "      <td>0.187519</td>\n",
       "      <td>GAL7</td>\n",
       "      <td>GAL10</td>\n",
       "    </tr>\n",
       "    <tr>\n",
       "      <th>Chr11: 613527-615372</th>\n",
       "      <td>3173.825349</td>\n",
       "      <td>0.0</td>\n",
       "      <td>292.733355</td>\n",
       "      <td>0.000000e+00</td>\n",
       "      <td>(C, G, C, C, G, C, T, A, G, A, A, C, T, G, G, ...</td>\n",
       "      <td>-3.438564</td>\n",
       "      <td>SRP40</td>\n",
       "      <td>PTR2</td>\n",
       "    </tr>\n",
       "    <tr>\n",
       "      <th>Chr11: 229524-231871</th>\n",
       "      <td>2484.335559</td>\n",
       "      <td>0.0</td>\n",
       "      <td>0.000000</td>\n",
       "      <td>7.709607e-01</td>\n",
       "      <td>(T, T, A, T, G, C, C, T, A, A, A, G, A, T, T, ...</td>\n",
       "      <td>-11.278644</td>\n",
       "      <td>KTI12</td>\n",
       "      <td>HAP4</td>\n",
       "    </tr>\n",
       "    <tr>\n",
       "      <th>Chr4: 1488983-1490589</th>\n",
       "      <td>2469.753335</td>\n",
       "      <td>0.0</td>\n",
       "      <td>171.753097</td>\n",
       "      <td>2.152167e-12</td>\n",
       "      <td>(T, A, C, A, T, C, G, A, A, G, A, G, A, T, T, ...</td>\n",
       "      <td>-3.845959</td>\n",
       "      <td>AGE1</td>\n",
       "      <td>SNA2</td>\n",
       "    </tr>\n",
       "  </tbody>\n",
       "</table>\n",
       "</div>"
      ],
      "text/plain": [
       "                       Gal4_FL TPH BS  Gal4_FL pvalue  Gal4_DBD TPH BS  \\\n",
       "Intergenic Region                                                        \n",
       "Chr12: 289251-290213      5223.260730             0.0      3177.730496   \n",
       "Chr2: 275527-276253       4150.400945             0.0      4726.492493   \n",
       "Chr11: 613527-615372      3173.825349             0.0       292.733355   \n",
       "Chr11: 229524-231871      2484.335559             0.0         0.000000   \n",
       "Chr4: 1488983-1490589     2469.753335             0.0       171.753097   \n",
       "\n",
       "                       Gal4_DBD pvalue  \\\n",
       "Intergenic Region                        \n",
       "Chr12: 289251-290213      0.000000e+00   \n",
       "Chr2: 275527-276253       0.000000e+00   \n",
       "Chr11: 613527-615372      0.000000e+00   \n",
       "Chr11: 229524-231871      7.709607e-01   \n",
       "Chr4: 1488983-1490589     2.152167e-12   \n",
       "\n",
       "                                                                Sequence  \\\n",
       "Intergenic Region                                                          \n",
       "Chr12: 289251-290213   (T, G, C, C, A, A, G, C, T, G, T, A, T, G, G, ...   \n",
       "Chr2: 275527-276253    (C, A, T, A, C, A, A, T, G, G, A, G, C, T, G, ...   \n",
       "Chr11: 613527-615372   (C, G, C, C, G, C, T, A, G, A, A, C, T, G, G, ...   \n",
       "Chr11: 229524-231871   (T, T, A, T, G, C, C, T, A, A, A, G, A, T, T, ...   \n",
       "Chr4: 1488983-1490589  (T, A, C, A, T, C, G, A, A, G, A, G, A, T, T, ...   \n",
       "\n",
       "                          Log2FC Left Common Name Right Common Name  \n",
       "Intergenic Region                                                    \n",
       "Chr12: 289251-290213   -0.716954            EMP46              GAL2  \n",
       "Chr2: 275527-276253     0.187519             GAL7             GAL10  \n",
       "Chr11: 613527-615372   -3.438564            SRP40              PTR2  \n",
       "Chr11: 229524-231871  -11.278644            KTI12              HAP4  \n",
       "Chr4: 1488983-1490589  -3.845959             AGE1              SNA2  "
      ]
     },
     "execution_count": 3,
     "metadata": {},
     "output_type": "execute_result"
    }
   ],
   "source": [
    "cf.head()"
   ]
  },
  {
   "cell_type": "markdown",
   "metadata": {},
   "source": [
    "# Making an Epsilon File for Shea-Ackers in matlab\n",
    "In principle, we could compute the free energy of binding for every base pair in all bound and/or unbound promoters. However, for Gal4, we can use a cutoff to only consider binding at sites with at least a modest affinity to the TF, since very weak sites will not contribute to the computation, and the code will run much faster this way. We used a PWM/Free Energy cutoff of 8, which excludes sites 256 fold weaker than the consensus site. Our analysis is insensitive to the value of this cutoff. Also, for backwards compatibility with our Matlab code for computing Shea Ackers, the matrix is made square by adding 999's (which are ignored) to account for the different promoter lengths and pass along a square matrix for dynamic programming. So the procedure is 1) Apply cutoff to ignore very weak sites. 2) Convert PWM scores to free energy scores. 3) Square the matrix by adding 999's to the end of the lists of scores. 4) Print the matrix to a file.  In this section, we compute the free energies for all promoters bound by Gal4 in order to quantitatively predict the binding of Gal4 at each target. The free energies are put into a annotated dataframe and then saved to a text file, \"epsilon_gal4_all.txt\""
   ]
  },
  {
   "cell_type": "code",
   "execution_count": 4,
   "metadata": {},
   "outputs": [],
   "source": [
    "#Read in binding data and identify promoters bound by Gal4 in order to predict the quantitative amount of binding at this set of promoters\n",
    "\n",
    "gal4_bound = cf[cf[\"Gal4_FL pvalue\"]<1.1e-5]"
   ]
  },
  {
   "cell_type": "code",
   "execution_count": 5,
   "metadata": {},
   "outputs": [
    {
     "data": {
      "text/plain": [
       "82"
      ]
     },
     "execution_count": 5,
     "metadata": {},
     "output_type": "execute_result"
    }
   ],
   "source": [
    "len(gal4_bound)"
   ]
  },
  {
   "cell_type": "code",
   "execution_count": 6,
   "metadata": {},
   "outputs": [],
   "source": [
    "#gal4_for_epsilon will contain the free energy information\n",
    "\n",
    "gal4_for_epsilon = gal4_bound.copy()"
   ]
  },
  {
   "cell_type": "code",
   "execution_count": 7,
   "metadata": {},
   "outputs": [],
   "source": [
    "gal4_for_epsilon = add_pwm_info(gal4_for_epsilon,'gal4',8)"
   ]
  },
  {
   "cell_type": "code",
   "execution_count": 8,
   "metadata": {},
   "outputs": [
    {
     "data": {
      "text/html": [
       "<div>\n",
       "<style scoped>\n",
       "    .dataframe tbody tr th:only-of-type {\n",
       "        vertical-align: middle;\n",
       "    }\n",
       "\n",
       "    .dataframe tbody tr th {\n",
       "        vertical-align: top;\n",
       "    }\n",
       "\n",
       "    .dataframe thead th {\n",
       "        text-align: right;\n",
       "    }\n",
       "</style>\n",
       "<table border=\"1\" class=\"dataframe\">\n",
       "  <thead>\n",
       "    <tr style=\"text-align: right;\">\n",
       "      <th></th>\n",
       "      <th>Gal4_FL TPH BS</th>\n",
       "      <th>Gal4_FL pvalue</th>\n",
       "      <th>Gal4_DBD TPH BS</th>\n",
       "      <th>Gal4_DBD pvalue</th>\n",
       "      <th>Sequence</th>\n",
       "      <th>Log2FC</th>\n",
       "      <th>Left Common Name</th>\n",
       "      <th>Right Common Name</th>\n",
       "      <th>gal4 pos</th>\n",
       "      <th>gal4 score</th>\n",
       "      <th>gal4 orientaion</th>\n",
       "    </tr>\n",
       "    <tr>\n",
       "      <th>Intergenic Region</th>\n",
       "      <th></th>\n",
       "      <th></th>\n",
       "      <th></th>\n",
       "      <th></th>\n",
       "      <th></th>\n",
       "      <th></th>\n",
       "      <th></th>\n",
       "      <th></th>\n",
       "      <th></th>\n",
       "      <th></th>\n",
       "      <th></th>\n",
       "    </tr>\n",
       "  </thead>\n",
       "  <tbody>\n",
       "    <tr>\n",
       "      <th>Chr12: 289251-290213</th>\n",
       "      <td>5223.260730</td>\n",
       "      <td>0.0</td>\n",
       "      <td>3177.730496</td>\n",
       "      <td>0.000000e+00</td>\n",
       "      <td>(T, G, C, C, A, A, G, C, T, G, T, A, T, G, G, ...</td>\n",
       "      <td>-0.716954</td>\n",
       "      <td>EMP46</td>\n",
       "      <td>GAL2</td>\n",
       "      <td>[599, 713, 716, 796]</td>\n",
       "      <td>[9.97, 12.27, 11.639999999999997, 16.119999999...</td>\n",
       "      <td>[-1, -1, 1, -1]</td>\n",
       "    </tr>\n",
       "    <tr>\n",
       "      <th>Chr2: 275527-276253</th>\n",
       "      <td>4150.400945</td>\n",
       "      <td>0.0</td>\n",
       "      <td>4726.492493</td>\n",
       "      <td>0.000000e+00</td>\n",
       "      <td>(C, A, T, A, C, A, A, T, G, G, A, G, C, T, G, ...</td>\n",
       "      <td>0.187519</td>\n",
       "      <td>GAL7</td>\n",
       "      <td>GAL10</td>\n",
       "      <td>[327, 414]</td>\n",
       "      <td>[13.490000000000002, 12.719999999999999]</td>\n",
       "      <td>[1, 1]</td>\n",
       "    </tr>\n",
       "    <tr>\n",
       "      <th>Chr11: 613527-615372</th>\n",
       "      <td>3173.825349</td>\n",
       "      <td>0.0</td>\n",
       "      <td>292.733355</td>\n",
       "      <td>0.000000e+00</td>\n",
       "      <td>(C, G, C, C, G, C, T, A, G, A, A, C, T, G, G, ...</td>\n",
       "      <td>-3.438564</td>\n",
       "      <td>SRP40</td>\n",
       "      <td>PTR2</td>\n",
       "      <td>[]</td>\n",
       "      <td>[]</td>\n",
       "      <td>[]</td>\n",
       "    </tr>\n",
       "    <tr>\n",
       "      <th>Chr11: 229524-231871</th>\n",
       "      <td>2484.335559</td>\n",
       "      <td>0.0</td>\n",
       "      <td>0.000000</td>\n",
       "      <td>7.709607e-01</td>\n",
       "      <td>(T, T, A, T, G, C, C, T, A, A, A, G, A, T, T, ...</td>\n",
       "      <td>-11.278644</td>\n",
       "      <td>KTI12</td>\n",
       "      <td>HAP4</td>\n",
       "      <td>[]</td>\n",
       "      <td>[]</td>\n",
       "      <td>[]</td>\n",
       "    </tr>\n",
       "    <tr>\n",
       "      <th>Chr4: 1488983-1490589</th>\n",
       "      <td>2469.753335</td>\n",
       "      <td>0.0</td>\n",
       "      <td>171.753097</td>\n",
       "      <td>2.152167e-12</td>\n",
       "      <td>(T, A, C, A, T, C, G, A, A, G, A, G, A, T, T, ...</td>\n",
       "      <td>-3.845959</td>\n",
       "      <td>AGE1</td>\n",
       "      <td>SNA2</td>\n",
       "      <td>[]</td>\n",
       "      <td>[]</td>\n",
       "      <td>[]</td>\n",
       "    </tr>\n",
       "  </tbody>\n",
       "</table>\n",
       "</div>"
      ],
      "text/plain": [
       "                       Gal4_FL TPH BS  Gal4_FL pvalue  Gal4_DBD TPH BS  \\\n",
       "Intergenic Region                                                        \n",
       "Chr12: 289251-290213      5223.260730             0.0      3177.730496   \n",
       "Chr2: 275527-276253       4150.400945             0.0      4726.492493   \n",
       "Chr11: 613527-615372      3173.825349             0.0       292.733355   \n",
       "Chr11: 229524-231871      2484.335559             0.0         0.000000   \n",
       "Chr4: 1488983-1490589     2469.753335             0.0       171.753097   \n",
       "\n",
       "                       Gal4_DBD pvalue  \\\n",
       "Intergenic Region                        \n",
       "Chr12: 289251-290213      0.000000e+00   \n",
       "Chr2: 275527-276253       0.000000e+00   \n",
       "Chr11: 613527-615372      0.000000e+00   \n",
       "Chr11: 229524-231871      7.709607e-01   \n",
       "Chr4: 1488983-1490589     2.152167e-12   \n",
       "\n",
       "                                                                Sequence  \\\n",
       "Intergenic Region                                                          \n",
       "Chr12: 289251-290213   (T, G, C, C, A, A, G, C, T, G, T, A, T, G, G, ...   \n",
       "Chr2: 275527-276253    (C, A, T, A, C, A, A, T, G, G, A, G, C, T, G, ...   \n",
       "Chr11: 613527-615372   (C, G, C, C, G, C, T, A, G, A, A, C, T, G, G, ...   \n",
       "Chr11: 229524-231871   (T, T, A, T, G, C, C, T, A, A, A, G, A, T, T, ...   \n",
       "Chr4: 1488983-1490589  (T, A, C, A, T, C, G, A, A, G, A, G, A, T, T, ...   \n",
       "\n",
       "                          Log2FC Left Common Name Right Common Name  \\\n",
       "Intergenic Region                                                     \n",
       "Chr12: 289251-290213   -0.716954            EMP46              GAL2   \n",
       "Chr2: 275527-276253     0.187519             GAL7             GAL10   \n",
       "Chr11: 613527-615372   -3.438564            SRP40              PTR2   \n",
       "Chr11: 229524-231871  -11.278644            KTI12              HAP4   \n",
       "Chr4: 1488983-1490589  -3.845959             AGE1              SNA2   \n",
       "\n",
       "                                   gal4 pos  \\\n",
       "Intergenic Region                             \n",
       "Chr12: 289251-290213   [599, 713, 716, 796]   \n",
       "Chr2: 275527-276253              [327, 414]   \n",
       "Chr11: 613527-615372                     []   \n",
       "Chr11: 229524-231871                     []   \n",
       "Chr4: 1488983-1490589                    []   \n",
       "\n",
       "                                                              gal4 score  \\\n",
       "Intergenic Region                                                          \n",
       "Chr12: 289251-290213   [9.97, 12.27, 11.639999999999997, 16.119999999...   \n",
       "Chr2: 275527-276253             [13.490000000000002, 12.719999999999999]   \n",
       "Chr11: 613527-615372                                                  []   \n",
       "Chr11: 229524-231871                                                  []   \n",
       "Chr4: 1488983-1490589                                                 []   \n",
       "\n",
       "                       gal4 orientaion  \n",
       "Intergenic Region                       \n",
       "Chr12: 289251-290213   [-1, -1, 1, -1]  \n",
       "Chr2: 275527-276253             [1, 1]  \n",
       "Chr11: 613527-615372                []  \n",
       "Chr11: 229524-231871                []  \n",
       "Chr4: 1488983-1490589               []  "
      ]
     },
     "execution_count": 8,
     "metadata": {},
     "output_type": "execute_result"
    }
   ],
   "source": [
    "gal4_for_epsilon.head()"
   ]
  },
  {
   "cell_type": "code",
   "execution_count": 9,
   "metadata": {},
   "outputs": [],
   "source": [
    "def compute_distance(x):\n",
    "    if x:\n",
    "        return x[-1] - x[0]\n",
    "    else:\n",
    "        return 0"
   ]
  },
  {
   "cell_type": "code",
   "execution_count": 10,
   "metadata": {},
   "outputs": [],
   "source": [
    "gal4_for_epsilon[\"site_distance\"]=gal4_for_epsilon[\"gal4 pos\"].apply(lambda x: compute_distance(x))"
   ]
  },
  {
   "cell_type": "code",
   "execution_count": 11,
   "metadata": {},
   "outputs": [],
   "source": [
    "gal4_for_epsilon[\"num_sites\"]=gal4_for_epsilon[\"gal4 pos\"].apply(lambda x: len(x)) #all gal4 bound promoters excluding indirect interactions"
   ]
  },
  {
   "cell_type": "code",
   "execution_count": 12,
   "metadata": {},
   "outputs": [],
   "source": [
    "gal4_for_epsilon_all = gal4_for_epsilon.copy()  #all gal4 bound promoters"
   ]
  },
  {
   "cell_type": "code",
   "execution_count": 13,
   "metadata": {},
   "outputs": [
    {
     "data": {
      "text/plain": [
       "82"
      ]
     },
     "execution_count": 13,
     "metadata": {},
     "output_type": "execute_result"
    }
   ],
   "source": [
    "len(gal4_for_epsilon)"
   ]
  },
  {
   "cell_type": "code",
   "execution_count": 14,
   "metadata": {},
   "outputs": [],
   "source": [
    "site_num = gal4_for_epsilon_all[\"num_sites\"].tolist()"
   ]
  },
  {
   "cell_type": "code",
   "execution_count": 15,
   "metadata": {},
   "outputs": [],
   "source": [
    "epsilon_series_all = gal4_for_epsilon_all[\"gal4 score\"].apply(lambda x: [y*-1 for y in x])"
   ]
  },
  {
   "cell_type": "code",
   "execution_count": 16,
   "metadata": {},
   "outputs": [
    {
     "data": {
      "text/plain": [
       "Intergenic Region\n",
       "Chr12: 289251-290213     [-9.97, -12.27, -11.639999999999997, -16.11999...\n",
       "Chr2: 275527-276253             [-13.490000000000002, -12.719999999999999]\n",
       "Chr11: 613527-615372                                                    []\n",
       "Chr11: 229524-231871                                                    []\n",
       "Chr4: 1488983-1490589                                                   []\n",
       "Name: gal4 score, dtype: object"
      ]
     },
     "execution_count": 16,
     "metadata": {},
     "output_type": "execute_result"
    }
   ],
   "source": [
    "epsilon_series_all.head()"
   ]
  },
  {
   "cell_type": "code",
   "execution_count": 17,
   "metadata": {},
   "outputs": [],
   "source": [
    "\n",
    "max_sites_all = max(epsilon_series_all.apply(len))\n",
    "\n",
    "\n",
    "epsilon_series_all = epsilon_series_all.apply(lambda x: x+[999]*(max_sites_all-len(x)))\n",
    "\n"
   ]
  },
  {
   "cell_type": "code",
   "execution_count": 18,
   "metadata": {},
   "outputs": [
    {
     "data": {
      "text/plain": [
       "82"
      ]
     },
     "execution_count": 18,
     "metadata": {},
     "output_type": "execute_result"
    }
   ],
   "source": [
    "len(epsilon_series_all)"
   ]
  },
  {
   "cell_type": "code",
   "execution_count": 19,
   "metadata": {},
   "outputs": [],
   "source": [
    "\n",
    "f1=open('./epsilon_gal4_all.txt', 'w+')\n",
    "\n",
    "for line in epsilon_series_all:\n",
    "    print(\"\\t\".join(map(str,line)), file=f1)\n",
    "\n",
    "f1.close()"
   ]
  },
  {
   "cell_type": "markdown",
   "metadata": {},
   "source": [
    "## Running the Shea Ackers Model\n",
    "Most of what we've done so far is just load the data into a format we can manipulate readily.  Now we will keep only what columns we need and run the Shea Ackers Model. This model takes as input the free energy matrix for all Gal4p targets, the Gal4 concentration, and the free energy contribution of the cooperative contribution.  We used a Gal4 concentration of 27.5 nM based on the data in Ghaemmaghami et al (Nature 2003), who measured 166 Gal4 molecules / cell.  From this value, we computed a nuclear Gal4 concentration of 27.5 nM.  The cooperativity term was fit, but the model is relatively insensitive to both the energetic contribution of the cooperativity term and TF concentration."
   ]
  },
  {
   "cell_type": "code",
   "execution_count": 20,
   "metadata": {},
   "outputs": [],
   "source": [
    "\n",
    "hops_all = gal4_for_epsilon_all[\"Gal4_FL TPH BS\"]\n",
    "\n",
    "#This frame has the experimentally measured binding data at Gal4 targets"
   ]
  },
  {
   "cell_type": "code",
   "execution_count": 21,
   "metadata": {},
   "outputs": [],
   "source": [
    "f1=open('./TPHBS_gal4_all.txt', 'w+')\n",
    "\n",
    "for line in hops_all:\n",
    "    print(line,file=f1)\n",
    "\n",
    "f1.close()"
   ]
  },
  {
   "cell_type": "code",
   "execution_count": 22,
   "metadata": {},
   "outputs": [],
   "source": [
    "run thermo4"
   ]
  },
  {
   "cell_type": "code",
   "execution_count": 23,
   "metadata": {},
   "outputs": [],
   "source": [
    "epsilon = pd.read_csv(\"epsilon_gal4_all.txt\",sep=\"\\t\",header=None)"
   ]
  },
  {
   "cell_type": "code",
   "execution_count": 24,
   "metadata": {},
   "outputs": [],
   "source": [
    "hops = pd.read_csv(\"TPHBS_gal4_all.txt\",sep=\"\\t\",header=None)"
   ]
  },
  {
   "cell_type": "code",
   "execution_count": 25,
   "metadata": {},
   "outputs": [
    {
     "name": "stdout",
     "output_type": "stream",
     "text": [
      "Correlation = 0.73\n"
     ]
    },
    {
     "data": {
      "image/png": "[encoded data removed]",
      "text/plain": [
       "<Figure size 432x288 with 1 Axes>"
      ]
     },
     "metadata": {
      "needs_background": "light"
     },
     "output_type": "display_data"
    }
   ],
   "source": [
    "outframe_coop = fast_shea_ackers_series(epsilon,hops,1,-11,0.0000000275)"
   ]
  },
  {
   "cell_type": "code",
   "execution_count": 26,
   "metadata": {},
   "outputs": [],
   "source": [
    "sns.reset_orig()"
   ]
  },
  {
   "cell_type": "code",
   "execution_count": 27,
   "metadata": {},
   "outputs": [],
   "source": [
    "run ./gal4_scatterplot.py"
   ]
  },
  {
   "cell_type": "code",
   "execution_count": 28,
   "metadata": {},
   "outputs": [],
   "source": [
    "outframe_coop.columns = [\"Predicted Occupancy\",\"Observed Binding (TPH)\"]"
   ]
  },
  {
   "cell_type": "code",
   "execution_count": 29,
   "metadata": {},
   "outputs": [
    {
     "name": "stdout",
     "output_type": "stream",
     "text": [
      "0.7280109889280518\n",
      "(0.7301715859952924, 7.049596465257269e-15)\n"
     ]
    },
    {
     "data": {
      "image/png": "[encoded data removed]",
      "text/plain": [
       "<Figure size 648x432 with 1 Axes>"
      ]
     },
     "metadata": {
      "needs_background": "light"
     },
     "output_type": "display_data"
    }
   ],
   "source": [
    "scatterplot_cc(outframe_coop,\"Predicted Occupancy\",\"Observed Binding (TPH)\")"
   ]
  },
  {
   "cell_type": "markdown",
   "metadata": {},
   "source": [
    "## Highlight promoters with and without a Gal4p site \n",
    "Red dots represent promoters with a Gal4p site while purple are promoters without a site"
   ]
  },
  {
   "cell_type": "code",
   "execution_count": 30,
   "metadata": {},
   "outputs": [],
   "source": [
    "df = outframe_coop.loc[[5]]"
   ]
  },
  {
   "cell_type": "code",
   "execution_count": 31,
   "metadata": {},
   "outputs": [],
   "source": [
    "outframe_coop[\"sites\"] = site_num"
   ]
  },
  {
   "cell_type": "code",
   "execution_count": 32,
   "metadata": {},
   "outputs": [],
   "source": [
    "df2 = outframe_coop.query('sites > 0')\n",
    "combined_gal = pd.concat([df2, df])"
   ]
  },
  {
   "cell_type": "code",
   "execution_count": 33,
   "metadata": {},
   "outputs": [],
   "source": [
    "combined_gal = combined_gal.dropna()"
   ]
  },
  {
   "cell_type": "code",
   "execution_count": 34,
   "metadata": {},
   "outputs": [
    {
     "name": "stdout",
     "output_type": "stream",
     "text": [
      "0.7280109889280518\n",
      "(0.7301715859952924, 7.049596465257269e-15)\n"
     ]
    },
    {
     "data": {
      "image/png": "[encoded data removed]",
      "text/plain": [
       "<Figure size 648x432 with 1 Axes>"
      ]
     },
     "metadata": {
      "needs_background": "light"
     },
     "output_type": "display_data"
    }
   ],
   "source": [
    "scatterplot_cc_site(outframe_coop, combined_gal,\"Predicted Occupancy\", \"Observed Binding (TPH)\")"
   ]
  },
  {
   "cell_type": "code",
   "execution_count": null,
   "metadata": {},
   "outputs": [],
   "source": []
  }
 ],
 "metadata": {
  "kernelspec": {
   "display_name": "Python 3 (ipykernel)",
   "language": "python",
   "name": "python3"
  },
  "language_info": {
   "codemirror_mode": {
    "name": "ipython",
    "version": 3
   },
   "file_extension": ".py",
   "mimetype": "text/x-python",
   "name": "python",
   "nbconvert_exporter": "python",
   "pygments_lexer": "ipython3",
   "version": "3.8.12"
  }
 },
 "nbformat": 4,
 "nbformat_minor": 4
}
